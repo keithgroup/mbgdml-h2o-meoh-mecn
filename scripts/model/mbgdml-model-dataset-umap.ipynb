{
 "metadata": {
  "language_info": {
   "codemirror_mode": {
    "name": "ipython",
    "version": 3
   },
   "file_extension": ".py",
   "mimetype": "text/x-python",
   "name": "python",
   "nbconvert_exporter": "python",
   "pygments_lexer": "ipython3",
   "version": "3.8.10"
  },
  "orig_nbformat": 2,
  "kernelspec": {
   "name": "python3",
   "display_name": "Python 3.8.10 64-bit ('base': conda)"
  },
  "metadata": {
   "interpreter": {
    "hash": "1b40a011e729b217253a6703e3a50bab703685f13ebc69dadb4df728bd46068a"
   }
  },
  "interpreter": {
   "hash": "1b40a011e729b217253a6703e3a50bab703685f13ebc69dadb4df728bd46068a"
  }
 },
 "nbformat": 4,
 "nbformat_minor": 2,
 "cells": [
  {
   "cell_type": "markdown",
   "source": [
    "# mbGDML Model and Data Set UMAP\n",
    "\n",
    "Any cells that could require manual change is marked with the comment `# CHANGE` at the top."
   ],
   "metadata": {}
  },
  {
   "cell_type": "code",
   "execution_count": 1,
   "source": [
    "import os\n",
    "import numpy as np\n",
    "\n",
    "from mbgdml import utils\n",
    "from mbgdml.data import mbModel\n",
    "from mbgdml.data import dataSet\n",
    "from mbgdml.predict import mbPredict\n",
    "from mbgdml.analysis.structures import structureEmbedding\n",
    "\n",
    "from ase import Atoms\n",
    "from ase.visualize import view\n",
    "import nglview"
   ],
   "outputs": [
    {
     "output_type": "display_data",
     "data": {
      "application/vnd.jupyter.widget-view+json": {
       "version_major": 2,
       "version_minor": 0,
       "model_id": "569fad0de41347eabe837bdfdb76578c"
      },
      "text/plain": []
     },
     "metadata": {}
    }
   ],
   "metadata": {}
  },
  {
   "cell_type": "markdown",
   "source": [
    "Information and data needs to be collected from a variety of sources and is curated.\n",
    "Instead of recurating and recalculating everything for a reproducible UMAP, we provide a way to save a load in a numpy npz file.\n",
    "The next cell selects whether we are going to `'calculate'` or `'load'` in our data."
   ],
   "metadata": {}
  },
  {
   "cell_type": "code",
   "execution_count": 2,
   "source": [
    "# CHANGE\n",
    "mode = 'calculate'  # 'calculate' or 'load'"
   ],
   "outputs": [],
   "metadata": {}
  },
  {
   "cell_type": "markdown",
   "source": [
    "Next we need to specify where we are getting our data to calculate or load.\n",
    "\n",
    "## Calculate\n",
    "\n",
    "If we are going to calculate a new UMAP, we need to list paths to the npz file and which type of mbGDML data it is.\n",
    "We also need to specify a `save_dir` and `umap_name` to save this UMAP to.\n",
    "The three paths we need to specify are\n",
    "\n",
    "- `model_path`: Path to a trained mbGDML model.\n",
    "- `model_dset_path`: Path to the many-body data set that the model was trained on (after the < n body contributions were removed). This is used to determine the true/reference energies and forces.\n",
    "- `dset_path`: Path to the data set to be included in the UMAP embedding (with all n-body contributions).\n",
    "\n",
    "We also need to specify paths to create a temporary many-body data set for `dset_path` in the variable `mb_model_paths`.\n",
    "\n",
    "## Load\n",
    "\n",
    "Only the path to the saved UMAP data is needed.\n"
   ],
   "metadata": {}
  },
  {
   "cell_type": "code",
   "execution_count": 3,
   "source": [
    "# CHANGE\n",
    "overwrite = True\n",
    "\n",
    "if mode == 'calculate':\n",
    "    # The model to analyze.\n",
    "    model_path = '../../data/models/h2o/3h2o/140h2o.sphere.gfn2.md.500k.prod1.3h2o.cm10-model.mb-iterativetrain1000.npz'\n",
    "    # The data set used for training.\n",
    "    model_dset_path = '../../data/datasets/h2o/3h2o/140h2o.sphere.gfn2.md.500k.prod1.3h2o-dset.mb-cm10.npz'\n",
    "    # The data set we want to analyze against a model.\n",
    "    dset_path = '../../data/datasets/h2o/3h2o/16h2o.yoo.etal.boat.b.3h2o-dset.mb-cm10.npz'\n",
    "    # If you want to remove n-body contributions from the dset, these paths are for the lower order models.\n",
    "    mb_model_paths = [\n",
    "\n",
    "    ]\n",
    "    \n",
    "    save_dir = '../../analysis/umaps'\n",
    "    umap_name = '16h2o.yoo.etal.boat.b.3h2o.cm10-umap.mb-140h2o.sphere.gfn2.md.500k.prod1.3h2o.cm10.iterativetrain1000'\n",
    "\n",
    "    # Do not need to change anything below this line for 'calculate'.\n",
    "    if save_dir[-1] != '/':\n",
    "        save_dir += '/'\n",
    "    umap_path = save_dir + umap_name + '.npz'\n",
    "\n",
    "    if os.path.isfile(umap_path) and not overwrite:\n",
    "        raise FileExistsError(f'{umap_path} already exists and overwrite is False')\n",
    "\n",
    "    # Tries to avoid recalculating embedding.\n",
    "    try:\n",
    "        if _calculated == True:\n",
    "            pass\n",
    "    except NameError:\n",
    "        _calculated = False\n",
    "\n",
    "elif mode == 'load':\n",
    "    umap_path = '../../analysis/umaps/umap-112h2o.box.pm.gfn2.md.3h2o.model-12h2o.su.etal.3h2o.dset.npz'\n",
    "\n",
    "else:\n",
    "    raise ValueError(f'{mode} is not a valid option.')\n",
    "\n"
   ],
   "outputs": [],
   "metadata": {}
  },
  {
   "cell_type": "markdown",
   "source": [
    "These are just some useful utility functions."
   ],
   "metadata": {}
  },
  {
   "cell_type": "code",
   "execution_count": 4,
   "source": [
    "def get_filename(path):\n",
    "    \"\"\"The name of the file without the extension from a path.\n",
    "\n",
    "    If there are periods in the file name with no file extension, will\n",
    "    always remove the last one.\n",
    "\n",
    "    Parameters\n",
    "    ----------\n",
    "    path : :obj:`str`\n",
    "        Path to file.\n",
    "\n",
    "    Returns\n",
    "    -------\n",
    "    :obj:`str`\n",
    "        The file name without an extension.\n",
    "    \"\"\"\n",
    "    return os.path.splitext(os.path.basename(path))[0]"
   ],
   "outputs": [],
   "metadata": {}
  },
  {
   "cell_type": "code",
   "execution_count": 5,
   "source": [
    "def umap_embed(umap_data, n_neighbors, min_dist):\n",
    "    \"\"\"Performs the embedding \n",
    "\n",
    "    Parameters\n",
    "    ----------\n",
    "    umap_data : :obj:`mbgdml.analysis.structureEmbedding`\n",
    "        An already initialized and calculated UMAP data object.\n",
    "    n_neighbors : :obj:`int`\n",
    "        The size of the local neighborhood. Smaller numbers will push data\n",
    "        into their own regions whereas larger numbers promote a more\n",
    "        uniform, global picture.\n",
    "    min_dist : :obj:`float`\n",
    "        The minimum distance between two points. Lower values enable UMAP\n",
    "        to place points closer to each other. For these descriptors, lower\n",
    "        values are generally recommended to represent similar structures.\n",
    "    \"\"\"\n",
    "    umap_data.n_neighbors = n_neighbors\n",
    "    umap_data.min_dist = min_dist\n",
    "\n",
    "    umap_data.embed()\n",
    "    return umap_data"
   ],
   "outputs": [],
   "metadata": {}
  },
  {
   "cell_type": "markdown",
   "source": [
    "## Main Routine for 'calculate'"
   ],
   "metadata": {}
  },
  {
   "cell_type": "markdown",
   "source": [
    "The two main parameters for UMAP are `n_neighbors` and `min_dist`.\n",
    "For more information on these parameters see [this website](https://umap-learn.readthedocs.io/en/latest/parameters.html).\n",
    "Every UMAP for this purpose needs to have a `random_state` defined.\n",
    "If one is not choosen (by setting `random_state = None`), a random number is choosen by default."
   ],
   "metadata": {}
  },
  {
   "cell_type": "code",
   "execution_count": 6,
   "source": [
    "# CHANGE\n",
    "n_neighbors = 10  # 5\n",
    "min_dist = 0.1  # 0.1\n",
    "random_state = None"
   ],
   "outputs": [],
   "metadata": {}
  },
  {
   "cell_type": "code",
   "execution_count": 7,
   "source": [
    "def main_calculate(\n",
    "    model_path, model_dset_path, dset_path, mb_model_paths,\n",
    "    n_neighbors, min_dist, random_state=None\n",
    "):\n",
    "    \"\"\"\n",
    "\n",
    "    Parameters\n",
    "    ----------\n",
    "    model_path : :obj:`str`\n",
    "\n",
    "    model_dset_path : :obj:`str`\n",
    "\n",
    "    dset_path : :obj:`str`\n",
    "\n",
    "    mb_model_paths : :obj:`list` [:obj:`str`]\n",
    "\n",
    "    n_neighbors : :obj:`int`\n",
    "        The size of the local neighborhood. Smaller numbers will push data\n",
    "        into their own regions whereas larger numbers promote a more\n",
    "        uniform, global picture.\n",
    "    min_dist : :obj:`float`\n",
    "        The minimum distance between two points. Lower values enable UMAP\n",
    "        to place points closer to each other. For these descriptors, lower\n",
    "        values are generally recommended to represent similar structures.\n",
    "    random_state : :obj:`int` or :obj:`None`, optional\n",
    "    \"\"\"\n",
    "    # INITIALIZES UMAP ANALYSIS OBJECT\n",
    "    umap_data = structureEmbedding(\n",
    "        n_neighbors=n_neighbors, min_dist=min_dist,\n",
    "        random_state=random_state\n",
    "    )\n",
    "\n",
    "    # MODEL INFORMATION\n",
    "    # Loading model and model data set.\n",
    "    print('Gathering model data')\n",
    "    model_dset = dataSet(model_dset_path)\n",
    "    model = mbModel()\n",
    "    model.load(model_path)\n",
    "    train_idxs = model.model['idxs_train']\n",
    "    model_info = {\n",
    "        'name': get_filename(model_path),\n",
    "        'md5': model.model['md5'],\n",
    "        'type': 'm',\n",
    "        'quantity': len(train_idxs)\n",
    "    }\n",
    "\n",
    "    # Getting UMAP relevant data for model contribution.\n",
    "    umap_data.z = model.model['z']\n",
    "    umap_data.R = model_dset.R[train_idxs]\n",
    "    umap_data.R_desc = model.model['R_desc'].T\n",
    "\n",
    "    umap_data.E_true = model_dset.E[train_idxs]\n",
    "    umap_data.F_true = model_dset.F[train_idxs]\n",
    "\n",
    "    # DATA SET INFORMATION\n",
    "    # Loading data set.\n",
    "    print('Gathering data set data')\n",
    "    dset = dataSet(dset_path)\n",
    "    dset_info = {\n",
    "        'name': get_filename(dset_path),\n",
    "        'md5': dset.md5,\n",
    "        'type': 'd',\n",
    "        'quantity': dset.n_R,\n",
    "        'entity_ids': dset.entity_ids,\n",
    "        'comp_ids': dset.comp_ids,\n",
    "    }\n",
    "    assert np.all((dset.z, umap_data.z))\n",
    "\n",
    "    # Getting mb data set (removes < n contributions).\n",
    "    if len(mb_model_paths) > 0:\n",
    "        print('Creating many-body data set')\n",
    "        dset_mb = dataSet()\n",
    "        dset_mb.create_mb(dset, mb_model_paths)\n",
    "        dset_mb_R_desc, _ = umap_data.get_R_desc(dset_mb.z, dset_mb.R)\n",
    "\n",
    "        dset_R = dset_mb.R\n",
    "        dset_R_desc = dset_mb_R_desc\n",
    "        dset_E = dset_mb.E\n",
    "        dset_F = dset_mb.F\n",
    "    else:\n",
    "        # Cannot make many-body data set with 1mer models.\n",
    "        dset_R = dset.R\n",
    "        dset_R_desc, _ = umap_data.get_R_desc(dset.z, dset.R)\n",
    "        dset_E = dset.E\n",
    "        dset_F = dset.F\n",
    "\n",
    "    # Adding data set information.\n",
    "    umap_data.R = np.concatenate((umap_data.R, dset_R), axis=0)\n",
    "    umap_data.R_desc = np.concatenate(\n",
    "        (umap_data.R_desc, dset_R_desc), axis=0\n",
    "    )\n",
    "    umap_data.E_true = np.concatenate((umap_data.E_true, dset_E), axis=0)\n",
    "    umap_data.F_true = np.concatenate((umap_data.F_true, dset_F), axis=0)\n",
    "\n",
    "    # DATA/SOURCE INFORMATION\n",
    "    umap_data.data_info = [model_info, dset_info]\n",
    "\n",
    "    # PREDICTION DATA\n",
    "    print('Predicting energies and forces')\n",
    "    predict = mbPredict([model_path])  # Needs to be a list.\n",
    "    umap_data.E_pred = np.full(umap_data.E_true.shape, np.nan)\n",
    "    umap_data.F_pred = np.full(umap_data.F_true.shape, np.nan)\n",
    "\n",
    "    # Loop through all R and predict the energies and forces.\n",
    "    for i in range(len(umap_data.R)):\n",
    "        e, f = predict.predict(\n",
    "            umap_data.z, umap_data.R[i],\n",
    "            dset_info['entity_ids'], dset_info['comp_ids']\n",
    "        )\n",
    "        umap_data.E_pred[i] = e\n",
    "        umap_data.F_pred[i] = f\n",
    "    \n",
    "    # EMBEDDING\n",
    "    print('Calculating UMAP embedding')\n",
    "    umap_data = umap_embed(\n",
    "        umap_data, umap_data.n_neighbors, umap_data.min_dist\n",
    "    )\n",
    "\n",
    "    # RETURNING\n",
    "    print('Done')\n",
    "    return umap_data"
   ],
   "outputs": [],
   "metadata": {}
  },
  {
   "cell_type": "code",
   "execution_count": 8,
   "source": [
    "if mode == 'calculate' and not _calculated:\n",
    "    umap_data = main_calculate(\n",
    "        model_path, model_dset_path, dset_path, mb_model_paths,\n",
    "        n_neighbors, min_dist, random_state=random_state\n",
    "    )\n",
    "    umap_data.save(umap_name, umap_data.umap_data, save_dir)\n",
    "    _calculated = True"
   ],
   "outputs": [
    {
     "output_type": "stream",
     "name": "stdout",
     "text": [
      "Gathering model data\n",
      "Gathering data set data\n",
      "Predicting energies and forces\n",
      "Calculating UMAP embedding\n",
      "Done\n"
     ]
    }
   ],
   "metadata": {}
  },
  {
   "cell_type": "markdown",
   "source": [
    "## Main routine for 'load'"
   ],
   "metadata": {}
  },
  {
   "cell_type": "code",
   "execution_count": 9,
   "source": [
    "def main_load(umap_path):\n",
    "    \"\"\"\n",
    "\n",
    "    Parameters\n",
    "    ----------\n",
    "    umap_path : :obj:`str`\n",
    "        Path to UMAP data npz file.\n",
    "    \"\"\"\n",
    "    umap_data = structureEmbedding()\n",
    "    umap_data.load(umap_path)\n",
    "    return umap_data"
   ],
   "outputs": [],
   "metadata": {}
  },
  {
   "cell_type": "code",
   "execution_count": 10,
   "source": [
    "if mode == 'load':\n",
    "    umap_data = main_load(umap_path)"
   ],
   "outputs": [],
   "metadata": {}
  },
  {
   "cell_type": "markdown",
   "source": [
    "## Parameter turning"
   ],
   "metadata": {}
  },
  {
   "cell_type": "code",
   "execution_count": 11,
   "source": [
    "import plotly.graph_objects as go"
   ],
   "outputs": [],
   "metadata": {}
  },
  {
   "cell_type": "code",
   "execution_count": 24,
   "source": [
    "# Embedding parameters\n",
    "n_neighbors = 5\n",
    "min_dist = 0.05\n",
    "umap_data = umap_embed(umap_data, n_neighbors, min_dist)\n",
    "\n",
    "# umap_data.save(umap_name, umap_data.umap_data, save_dir)  # Uncomment if you want to save\n",
    "\n",
    "# X,Y embedding coordinates\n",
    "embedding_x = umap_data.embedding[:, 0]\n",
    "embedding_y = umap_data.embedding[:, 1]\n",
    "\n",
    "# COLORS\n",
    "# Model is alway first, then the data set.\n",
    "assert umap_data.data_info[0]['type'] == 'm'\n",
    "assert umap_data.data_info[1]['type'] == 'd'\n",
    "\n",
    "model_n_R = umap_data.data_info[0]['quantity']\n",
    "dset_n_R = umap_data.data_info[1]['quantity']\n",
    "\n",
    "# True Energy\n",
    "model_E_true = umap_data.E_true[:model_n_R]\n",
    "dset_E_true = umap_data.E_true[model_n_R:]\n",
    "\n",
    "# Predicted Energy\n",
    "model_E_pred = umap_data.E_pred[:model_n_R]\n",
    "dset_E_pred = umap_data.E_pred[model_n_R:]\n",
    "\n",
    "# Energy prediction error\n",
    "E_error = umap_data.E_true - umap_data.E_pred\n",
    "model_E_error = E_error[:model_n_R]\n",
    "dset_E_error = E_error[model_n_R:]\n",
    "\n",
    "# FIGURE \n",
    "\n",
    "fig = go.Figure()\n",
    "\n",
    "smallest_size = 8  # 8\n",
    "exp_scale = 20  # 1.3\n",
    "\n",
    "\n",
    "\n",
    "model_customdata = np.dstack((model_E_true, model_E_error))[0]\n",
    "fig.add_scatter(\n",
    "    name='Model',\n",
    "    x=embedding_x[0:model_n_R],\n",
    "    y=embedding_y[0:model_n_R],\n",
    "    mode='markers',\n",
    "    marker_symbol='circle',\n",
    "    marker=dict(\n",
    "        color='#636EFA',\n",
    "        size=smallest_size + np.exp(exp_scale*model_E_error),\n",
    "        opacity=0.3,\n",
    "        line=dict(\n",
    "            width=1.5\n",
    "        )\n",
    "    ),\n",
    "    customdata=model_customdata,\n",
    "    hovertemplate=\"<br>\".join([\n",
    "        \"%{text}\",\n",
    "        \"E true: %{customdata[0]:.5f}\",\n",
    "        \"E error: %{customdata[1]:.5f}\"\n",
    "    ]),\n",
    "    text = [f'R index: {i}' for i in range(0, model_n_R)]\n",
    ")\n",
    "\n",
    "dset_customdata = np.dstack((dset_E_true, dset_E_error))[0]\n",
    "fig.add_scatter(\n",
    "    name='Data Set',\n",
    "    x=embedding_x[model_n_R:],\n",
    "    y=embedding_y[model_n_R:],\n",
    "    mode='markers',\n",
    "    marker_symbol='circle-open',\n",
    "    marker=dict(\n",
    "        color='#EF553B',\n",
    "        size=smallest_size + np.exp(exp_scale*dset_E_error),\n",
    "        opacity=0.7,\n",
    "        line=dict(\n",
    "            width=1.5\n",
    "        )\n",
    "    ),\n",
    "    customdata=dset_customdata,\n",
    "    hovertemplate=\"<br>\".join([\n",
    "        \"%{text}\",\n",
    "        \"E true: %{customdata[0]:.5f}\",\n",
    "        \"E error: %{customdata[1]:.5f}\"\n",
    "    ]),\n",
    "    text = [f'R index: {i}' for i in range(model_n_R, model_n_R + dset_n_R)]\n",
    ")\n",
    "\n",
    "# Background colors\n",
    "fig.update_layout(\n",
    "    width=1200,\n",
    "    height=800,\n",
    "    plot_bgcolor='rgba(0, 0, 0, 0)',\n",
    "    paper_bgcolor='rgba(255, 255, 255 , 1)'\n",
    ")\n",
    "\n",
    "\n",
    "fig.show()"
   ],
   "outputs": [
    {
     "output_type": "display_data",
     "data": {
      "application/vnd.plotly.v1+json": {
       "config": {
        "plotlyServerURL": "https://plot.ly"
       },
       "data": [
        {
         "customdata": [
          [
           -1.9340733056233148,
           -0.09993946149916155
          ],
          [
           -1.900576849890058,
           -0.05427442661311943
          ],
          [
           -1.6517423604527721,
           -0.12897440291999374
          ],
          [
           -1.4549654295333312,
           -0.08555900378996739
          ],
          [
           -1.3918542917381274,
           -0.01822047734458465
          ],
          [
           -1.3551663227990502,
           -0.039303014767938294
          ],
          [
           -1.3346737458923599,
           -0.08110963691433426
          ],
          [
           -1.2797930223605363,
           -0.03060467138129752
          ],
          [
           -1.1443024316758965,
           -0.0023372725772787817
          ],
          [
           -1.1231848553507007,
           -0.07316768055170542
          ],
          [
           -1.0969166812501498,
           -0.020740827640111092
          ],
          [
           -1.0354364405357046,
           0.034270504213054664
          ],
          [
           -0.9254026542475913,
           -0.03630015850649215
          ],
          [
           -0.8942963820663863,
           -0.0181590954089188
          ],
          [
           -0.8237781224161154,
           0.04742416740918998
          ],
          [
           -0.7268963071837788,
           0.034129097024560906
          ],
          [
           -0.6845695381052792,
           -0.029228848521597683
          ],
          [
           -0.6579744315895368,
           -0.07009391597966896
          ],
          [
           -0.6409224891394842,
           0.015897329983999953
          ],
          [
           -0.6099228935927385,
           -0.028483895599492826
          ],
          [
           -0.5731376607727725,
           -0.04956275600125082
          ],
          [
           -0.547488838492427,
           -0.042270661040674895
          ],
          [
           -0.4852279759434168,
           0.05663175408699317
          ],
          [
           -0.4783121940708952,
           -0.02097398573823739
          ],
          [
           -0.4289617114845896,
           0.0008847754070302472
          ],
          [
           -0.38887264118966414,
           -0.06070261069544358
          ],
          [
           -0.3607595892462996,
           -0.003159903695632238
          ],
          [
           -0.32490746292023687,
           -0.0009545491702738218
          ],
          [
           -0.30416576476272894,
           -0.0016374025071854703
          ],
          [
           -0.2542015779617941,
           -0.030104741323157214
          ],
          [
           -0.2426704638346564,
           0.0757665294513572
          ],
          [
           -0.1903662941622315,
           0.011855176140670665
          ],
          [
           -0.20857975662511308,
           -0.04473005510226358
          ],
          [
           -0.18455869395984337,
           -0.006332561548333615
          ],
          [
           -0.12673432340670843,
           -0.01924105298530776
          ],
          [
           -0.14929328903963324,
           0.007086580284521915
          ],
          [
           -0.1317537717113737,
           0.003561056888429448
          ],
          [
           -0.10042159613658441,
           0.0221209036608343
          ],
          [
           -0.09732546443410683,
           0.01244413600943517
          ],
          [
           -0.09359241055790335,
           0.0060812181327492
          ],
          [
           -0.0697708958905423,
           0.03738740189874079
          ],
          [
           -0.05347698488185415,
           0.014795386778132524
          ],
          [
           -0.06231169078819221,
           0.009071874526853207
          ],
          [
           -0.08527163492544787,
           0.02143014134344412
          ],
          [
           -0.07559857634623768,
           0.018830191569577437
          ],
          [
           -0.06396580576983979,
           0.023958672805747483
          ],
          [
           -0.03677833029360045,
           0.011742641028831713
          ],
          [
           -0.05143757908808766,
           0.009238275706593413
          ],
          [
           -0.04397021636395948,
           0.024602318233519327
          ],
          [
           -0.03340044678770937,
           0.009834576834691688
          ],
          [
           -0.02274659089744091,
           0.022122208843939006
          ],
          [
           -0.035530841421859805,
           0.02095856915548211
          ],
          [
           -0.04809107109031174,
           0.021723201833083294
          ],
          [
           -0.022299804222711828,
           0.029492143345123623
          ],
          [
           -0.03955756976210978,
           0.008050358752370812
          ],
          [
           -0.04045616328949109,
           0.035000714648049325
          ],
          [
           -0.029363050853135064,
           0.01591890081181191
          ],
          [
           -0.045503849534725305,
           0.028591453192348126
          ],
          [
           -0.03886166172014782,
           0.040367224682995584
          ],
          [
           -0.02941074151021894,
           0.020018707509734668
          ],
          [
           -0.024521815190382767,
           0.020091332546144258
          ],
          [
           -0.02059988099063048,
           0.016318597794452216
          ],
          [
           -0.029679943101655226,
           0.030877216144290287
          ],
          [
           -0.011734427156625316,
           0.02848013656330295
          ],
          [
           -0.014674936574010644,
           0.01010634897829732
          ],
          [
           0.003191513183992356,
           0.024451306380797178
          ],
          [
           -0.007784882509440649,
           0.019037624522752594
          ],
          [
           -0.014237562456401065,
           0.017719669587677345
          ],
          [
           0.00033760007499950007,
           0.01607576647802489
          ],
          [
           0.007084581928211264,
           0.004281129848095588
          ],
          [
           -0.003798942343564704,
           0.014460363745456561
          ],
          [
           -0.019625986300525256,
           0.022992162776063196
          ],
          [
           -0.0009343615965917706,
           0.02287510398309678
          ],
          [
           0.0028526580645120703,
           0.010439633995702025
          ],
          [
           0.011263795066042803,
           -0.0017429114232072607
          ],
          [
           0.0027472364672576077,
           0.011477798638225067
          ],
          [
           0.01038653681462165,
           0.026006007552496158
          ],
          [
           -0.007176198327215388,
           0.028244890127098188
          ],
          [
           -0.003578059026040137,
           0.022895209142006934
          ],
          [
           -0.005938122150837444,
           0.016554279034608044
          ],
          [
           0.010431717484607361,
           0.03415216131543275
          ],
          [
           0.0013146323399269022,
           0.014233778791094664
          ],
          [
           0.010321903333533555,
           -0.0337898918078281
          ],
          [
           0.00328124708175892,
           0.012924852177093271
          ],
          [
           0.0010322531015845016,
           0.006958632337045856
          ],
          [
           0.001704315742244944,
           -0.0013296797696966678
          ],
          [
           -0.00597953780379612,
           0.015729929014923982
          ],
          [
           -0.010986435874656308,
           0.035388884651183616
          ],
          [
           -0.014012914078193717,
           0.018293556830030866
          ],
          [
           -0.00009224387031281367,
           0.02213994008343434
          ],
          [
           0.0057712046400411054,
           0.015782309506903403
          ],
          [
           0.0041472101220279,
           0.02057358258025488
          ],
          [
           0.0053765011834912,
           0.011890651716385037
          ],
          [
           -0.008155113129760139,
           0.01631402592465747
          ],
          [
           -0.008459455180855002,
           0.027249241866229568
          ],
          [
           0.008819018155918457,
           0.040062935455353
          ],
          [
           0.009412014616827946,
           0.023787464473571163
          ],
          [
           0.005154990321898367,
           0.022032177737855818
          ],
          [
           0.009898961972794496,
           0.004777522161020897
          ],
          [
           -0.005325672886101529,
           0.02842226452776231
          ],
          [
           -0.010468740510987118,
           0.03690179678960703
          ],
          [
           -0.0016867454614839517,
           0.036754232343810145
          ],
          [
           0.010811988257046323,
           0.00811810127197532
          ],
          [
           0.0010247229802189395,
           0.01569006398494821
          ],
          [
           0.012578427405969705,
           0.03145289615349611
          ],
          [
           0.0016158368744072504,
           0.01217020222247811
          ],
          [
           0.00698982802714454,
           0.021958755743980873
          ],
          [
           0.010961963031149935,
           0.020171872740320396
          ],
          [
           -0.010065251968626399,
           0.01484899548086105
          ],
          [
           0.001704943242657464,
           0.0060072473643231206
          ],
          [
           0.005251626753306482,
           0.019385120285733137
          ],
          [
           0.003876753537042532,
           -0.006849628254713025
          ],
          [
           -0.005656997913320083,
           0.0266962664827588
          ],
          [
           -0.001528613101982046,
           0.018859224212064873
          ],
          [
           0.00422502127912594,
           0.02051786117226584
          ],
          [
           0.0064106368299690075,
           0.009710876394819934
          ],
          [
           0.0017137283793999813,
           0.014482222693914082
          ],
          [
           0.011503503701533191,
           0.019734174871700816
          ],
          [
           0.0005779362472821958,
           0.015405342281155754
          ],
          [
           0.011267560155829415,
           0.006848022079793736
          ],
          [
           -0.0010347630668547936,
           0.020528616958472412
          ],
          [
           0.007463597663445398,
           0.021393939125118777
          ],
          [
           0.0024303441750817,
           0.017919706355314702
          ],
          [
           0.009857546305283904,
           -0.003279268741607666
          ],
          [
           -0.014726392335433047,
           0.029729255598795135
          ],
          [
           0.001510415313532576,
           0.018515428731916472
          ],
          [
           -0.000606801659159828,
           0.031510783526755404
          ],
          [
           0.004755894289701246,
           0.018257105592056178
          ],
          [
           -0.0026411873477627523,
           0.016623607189103495
          ],
          [
           -0.0010956315527437255,
           0.023341550913755782
          ],
          [
           -0.006121354897913989,
           0.009861050501058344
          ],
          [
           0.013391052198130637,
           0.019384768267627805
          ],
          [
           0.01624559278570814,
           0.06046955606871052
          ],
          [
           0.04505204270390095,
           0.012820362237107474
          ],
          [
           0.035213321665651165,
           0.01784227018652018
          ],
          [
           0.019541272522474173,
           0.022563034064660314
          ],
          [
           0.04309923319669906,
           0.027297474225633778
          ],
          [
           0.014494213894067798,
           -0.01827758849685779
          ],
          [
           0.023985294632439036,
           0.014385379508894403
          ],
          [
           0.02996922495367471,
           0.038302613436826505
          ],
          [
           0.040880359716538806,
           0.02945321752486052
          ],
          [
           0.04402606476651272,
           0.03369343265512725
          ],
          [
           0.01707139524660306,
           0.019928809088014532
          ],
          [
           0.018837834410078358,
           0.014555252790160012
          ],
          [
           0.0147188622286194,
           0.023606924318301026
          ],
          [
           0.014893937390297651,
           0.0077569554559886456
          ],
          [
           0.016937735730607528,
           0.034735955072392244
          ],
          [
           0.014509274071315303,
           0.018270600266987458
          ],
          [
           0.021033490083937068,
           0.02565764182509156
          ],
          [
           0.02190384570712922,
           0.026478350737306755
          ],
          [
           0.01984184956381796,
           0.015782963477249723
          ],
          [
           0.021095613468787633,
           0.02665106904169079
          ],
          [
           0.013905609943321906,
           0.006226508747204207
          ],
          [
           0.030921156867407262,
           0.04222592932637781
          ],
          [
           0.01268698659259826,
           0.022666134871542454
          ],
          [
           0.03756522716867039,
           0.002387556749454234
          ],
          [
           0.06558666272030678,
           0.005035530295572244
          ],
          [
           0.050217700671055354,
           0.030436929329880513
          ],
          [
           0.07092614087741822,
           0.011854137992486358
          ],
          [
           0.06945839613763383,
           0.0388836031415849
          ],
          [
           0.0691371113571222,
           0.014021437433257233
          ],
          [
           0.057002333138370886,
           0.02532275827252306
          ],
          [
           0.062294748015119694,
           0.05591216775064822
          ],
          [
           0.05824605694215279,
           0.027536590161616914
          ],
          [
           0.06035762626561336,
           0.044447728752857074
          ],
          [
           0.050045135569234844,
           0.031115063371544238
          ],
          [
           0.09762478645279771,
           0.04271483248885488
          ],
          [
           0.1097714872812503,
           0.011327362946758512
          ],
          [
           0.09299376651324565,
           0.007327106875891332
          ],
          [
           0.12069266221078578,
           0.03753915302513633
          ],
          [
           0.13330560260510538,
           0.003913604203262366
          ],
          [
           0.1460710279061459,
           0.039972750877495855
          ],
          [
           0.1757992892016773,
           -0.0037475817880476825
          ],
          [
           0.15091289101110306,
           0.015925651634461246
          ],
          [
           0.179320244853443,
           0.026898736869043205
          ],
          [
           0.19779663382360013,
           -0.018701083019550424
          ],
          [
           0.23122908361256123,
           0.08649767935276031
          ],
          [
           0.2670623845915543,
           0.060103968673502095
          ],
          [
           0.3045052474262775,
           0.0742171591045917
          ],
          [
           0.32501225702435477,
           0.0349084463014151
          ],
          [
           0.3523591199045768,
           -0.09698393616417889
          ],
          [
           0.39110343740321696,
           0.004778601578436792
          ],
          [
           0.44020856377028394,
           -0.0033846047444967553
          ],
          [
           0.4594304339843802,
           -0.00717369798803702
          ],
          [
           0.5046694744887645,
           0.07837732746702386
          ],
          [
           0.5117170334196999,
           0.02742041282908758
          ],
          [
           0.5412030760999187,
           0.04245983444707235
          ],
          [
           0.5960530517186271,
           0.03358512274280656
          ],
          [
           0.6200101083741174,
           0.008976286779216025
          ],
          [
           0.6474429401132511,
           0.12704916887742002
          ],
          [
           0.6738566963540507,
           -0.00041904113459168
          ],
          [
           0.7056293836358236,
           0.10063534074288327
          ],
          [
           0.7681983532529557,
           0.02903950541804079
          ],
          [
           0.7794866211843328,
           -0.11333278004167369
          ],
          [
           0.8078374992765021,
           -0.07762962396373041
          ],
          [
           0.8702979097506613,
           -0.038029524926969316
          ],
          [
           0.9112686308289994,
           -0.0002772800435195677
          ],
          [
           1.0776220199477393,
           -0.0835178607085254
          ],
          [
           1.1922623533027945,
           0.03275681943341624
          ],
          [
           1.3653972372412682,
           0.06594961951486766
          ],
          [
           -0.19191436000255635,
           -0.024907812672608998
          ],
          [
           0.1461846071179025,
           -0.05273703398415819
          ],
          [
           0.13370971875701798,
           -0.02834667434945004
          ],
          [
           0.05193017404235434,
           -0.047916041759890504
          ],
          [
           0.030047663662116975,
           -0.03682857338571921
          ],
          [
           -0.030946884719014633,
           -0.1366639662956004
          ],
          [
           0.6170664614473935,
           0.06266640775720589
          ],
          [
           0.5897710543431458,
           -0.01773842167312978
          ],
          [
           -0.1856273425873951,
           -0.04213849749794463
          ],
          [
           0.17564554941054666,
           -0.06721970476064598
          ],
          [
           -0.2284937698059366,
           0.03279130378359696
          ],
          [
           0.11972378756763646,
           -0.01937642468692502
          ],
          [
           -0.32733027705398854,
           0.01661256946681533
          ],
          [
           -0.2051824203808792,
           0.0970891485339962
          ],
          [
           0.19488812740746653,
           -0.042380173901619855
          ],
          [
           -0.2451729715903639,
           -0.00604060113982996
          ],
          [
           0.2177978708568844,
           -0.11243189231754513
          ],
          [
           0.09371226485382067,
           -0.04899903205659939
          ],
          [
           0.23842096970474813,
           0.016268093502731062
          ],
          [
           -0.17114881650195457,
           0.014124009845545515
          ],
          [
           0.1169828262354713,
           -0.006330874428385869
          ],
          [
           0.5508836647786666,
           0.020843595411861315
          ],
          [
           0.6183308930776548,
           -0.01525737057090737
          ],
          [
           0.4061837451008614,
           -0.012118135375203565
          ],
          [
           0.795157415268477,
           0.008084359054919332
          ],
          [
           0.4826457745002699,
           0.027404461296100635
          ],
          [
           0.12410192118113628,
           0.014041038077266421
          ],
          [
           -0.43056939078087453,
           -0.003656054163002409
          ],
          [
           -1.3491303091359441,
           -0.2121731903826003
          ],
          [
           0.2956203408102738,
           -0.04429224219347816
          ],
          [
           -1.1408222641257453,
           -0.11216116253490327
          ],
          [
           -0.3026553494637483,
           -0.19943169595353538
          ],
          [
           0.2686054303776473,
           -0.019024034147150815
          ],
          [
           0.05251940542802913,
           -0.04726061475957977
          ],
          [
           0.12818512534431648,
           0.05141150338749867
          ],
          [
           0.2001516768723377,
           0.11355827863008017
          ],
          [
           0.23951848375145346,
           -0.008562527946196496
          ],
          [
           0.17228774615796283,
           -0.029600143141578883
          ],
          [
           0.04781371189164929,
           0.08800659081316553
          ],
          [
           -0.16023642673098948,
           0.023576957537443377
          ],
          [
           -0.005208328628214076,
           -0.02343535775435157
          ],
          [
           0.20417777767579537,
           -0.031033894469146617
          ],
          [
           -0.1410296167669003,
           0.05426756449014647
          ],
          [
           -0.5565965110145044,
           0.027823572076158598
          ],
          [
           -0.29714016869547777,
           0.023045301815727726
          ],
          [
           0.11024839453602908,
           0.0033717484839144163
          ],
          [
           -0.07060360097966623,
           0.018497561643016525
          ],
          [
           0.19752115717710694,
           0.004827609831409063
          ],
          [
           0.5346380719420267,
           0.14469073845248204
          ],
          [
           0.18749983083398547,
           0.16878204116073903
          ],
          [
           0.5215099462584476,
           0.13244141655013664
          ],
          [
           0.04643883864628151,
           -0.0015328452573157847
          ],
          [
           -0.19454989982477855,
           0.00048706420056987554
          ],
          [
           0.1725644778853166,
           -0.03376764758286299
          ],
          [
           -0.027035618193622213,
           -0.08457941549568204
          ],
          [
           0.13352334844967118,
           -0.05950802475126693
          ],
          [
           -0.5625986391169135,
           0.02498970278975321
          ],
          [
           0.3095385009291931,
           0.07138226550159743
          ],
          [
           0.38434641536150593,
           0.008240812181611545
          ],
          [
           -0.2188960124112782,
           -0.020907637204800267
          ],
          [
           -0.5004940264479956,
           -0.0029807896207785234
          ],
          [
           0.1085145858960459,
           -0.19581671569903847
          ],
          [
           0.6254004148140666,
           0.012764202903781552
          ],
          [
           -0.3448026508485782,
           0.009160841356788296
          ],
          [
           0.011009653760993388,
           0.022353801257850137
          ],
          [
           0.2779390063660685,
           -0.017446757497964427
          ],
          [
           0.32299355908617144,
           0.06695309597853338
          ],
          [
           0.4531076485509402,
           -0.06938383877422893
          ],
          [
           -0.31371081135148415,
           0.056582452925795224
          ],
          [
           0.19378559327014955,
           0.022450401804235298
          ],
          [
           -0.20914953528699698,
           0.0008601908266427927
          ],
          [
           -0.11337966682913247,
           -0.018462420921423472
          ],
          [
           0.07103658249252476,
           -0.006426386855309829
          ],
          [
           -0.41130108485231176,
           0.008161821693647653
          ],
          [
           0.24537879473064095,
           0.11646585853304714
          ],
          [
           0.13123858643666608,
           0.10376471542258514
          ],
          [
           -0.40942043896211544,
           -0.006586325973330531
          ],
          [
           -0.3326377521516406,
           -0.04399677224137122
          ],
          [
           0.41230635499960044,
           0.035947382370068226
          ],
          [
           -0.3255236773111392,
           -0.01683569946908392
          ],
          [
           -0.18881195317953825,
           -0.1010940505657345
          ],
          [
           -0.12638605562824523,
           -0.06625346131477272
          ],
          [
           -1.017609523863939,
           -0.1502146228667698
          ],
          [
           0.2733061038743472,
           -0.11663209916150663
          ],
          [
           -0.027907856325327884,
           -0.1321686344963382
          ],
          [
           -0.1881417730692192,
           -0.00676164807373425
          ],
          [
           0.2145574118985678,
           0.005491864219948184
          ],
          [
           0.02399345228332095,
           -0.030839748942526057
          ],
          [
           0.486724586073251,
           -0.04934156643139431
          ],
          [
           -0.01272149957367219,
           -0.004803545569302514
          ],
          [
           0.3034296961486689,
           0.0006254588006413542
          ],
          [
           0.10791719681583345,
           -0.023451824788935483
          ],
          [
           0.309476377464307,
           -0.01396719445619965
          ],
          [
           -1.079700331305503,
           -0.09528072304965463
          ],
          [
           0.010752374844742008,
           -0.0005697674787370488
          ],
          [
           0.16059473468340002,
           0.1316736906010192
          ],
          [
           0.07493655387952458,
           0.008982490209746175
          ],
          [
           0.13368524587713182,
           -0.07439307414460927
          ],
          [
           0.28156224601116264,
           -0.04238578213698929
          ],
          [
           0.5067145278590033,
           -0.0488953076855978
          ],
          [
           -0.7066804619971663,
           0.10942197195254266
          ],
          [
           -1.4549654295333312,
           -0.08555900378996739
          ],
          [
           -0.3912954553088639,
           0.014049525576410815
          ],
          [
           0.13168349066836527,
           0.06975138090638211
          ],
          [
           0.17571583048265893,
           0.04243398406833876
          ],
          [
           0.08180088002700359,
           -0.06031922157853842
          ],
          [
           0.9134241259089322,
           0.04962579304265091
          ],
          [
           -0.030946884719014633,
           -0.1366639662956004
          ],
          [
           -0.0417915034777252,
           0.00008708082896191627
          ],
          [
           -0.07749930258432869,
           -0.025988115710788406
          ],
          [
           0.6254004148140666,
           0.012764202903781552
          ],
          [
           0.14710202597780153,
           0.10991566121811047
          ],
          [
           -0.2575957767185173,
           -0.00349749196175253
          ],
          [
           -0.026313354741432704,
           0.02059210136940237
          ],
          [
           -0.016158996477315668,
           0.03974906252551591
          ],
          [
           0.042826894132304005,
           0.008361111787962727
          ],
          [
           -0.09840603568591177,
           -0.011352371773682535
          ],
          [
           -0.4170471890611225,
           -0.002914170363510493
          ],
          [
           0.12806715354236076,
           0.03621120440220693
          ],
          [
           0.4138581859515398,
           0.11534525019669672
          ],
          [
           0.5346380719420267,
           0.14469073845248204
          ],
          [
           0.0372345296855201,
           0.007720007743046153
          ],
          [
           -0.04635726242122473,
           0.018934594925667625
          ],
          [
           -1.3491303091359441,
           -0.2121731903826003
          ],
          [
           0.2956203408102738,
           -0.04429224219347816
          ],
          [
           -0.09529045123781543,
           -0.08704380183189642
          ],
          [
           0.1387988205460715,
           -0.06093885273003252
          ],
          [
           -0.26290450682427036,
           0.04687912255030824
          ],
          [
           0.0012418412225088105,
           -0.02377080860605929
          ],
          [
           -0.47669196463539265,
           0.09165399827179499
          ],
          [
           -0.6876437070386601,
           0.06389061628578929
          ],
          [
           -0.5775678776117275,
           -0.03147162859386299
          ],
          [
           -0.01640372515976196,
           0.015013670294138137
          ],
          [
           0.24131378837046213,
           0.005660431721480563
          ],
          [
           0.07585773781465832,
           -0.027131628114148043
          ],
          [
           -0.03906246476981323,
           -0.026341905162553303
          ],
          [
           -0.3811028189084027,
           0.05369806694216095
          ],
          [
           -0.00264871751278406,
           0.06902473895024741
          ],
          [
           0.06215418592910282,
           0.01653587000328116
          ],
          [
           0.35470600535336416,
           0.03116199879150372
          ],
          [
           -0.05559043680113973,
           0.039068874430086
          ],
          [
           -0.05167038511717692,
           0.04442925128387287
          ],
          [
           -0.1872714174387511,
           0.0013240289699751884
          ],
          [
           0.11998922409111401,
           0.028958437462279107
          ],
          [
           0.18292340427433373,
           0.007189628675405402
          ],
          [
           -0.18178070955036674,
           -0.022153831450850703
          ],
          [
           0.008387291607505176,
           0.01854220071254531
          ],
          [
           0.22728895166801522,
           0.019603240107244346
          ],
          [
           0.6320639378755004,
           0.014563489974534605
          ],
          [
           0.3619480921915965,
           0.014249535932322033
          ],
          [
           0.04272209998453036,
           -0.003910834842827171
          ],
          [
           0.24844292354100617,
           0.05977475399413379
          ],
          [
           0.540373508578341,
           0.0440064610374975
          ],
          [
           -0.11365075087815057,
           -0.01502426822844427
          ],
          [
           0.27345545109710656,
           0.00757923346827738
          ],
          [
           0.31103071843244834,
           -0.050568915852636565
          ],
          [
           0.1222143727063667,
           0.042853415448917076
          ],
          [
           0.13652660875959555,
           0.042030824268294964
          ],
          [
           0.1524358564420254,
           0.03813274778804043
          ],
          [
           0.2371038272685837,
           0.03585506809758954
          ],
          [
           -0.40862412939895876,
           -0.002430589316645637
          ],
          [
           0.0507140606714529,
           0.024160080363799352
          ],
          [
           0.15363941960822558,
           0.06283232839632547
          ],
          [
           -0.255415181236458,
           -0.04088931666046847
          ],
          [
           0.19820012243144447,
           0.04369231136661256
          ],
          [
           -0.1875136360686156,
           0.019890493953425903
          ],
          [
           0.19971806782996282,
           0.01890549116069451
          ],
          [
           0.18302882585703628,
           0.0913840177890961
          ],
          [
           -0.026179695247265045,
           0.044984739761275705
          ],
          [
           0.10341356134449597,
           0.028569027883349918
          ],
          [
           -0.07949792027648073,
           0.05644462521013338
          ],
          [
           -0.3100097605056362,
           0.001278106981771998
          ],
          [
           0.10894066477339948,
           -0.013536460370232817
          ],
          [
           0.1825757640399388,
           0.0037581860306090675
          ],
          [
           -1.900576849890058,
           -0.05427442661311943
          ],
          [
           0.21148512545914855,
           -0.008131774156936444
          ],
          [
           0.33141912873543333,
           0.02484174158598762
          ],
          [
           -0.09473385030287318,
           0.08298497265786864
          ],
          [
           0.7794866211843328,
           -0.11333278004167369
          ],
          [
           0.667389583773911,
           0.022527522989548743
          ],
          [
           0.057777934802288655,
           -0.04087219482607907
          ],
          [
           -0.40637325292482274,
           -0.04718943796615349
          ],
          [
           -0.03984622413554462,
           -0.04290304566529812
          ],
          [
           0.1811720253317617,
           -0.02383390540489927
          ],
          [
           0.5140438385278685,
           -0.015441557348822244
          ],
          [
           0.18843921254301677,
           0.021813039704284165
          ],
          [
           -0.037954283063299954,
           -0.034665456507354975
          ],
          [
           0.14814933924208162,
           -0.018200638129201252
          ],
          [
           0.11884401931456523,
           0.031437442237802316
          ],
          [
           0.009882019206997938,
           0.05578940531995613
          ],
          [
           -0.5278484194641351,
           0.038196675399376545
          ],
          [
           0.05650597315252526,
           -0.017739661219820846
          ],
          [
           0.057159838048391975,
           0.0015819361578905955
          ],
          [
           -0.149111311249726,
           0.03324120438628597
          ],
          [
           0.16059473468340002,
           0.1316736906010192
          ],
          [
           0.013496473788109142,
           -0.013405604164290708
          ],
          [
           0.01349898379703518,
           0.12733790230413433
          ],
          [
           0.028495832666521892,
           -0.02235307768569328
          ],
          [
           -0.00614331777615007,
           0.028259727885597385
          ],
          [
           0.3970170866159606,
           0.005526710643607657
          ],
          [
           0.1575826892076293,
           0.08492460813431535
          ],
          [
           -0.1772626413294347,
           -0.02892782115668524
          ],
          [
           -0.6089527639924199,
           -0.03976908422919223
          ],
          [
           0.667389583773911,
           0.022527522989548743
          ],
          [
           -0.15349697500641923,
           0.015492016638745554
          ],
          [
           -0.5767301524901995,
           -0.02772243799699936
          ],
          [
           -0.13915461843134835,
           -0.027861948299687356
          ],
          [
           0.09689311039255699,
           -0.028695208406134043
          ],
          [
           0.2177978708568844,
           -0.11243189231754513
          ],
          [
           0.1530050075816689,
           -0.03343647853762377
          ],
          [
           -0.13903978419693885,
           -0.05400194774119882
          ],
          [
           0.6976731909890077,
           0.08138252494245535
          ],
          [
           0.23842096970474813,
           0.016268093502731062
          ],
          [
           1.3653972372412682,
           0.06594961951486766
          ],
          [
           -0.15243334644037532,
           0.056335782683163416
          ],
          [
           0.5508836647786666,
           0.020843595411861315
          ],
          [
           0.10069079773529666,
           -0.014917962304025423
          ],
          [
           0.02070028250454925,
           -0.011882348830113187
          ],
          [
           0.19929763650725363,
           0.00843645212444244
          ],
          [
           0.19971806782996282,
           0.01890549116069451
          ],
          [
           -0.5577078302521841,
           -0.055918128848134074
          ],
          [
           -0.10925065448827809,
           0.002846634692104999
          ],
          [
           0.1085145858960459,
           -0.19581671569903847
          ],
          [
           -0.2587252937446465,
           0.04417285083764
          ],
          [
           -0.06445338060439099,
           0.019973002417827956
          ],
          [
           -0.016756385484768543,
           0.028684207434707787
          ],
          [
           -0.03894386550382478,
           0.02404883568669902
          ],
          [
           0.309476377464307,
           -0.01396719445619965
          ],
          [
           -1.1443024316758965,
           -0.0023372725772787817
          ],
          [
           0.14934411729336716,
           0.07248832148616202
          ],
          [
           0.32934081742860144,
           0.019128378269670065
          ],
          [
           1.1922623533027945,
           0.03275681943341624
          ],
          [
           0.4531076485509402,
           -0.06938383877422893
          ],
          [
           -1.900576849890058,
           -0.05427442661311943
          ],
          [
           -0.39101433103496674,
           0.047455845968215726
          ],
          [
           0.21148512545914855,
           -0.008131774156936444
          ],
          [
           0.795157415268477,
           0.008084359054919332
          ],
          [
           0.7794866211843328,
           -0.11333278004167369
          ],
          [
           0.05279801967117237,
           -0.001276214657991659
          ],
          [
           0.007806217865436338,
           0.05658512386435177
          ],
          [
           -1.1408222641257453,
           -0.11216116253490327
          ],
          [
           -1.3491303091359441,
           -0.2121731903826003
          ],
          [
           0.26529845546610886,
           0.06363426169991726
          ],
          [
           0.37686336487240624,
           0.07772042955912184
          ],
          [
           0.17296984897984657,
           0.08758880048117135
          ],
          [
           -0.010207069128227886,
           -0.011999326314253267
          ],
          [
           0.0852082564815646,
           0.0629090560687473
          ],
          [
           0.9112686308289994,
           -0.0002772800435195677
          ],
          [
           0.7681983532529557,
           0.02903950541804079
          ],
          [
           0.09998861465282971,
           0.022651188752206508
          ],
          [
           0.22273260533984285,
           0.08476456631615292
          ],
          [
           0.28874471949529834,
           -0.05403025305713527
          ],
          [
           -0.13820645165105816,
           -0.013660963959409855
          ],
          [
           -0.2292216808127705,
           -0.006465875922003761
          ],
          [
           0.1287919270034763,
           0.014328465207654517
          ],
          [
           -0.33050986755552003,
           -0.029348787073104177
          ],
          [
           -0.002550198507378809,
           -0.023269834739039652
          ],
          [
           -0.06736690712568816,
           0.00523728238476906
          ],
          [
           0.019528094846464228,
           0.01788877235230757
          ],
          [
           0.540373508578341,
           0.0440064610374975
          ],
          [
           0.8078374992765021,
           -0.07762962396373041
          ],
          [
           -0.15453550315578468,
           0.022416363790398464
          ],
          [
           0.03258907702547731,
           0.01042569173296215
          ],
          [
           -0.3726201458266587,
           0.03557124625513097
          ],
          [
           0.08117023303930182,
           0.0029060685337753966
          ],
          [
           -0.31893043521995423,
           -0.027072120450611692
          ],
          [
           0.06320777430664748,
           0.05920823593623936
          ],
          [
           -1.3551663227990502,
           -0.039303014767938294
          ],
          [
           0.3034296961486689,
           0.0006254588006413542
          ],
          [
           -0.01272149957367219,
           -0.004803545569302514
          ],
          [
           0.09876873617031379,
           -0.008706523636647034
          ],
          [
           0.20871341617021244,
           -0.007001366306212731
          ],
          [
           0.15363941960822558,
           0.06283232839632547
          ],
          [
           -0.3724080476167728,
           -0.007876083902374376
          ],
          [
           -0.6003922797099221,
           -0.04312609220505692
          ],
          [
           -0.008375368975976016,
           -0.012480477882490959
          ],
          [
           -0.5716862312983721,
           -0.046173392911441624
          ],
          [
           0.09424753036728362,
           0.015606735752953682
          ],
          [
           0.2950292268578778,
           0.053090711175173055
          ],
          [
           0.12474700096936431,
           0.028743554474203847
          ],
          [
           -0.28122841098956997,
           -0.008678670717927162
          ],
          [
           0.5067145278590033,
           -0.0488953076855978
          ],
          [
           -0.6040487774153007,
           0.00045596664131153375
          ],
          [
           0.2027527036407264,
           -0.03610200963157695
          ],
          [
           -0.14878186876740074,
           -0.005242806415481027
          ],
          [
           0.6254004148140666,
           0.012764202903781552
          ],
          [
           -1.4549654295333312,
           -0.08555900378996739
          ],
          [
           0.08763358058786253,
           0.008568221041059587
          ],
          [
           0.07975017906574067,
           0.022489425013191067
          ],
          [
           0.04792352605727501,
           -0.041689761535963044
          ],
          [
           -0.030946884719014633,
           -0.1366639662956004
          ],
          [
           -1.0354364405357046,
           0.034270504213054664
          ],
          [
           0.16059473468340002,
           0.1316736906010192
          ],
          [
           0.5346380719420267,
           0.14469073845248204
          ],
          [
           -0.3026553494637483,
           -0.19943169595353538
          ],
          [
           -0.0862405095831491,
           -0.002752278058324009
          ],
          [
           -0.294266802862694,
           0.0006798795438953675
          ],
          [
           -0.15265422977972776,
           -0.024599233525805175
          ],
          [
           0.20417777767579537,
           -0.031033894469146617
          ],
          [
           -0.5565965110145044,
           0.027823572076158598
          ],
          [
           -0.11154545663157478,
           0.011395928740967065
          ],
          [
           0.09247983624663902,
           -0.007698498848185409
          ],
          [
           0.18749983083398547,
           0.16878204116073903
          ],
          [
           0.5346380719420267,
           0.14469073845248204
          ],
          [
           -0.9254026542475913,
           -0.03630015850649215
          ],
          [
           0.09460395587666426,
           0.076906491551199
          ],
          [
           0.17334760972880758,
           0.010365619353251532
          ],
          [
           0.3087384262980777,
           0.04831535729317693
          ],
          [
           0.2956203408102738,
           -0.04429224219347816
          ],
          [
           -0.3026553494637483,
           -0.19943169595353538
          ],
          [
           -1.1408222641257453,
           -0.11216116253490327
          ],
          [
           -0.3100097605056362,
           0.001278106981771998
          ],
          [
           0.18328233966894913,
           0.08691538796119858
          ],
          [
           0.15298241719574435,
           -0.04521792004379677
          ],
          [
           0.06011603512160946,
           -0.04384343889250886
          ],
          [
           0.04779049406351987,
           -0.0024797753285383806
          ],
          [
           0.09517624442378292,
           0.007367357880866621
          ],
          [
           -0.2284937698059366,
           0.03279130378359696
          ],
          [
           0.23719042361335596,
           0.05605029276193818
          ],
          [
           -0.5625986391169135,
           0.02498970278975321
          ],
          [
           -0.10290465116122505,
           0.022509368522150908
          ],
          [
           0.28156224601116264,
           -0.04238578213698929
          ],
          [
           0.8078374992765021,
           -0.07762962396373041
          ],
          [
           -0.22714587946393294,
           0.024813887612253893
          ],
          [
           -0.37465766906097997,
           0.04002089278947096
          ],
          [
           0.20417777767579537,
           -0.031033894469146617
          ],
          [
           0.18302882585703628,
           0.0913840177890961
          ],
          [
           0.3028586625223397,
           -0.037334681175707374
          ],
          [
           0.31777832782972837,
           0.08059904826950515
          ],
          [
           0.13123858643666608,
           0.10376471542258514
          ],
          [
           0.13370971875701798,
           -0.02834667434945004
          ],
          [
           0.030047663662116975,
           -0.03682857338571921
          ],
          [
           0.08215605037548812,
           0.02076720121112885
          ],
          [
           0.09371226485382067,
           -0.04899903205659939
          ],
          [
           0.21955238725058734,
           -0.037070140708237886
          ],
          [
           0.23842096970474813,
           0.016268093502731062
          ],
          [
           0.15011846396373585,
           0.021467742219101638
          ],
          [
           -0.05268255790724652,
           0.0008567254335503094
          ],
          [
           -1.900576849890058,
           -0.05427442661311943
          ],
          [
           0.21148512545914855,
           -0.008131774156936444
          ],
          [
           0.4594304339843802,
           -0.00717369798803702
          ],
          [
           -0.2542015779617941,
           -0.030104741323157214
          ],
          [
           -0.09473385030287318,
           0.08298497265786864
          ],
          [
           -0.09529045123781543,
           -0.08704380183189642
          ],
          [
           -0.17276151588157518,
           -0.005901055461436044
          ],
          [
           0.32501225702435477,
           0.0349084463014151
          ],
          [
           0.10826671962422552,
           0.041529721704137046
          ],
          [
           0.012129758157243486,
           0.042043486049806233
          ],
          [
           0.011481540859676898,
           0.008920045103877783
          ],
          [
           0.08117023303930182,
           0.0029060685337753966
          ],
          [
           1.1922623533027945,
           0.03275681943341624
          ],
          [
           1.3653972372412682,
           0.06594961951486766
          ],
          [
           0.3523591199045768,
           -0.09698393616417889
          ],
          [
           0.1913326587091433,
           -0.0015594754804624245
          ],
          [
           0.309476377464307,
           -0.01396719445619965
          ],
          [
           0.5117170334196999,
           0.02742041282908758
          ],
          [
           0.5412030760999187,
           0.04245983444707235
          ],
          [
           0.09368214439746225,
           0.060921755015442614
          ],
          [
           -0.030946884719014633,
           -0.1366639662956004
          ],
          [
           0.18355154126766138,
           -0.054912846215302125
          ],
          [
           1.0776220199477393,
           -0.0835178607085254
          ],
          [
           0.10851897838438163,
           0.005641460222250316
          ],
          [
           -0.20076538115245057,
           0.012095321384549607
          ],
          [
           -0.26290450682427036,
           0.04687912255030824
          ],
          [
           -0.0940837505258969,
           0.03863575365539873
          ],
          [
           -0.5006891819284647,
           -0.02461533349560341
          ],
          [
           -0.5491272657091031,
           -0.05365467981027905
          ],
          [
           -0.027035618193622213,
           -0.08457941549568204
          ],
          [
           -0.29586130443931324,
           -0.005033016139350366
          ],
          [
           0.03196094002487371,
           -0.016601796574832406
          ],
          [
           0.26945947075728327,
           0.02167063276283443
          ],
          [
           0.1085145858960459,
           -0.19581671569903847
          ],
          [
           -0.32588010260951705,
           -0.03707363366265781
          ],
          [
           0.5067145278590033,
           -0.0488953076855978
          ],
          [
           0.32621080014359904,
           0.007275377567566466
          ],
          [
           0.02973641896096524,
           0.014536697635776363
          ],
          [
           0.13652660875959555,
           0.042030824268294964
          ],
          [
           0.5563386046051164,
           0.11741565046395408
          ],
          [
           -1.017609523863939,
           -0.1502146228667698
          ],
          [
           0.44020856377028394,
           -0.0033846047444967553
          ],
          [
           -0.10024338345101569,
           0.015240153516060673
          ],
          [
           0.9112686308289994,
           -0.0002772800435195677
          ],
          [
           0.4245967555398238,
           0.022101930117059965
          ],
          [
           -0.47678734602959594,
           -0.029748261520580854
          ],
          [
           -0.06445338060439099,
           0.019973002417827956
          ],
          [
           0.09418352445936762,
           0.03195011054049246
          ],
          [
           0.11917910935153486,
           0.04163853138015838
          ],
          [
           -1.6517423604527721,
           -0.12897440291999374
          ],
          [
           0.06373362726299092,
           -0.016834829177241772
          ],
          [
           0.005326927937858272,
           0.046856273380399216
          ],
          [
           -0.12734049755090382,
           0.010449818582856096
          ],
          [
           0.009617210198484827,
           0.0321335787375574
          ],
          [
           0.010752374844742008,
           -0.0005697674787370488
          ],
          [
           0.6254004148140666,
           0.012764202903781552
          ],
          [
           0.16059473468340002,
           0.1316736906010192
          ],
          [
           -0.034961690311320126,
           0.049969148938544095
          ],
          [
           -1.4549654295333312,
           -0.08555900378996739
          ],
          [
           0.48595651447976707,
           0.03358101471530972
          ],
          [
           -1.1443024316758965,
           -0.0023372725772787817
          ],
          [
           -0.40637325292482274,
           -0.04718943796615349
          ],
          [
           -0.14588967767485883,
           0.023111868315027095
          ],
          [
           -0.07381519442424178,
           -0.01849319483153522
          ],
          [
           0.309476377464307,
           -0.01396719445619965
          ],
          [
           -1.079700331305503,
           -0.09528072304965463
          ],
          [
           0.11432720610901015,
           0.009900938901409972
          ],
          [
           -0.1772626413294347,
           -0.02892782115668524
          ],
          [
           0.05219121799018467,
           0.030063926336879376
          ],
          [
           0.3044675968485535,
           0.02856930686539272
          ],
          [
           0.1832471991656348,
           0.007142499904148281
          ],
          [
           -0.1486645245240652,
           0.020168108538200613
          ],
          [
           1.1922623533027945,
           0.03275681943341624
          ],
          [
           -0.47669196463539265,
           0.09165399827179499
          ],
          [
           0.4061837451008614,
           -0.012118135375203565
          ],
          [
           0.6183308930776548,
           -0.01525737057090737
          ],
          [
           0.7794866211843328,
           -0.11333278004167369
          ],
          [
           0.38434641536150593,
           0.008240812181611545
          ],
          [
           0.10508273651794298,
           0.0305175370813231
          ],
          [
           0.28643987717077835,
           -0.0219202262305771
          ],
          [
           0.2779390063660685,
           -0.017446757497964427
          ],
          [
           0.14317318911344046,
           0.017422805169189814
          ],
          [
           -0.1886437806824688,
           0.020584152516676113
          ],
          [
           -1.4549654295333312,
           -0.08555900378996739
          ],
          [
           -0.7066804619971663,
           0.10942197195254266
          ],
          [
           0.19971806782996282,
           0.01890549116069451
          ],
          [
           0.8702979097506613,
           -0.038029524926969316
          ],
          [
           -1.3491303091359441,
           -0.2121731903826003
          ],
          [
           -1.1408222641257453,
           -0.11216116253490327
          ],
          [
           0.9112686308289994,
           -0.0002772800435195677
          ],
          [
           0.486724586073251,
           -0.04934156643139431
          ],
          [
           0.09489323771413183,
           0.01430794703628635
          ],
          [
           0.5960530517186271,
           0.03358512274280656
          ],
          [
           0.31103071843244834,
           -0.050568915852636565
          ],
          [
           -0.0862405095831491,
           -0.002752278058324009
          ],
          [
           -0.0881519034228404,
           0.006543929506733548
          ],
          [
           0.046251840809418354,
           -0.015211763755360153
          ],
          [
           -0.06445338060439099,
           0.019973002417827956
          ],
          [
           0.1725644778853166,
           -0.03376764758286299
          ],
          [
           0.4594304339843802,
           -0.00717369798803702
          ],
          [
           0.3898390058093355,
           0.02216991890600184
          ],
          [
           -0.027907856325327884,
           -0.1321686344963382
          ],
          [
           -0.32733027705398854,
           0.01661256946681533
          ],
          [
           -1.900576849890058,
           -0.05427442661311943
          ],
          [
           -0.4852279759434168,
           0.05663175408699317
          ],
          [
           0.21148512545914855,
           -0.008131774156936444
          ],
          [
           0.2145574118985678,
           0.005491864219948184
          ],
          [
           -0.030946884719014633,
           -0.1366639662956004
          ],
          [
           -0.1856273425873951,
           -0.04213849749794463
          ],
          [
           -0.0417915034777252,
           0.00008708082896191627
          ],
          [
           -0.06308917502610711,
           0.02023242612631293
          ],
          [
           -0.013980911106045824,
           -0.00600817449594615
          ],
          [
           0.20637217829062138,
           0.07989820792863611
          ],
          [
           0.5067145278590033,
           -0.0488953076855978
          ],
          [
           0.20811979219433852,
           0.016444287641206756
          ],
          [
           -0.041687336924951524,
           -0.0647922977223061
          ],
          [
           -0.08203933365439298,
           0.048139628597709816
          ],
          [
           0.1085145858960459,
           -0.19581671569903847
          ],
          [
           -0.0940837505258969,
           0.03863575365539873
          ],
          [
           -1.2797930223605363,
           -0.03060467138129752
          ],
          [
           0.5508836647786666,
           0.020843595411861315
          ],
          [
           -0.09529045123781543,
           -0.08704380183189642
          ],
          [
           0.0002629264708957635,
           0.015576527941448148
          ],
          [
           0.19297736106818775,
           -0.0000551534685655497
          ],
          [
           0.14603776989679318,
           0.062539587073843
          ],
          [
           -0.04733743218093878,
           -0.00014265559002524242
          ],
          [
           0.03900787141901674,
           -0.037836511379282456
          ],
          [
           1.3653972372412682,
           0.06594961951486766
          ],
          [
           -0.33703282850183314,
           -0.03895212642237311
          ],
          [
           0.09612943133834051,
           0.03211215994815575
          ],
          [
           -1.6517423604527721,
           -0.12897440291999374
          ],
          [
           -0.037954283063299954,
           -0.034665456507354975
          ],
          [
           0.32501225702435477,
           0.0349084463014151
          ],
          [
           0.23842096970474813,
           0.016268093502731062
          ],
          [
           -0.4170471890611225,
           -0.002914170363510493
          ],
          [
           -0.5278484194641351,
           0.038196675399376545
          ],
          [
           0.010752374844742008,
           -0.0005697674787370488
          ],
          [
           -0.16560226029832847,
           -0.026514852681430057
          ],
          [
           -0.10023522588744527,
           -0.0009205371825373732
          ],
          [
           0.07859995420585619,
           0.015229801945679355
          ],
          [
           0.6254004148140666,
           0.012764202903781552
          ],
          [
           -0.07771830337151187,
           0.03642876707453979
          ],
          [
           -1.3551663227990502,
           -0.039303014767938294
          ],
          [
           0.17787885561119765,
           0.01628697302658111
          ],
          [
           -0.20011277133016847,
           0.0040163878875318915
          ],
          [
           0.16059473468340002,
           0.1316736906010192
          ],
          [
           0.5346380719420267,
           0.14469073845248204
          ],
          [
           -0.3026553494637483,
           -0.19943169595353538
          ],
          [
           0.2956203408102738,
           -0.04429224219347816
          ],
          [
           0.07602528281859122,
           -0.009310113528044894
          ],
          [
           0.26100942819175543,
           -0.01122156797646312
          ],
          [
           0.13368524587713182,
           -0.07439307414460927
          ],
          [
           0.20417777767579537,
           -0.031033894469146617
          ],
          [
           -0.5565965110145044,
           0.027823572076158598
          ],
          [
           -0.6579744315895368,
           -0.07009391597966896
          ],
          [
           0.1575826892076293,
           0.08492460813431535
          ],
          [
           0.667389583773911,
           0.022527522989548743
          ],
          [
           0.8078374992765021,
           -0.07762962396373041
          ],
          [
           0.6320639378755004,
           0.014563489974534605
          ],
          [
           -0.1546904980277759,
           -0.04513717466761591
          ],
          [
           -0.1425306194287259,
           -0.015873720083618537
          ],
          [
           -1.3346737458923599,
           -0.08110963691433426
          ],
          [
           -1.1443024316758965,
           -0.0023372725772787817
          ],
          [
           -0.21919721696758643,
           0.023904607456643134
          ],
          [
           0.309476377464307,
           -0.01396719445619965
          ],
          [
           0.27345545109710656,
           0.00757923346827738
          ],
          [
           0.5117170334196999,
           0.02742041282908758
          ],
          [
           0.317866179117118,
           -0.03839215431071352
          ],
          [
           -0.2284937698059366,
           0.03279130378359696
          ],
          [
           -0.31371081135148415,
           0.056582452925795224
          ],
          [
           0.09732671949313954,
           0.011795874976087362
          ],
          [
           0.010475015697011258,
           0.00922487777279457
          ],
          [
           1.1922623533027945,
           0.03275681943341624
          ],
          [
           0.4531076485509402,
           -0.06938383877422893
          ],
          [
           -0.2542015779617941,
           -0.030104741323157214
          ],
          [
           0.4826457745002699,
           0.027404461296100635
          ],
          [
           -0.09473385030287318,
           0.08298497265786864
          ],
          [
           0.540373508578341,
           0.0440064610374975
          ],
          [
           0.38434641536150593,
           0.008240812181611545
          ],
          [
           0.15391364124661777,
           -0.030599041827372275
          ],
          [
           -0.15931273280148162,
           -0.06083690228842897
          ],
          [
           0.13925439248851035,
           0.009898630451061763
          ],
          [
           -0.5625986391169135,
           0.02498970278975321
          ],
          [
           -1.4549654295333312,
           -0.08555900378996739
          ],
          [
           -0.7066804619971663,
           0.10942197195254266
          ],
          [
           0.19971806782996282,
           0.01890549116069451
          ],
          [
           0.18302882585703628,
           0.0913840177890961
          ],
          [
           0.01493660800770158,
           0.03181778998259688
          ],
          [
           -1.3491303091359441,
           -0.2121731903826003
          ],
          [
           -1.1408222641257453,
           -0.11216116253490327
          ],
          [
           0.9112686308289994,
           -0.0002772800435195677
          ],
          [
           0.7681983532529557,
           0.02903950541804079
          ],
          [
           0.486724586073251,
           -0.04934156643139431
          ],
          [
           -0.008287517608550843,
           0.029360254273342434
          ],
          [
           0.13652660875959555,
           0.042030824268294964
          ],
          [
           0.5960530517186271,
           0.03358512274280656
          ],
          [
           0.31103071843244834,
           -0.050568915852636565
          ],
          [
           0.03079628248087829,
           0.021730497384851333
          ],
          [
           -0.06445338060439099,
           0.019973002417827956
          ],
          [
           0.24844292354100617,
           0.05977475399413379
          ],
          [
           0.4594304339843802,
           -0.00717369798803702
          ],
          [
           0.33141912873543333,
           0.02484174158598762
          ],
          [
           -0.2645554842383717,
           -0.0025000307432492264
          ],
          [
           -0.40637325292482274,
           -0.04718943796615349
          ],
          [
           -0.32733027705398854,
           0.01661256946681533
          ],
          [
           -1.900576849890058,
           -0.05427442661311943
          ],
          [
           0.21148512545914855,
           -0.008131774156936444
          ],
          [
           -0.4852279759434168,
           0.05663175408699317
          ],
          [
           0.2145574118985678,
           0.005491864219948184
          ],
          [
           -0.030946884719014633,
           -0.1366639662956004
          ],
          [
           -1.0354364405357046,
           0.034270504213054664
          ],
          [
           0.6170664614473935,
           0.06266640775720589
          ],
          [
           -0.5084106859721942,
           -0.05314166114840191
          ],
          [
           -0.20690932645084104,
           0.029527284823416267
          ],
          [
           0.24131378837046213,
           0.005660431721480563
          ],
          [
           0.5067145278590033,
           -0.0488953076855978
          ],
          [
           0.24537879473064095,
           0.11646585853304714
          ],
          [
           -0.6040487774153007,
           0.00045596664131153375
          ],
          [
           0.1085145858960459,
           -0.19581671569903847
          ],
          [
           -0.3221985045383917,
           -0.02376856359478552
          ],
          [
           -1.2797930223605363,
           -0.03060467138129752
          ],
          [
           0.1169828262354713,
           -0.006330874428385869
          ],
          [
           0.5508836647786666,
           0.020843595411861315
          ],
          [
           0.3523591199045768,
           -0.09698393616417889
          ],
          [
           -0.01272149957367219,
           -0.004803545569302514
          ],
          [
           0.3034296961486689,
           0.0006254588006413542
          ],
          [
           0.2313414078016649,
           0.02579449913901044
          ],
          [
           -0.43056939078087453,
           -0.003656054163002409
          ],
          [
           1.3653972372412682,
           0.06594961951486766
          ],
          [
           0.15363941960822558,
           0.06283232839632547
          ],
          [
           -0.41130108485231176,
           0.008161821693647653
          ],
          [
           0.07493655387952458,
           0.008982490209746175
          ],
          [
           -1.6517423604527721,
           -0.12897440291999374
          ],
          [
           0.10791719681583345,
           -0.023451824788935483
          ],
          [
           0.32501225702435477,
           0.0349084463014151
          ],
          [
           0.23842096970474813,
           0.016268093502731062
          ],
          [
           -0.4170471890611225,
           -0.002914170363510493
          ],
          [
           0.19820012243144447,
           0.04369231136661256
          ],
          [
           0.09424753036728362,
           0.015606735752953682
          ],
          [
           0.4784025554108666,
           0.049066551684518345
          ],
          [
           0.6254004148140666,
           0.012764202903781552
          ],
          [
           0.05650597315252526,
           -0.017739661219820846
          ],
          [
           -0.9254026542475913,
           -0.03630015850649215
          ],
          [
           -0.07949792027648073,
           0.05644462521013338
          ],
          [
           0.030960062431404367,
           -0.06810093644890003
          ],
          [
           0.18749983083398547,
           0.16878204116073903
          ],
          [
           0.5346380719420267,
           0.14469073845248204
          ],
          [
           -0.16023642673098948,
           0.023576957537443377
          ],
          [
           -0.3026553494637483,
           -0.19943169595353538
          ],
          [
           0.2956203408102738,
           -0.04429224219347816
          ],
          [
           0.08630890808854019,
           0.06456666383746779
          ],
          [
           0.13368524587713182,
           -0.07439307414460927
          ],
          [
           0.20417777767579537,
           -0.031033894469146617
          ],
          [
           -0.5565965110145044,
           0.027823572076158598
          ],
          [
           -0.6579744315895368,
           -0.07009391597966896
          ],
          [
           -1.017609523863939,
           -0.1502146228667698
          ],
          [
           0.667389583773911,
           0.022527522989548743
          ],
          [
           0.8078374992765021,
           -0.07762962396373041
          ],
          [
           0.6200101083741174,
           0.008976286779216025
          ],
          [
           -1.0969166812501498,
           -0.020740827640111092
          ],
          [
           0.6976731909890077,
           0.08138252494245535
          ],
          [
           -0.3448026508485782,
           0.009160841356788296
          ],
          [
           -0.0020908615479129367,
           -0.0015514354381593876
          ],
          [
           -0.18677380240842467,
           0.009412739636900369
          ],
          [
           0.02120291761821136,
           0.014673679892439395
          ],
          [
           0.13652660875959555,
           0.042030824268294964
          ],
          [
           -0.05143757908808766,
           0.009238275706593413
          ],
          [
           0.20417777767579537,
           -0.031033894469146617
          ],
          [
           -0.29714016869547777,
           0.023045301815727726
          ],
          [
           0.8702979097506613,
           -0.038029524926969316
          ],
          [
           0.19971806782996282,
           0.01890549116069451
          ],
          [
           0.41230635499960044,
           0.035947382370068226
          ],
          [
           -0.8237781224161154,
           0.04742416740918998
          ],
          [
           -0.11017497588909464,
           -0.001796624572307337
          ],
          [
           0.2177978708568844,
           -0.11243189231754513
          ],
          [
           -0.4170471890611225,
           -0.002914170363510493
          ],
          [
           -0.2031141491170274,
           -0.001628249025088735
          ],
          [
           0.2733061038743472,
           -0.11663209916150663
          ],
          [
           0.1575826892076293,
           0.08492460813431535
          ],
          [
           0.44020856377028394,
           -0.0033846047444967553
          ],
          [
           -0.6579744315895368,
           -0.07009391597966896
          ],
          [
           -0.09529045123781543,
           -0.08704380183189642
          ],
          [
           0.5508836647786666,
           0.020843595411861315
          ],
          [
           -1.1443024316758965,
           -0.0023372725772787817
          ],
          [
           -0.03260915735154413,
           -0.0014394247846212238
          ],
          [
           0.7794866211843328,
           -0.11333278004167369
          ],
          [
           0.4061837451008614,
           -0.012118135375203565
          ],
          [
           0.795157415268477,
           0.008084359054919332
          ],
          [
           1.3653972372412682,
           0.06594961951486766
          ],
          [
           -0.6876437070386601,
           0.06389061628578929
          ],
          [
           -0.151674059969082,
           0.0016105939357657917
          ],
          [
           0.008387291607505176,
           0.01854220071254531
          ],
          [
           0.1085145858960459,
           -0.19581671569903847
          ],
          [
           0.014494213894067798,
           -0.01827758849685779
          ],
          [
           0.32501225702435477,
           0.0349084463014151
          ],
          [
           0.09371226485382067,
           -0.04899903205659939
          ],
          [
           0.309476377464307,
           -0.01396719445619965
          ],
          [
           -1.079700331305503,
           -0.09528072304965463
          ],
          [
           0.08780865574954078,
           0.005753080651629716
          ],
          [
           0.5412030760999187,
           0.04245983444707235
          ],
          [
           -0.3100097605056362,
           0.001278106981771998
          ],
          [
           -0.06445338060439099,
           0.019973002417827956
          ],
          [
           0.1725644778853166,
           -0.03376764758286299
          ],
          [
           -1.900576849890058,
           -0.05427442661311943
          ],
          [
           0.21148512545914855,
           -0.008131774156936444
          ],
          [
           -0.4852279759434168,
           0.05663175408699317
          ],
          [
           -0.11365075087815057,
           -0.01502426822844427
          ],
          [
           -1.1408222641257453,
           -0.11216116253490327
          ],
          [
           -1.3491303091359441,
           -0.2121731903826003
          ],
          [
           0.09998861465282971,
           0.022651188752206508
          ],
          [
           0.4594304339843802,
           -0.00717369798803702
          ],
          [
           0.11571086448384449,
           0.025591979443561286
          ],
          [
           0.07103658249252476,
           -0.006426386855309829
          ],
          [
           -0.10925065448827809,
           0.002846634692104999
          ],
          [
           -0.16023642673098948,
           0.023576957537443377
          ],
          [
           0.09981479450652841,
           0.02758470225671772
          ],
          [
           0.08995222809608094,
           0.027852632076246664
          ],
          [
           0.2779390063660685,
           -0.017446757497964427
          ],
          [
           0.11998922409111401,
           0.028958437462279107
          ],
          [
           0.6254004148140666,
           0.012764202903781552
          ],
          [
           0.1731254713376984,
           -0.0016073810402303934
          ],
          [
           0.19929763650725363,
           0.00843645212444244
          ],
          [
           0.12071713511249982,
           -0.04607110275537707
          ],
          [
           0.9112686308289994,
           -0.0002772800435195677
          ],
          [
           0.7681983532529557,
           0.02903950541804079
          ],
          [
           0.31103071843244834,
           -0.050568915852636565
          ],
          [
           -0.06736690712568816,
           0.00523728238476906
          ],
          [
           -0.3726201458266587,
           0.03557124625513097
          ],
          [
           1.1922623533027945,
           0.03275681943341624
          ],
          [
           -0.26290450682427036,
           0.04687912255030824
          ],
          [
           0.8078374992765021,
           -0.07762962396373041
          ],
          [
           -0.0940837505258969,
           0.03863575365539873
          ],
          [
           -0.32733027705398854,
           0.01661256946681533
          ],
          [
           0.08117023303930182,
           0.0029060685337753966
          ],
          [
           0.3523591199045768,
           -0.09698393616417889
          ],
          [
           -1.3551663227990502,
           -0.039303014767938294
          ],
          [
           0.1825757640399388,
           0.0037581860306090675
          ],
          [
           0.3034296961486689,
           0.0006254588006413542
          ],
          [
           0.18843921254301677,
           0.021813039704284165
          ],
          [
           -0.17123604029620765,
           0.025876955020066816
          ],
          [
           -0.6003922797099221,
           -0.04312609220505692
          ],
          [
           -1.6517423604527721,
           -0.12897440291999374
          ],
          [
           0.2989624562469544,
           -0.014054165847483091
          ],
          [
           -0.5278484194641351,
           0.038196675399376545
          ],
          [
           0.010752374844742008,
           -0.0005697674787370488
          ],
          [
           -0.10842108697397634,
           0.020484180480707437
          ],
          [
           -0.12673432340670843,
           -0.01924105298530776
          ],
          [
           0.28156224601116264,
           -0.04238578213698929
          ],
          [
           0.5067145278590033,
           -0.0488953076855978
          ],
          [
           -0.6040487774153007,
           0.00045596664131153375
          ],
          [
           0.07493655387952458,
           0.008982490209746175
          ],
          [
           0.03913400083547458,
           0.039137584913987666
          ],
          [
           -1.4549654295333312,
           -0.08555900378996739
          ],
          [
           -0.6409224891394842,
           0.015897329983999953
          ],
          [
           0.2663940869970247,
           0.006876071798615158
          ],
          [
           -0.030946884719014633,
           -0.1366639662956004
          ],
          [
           -1.0354364405357046,
           0.034270504213054664
          ],
          [
           0.16059473468340002,
           0.1316736906010192
          ],
          [
           0.5346380719420267,
           0.14469073845248204
          ],
          [
           0.18749983083398547,
           0.16878204116073903
          ],
          [
           -0.3026553494637483,
           -0.19943169595353538
          ],
          [
           0.2956203408102738,
           -0.04429224219347816
          ],
          [
           -0.03363262528000632,
           -0.05794166136911372
          ],
          [
           0.025987677356170025,
           -0.01478765931824455
          ],
          [
           -0.9254026542475913,
           -0.03630015850649215
          ],
          [
           0.17818382521363674,
           0.028521989348519128
          ],
          [
           0.23139851114683552,
           0.04414555808034493
          ],
          [
           0.23842096970474813,
           0.016268093502731062
          ],
          [
           0.6976731909890077,
           0.08138252494245535
          ],
          [
           0.09371226485382067,
           -0.04899903205659939
          ],
          [
           -0.3026553494637483,
           -0.19943169595353538
          ],
          [
           0.2956203408102738,
           -0.04429224219347816
          ],
          [
           0.05251940542802913,
           -0.04726061475957977
          ],
          [
           0.5346380719420267,
           0.14469073845248204
          ],
          [
           0.4138581859515398,
           0.11534525019669672
          ],
          [
           -0.05524530656839488,
           0.02807401191239478
          ],
          [
           0.13370971875701798,
           -0.02834667434945004
          ],
          [
           0.05193017404235434,
           -0.047916041759890504
          ],
          [
           0.030047663662116975,
           -0.03682857338571921
          ],
          [
           0.0509123536903644,
           0.07189167152682785
          ],
          [
           0.011009653760993388,
           0.022353801257850137
          ],
          [
           0.8078374992765021,
           -0.07762962396373041
          ],
          [
           -0.40309514343971387,
           0.013781569141428918
          ],
          [
           -0.3607595892462996,
           -0.003159903695632238
          ],
          [
           -0.016080557776149362,
           0.052636351727414876
          ],
          [
           -0.26290450682427036,
           0.04687912255030824
          ],
          [
           0.13352334844967118,
           -0.05950802475126693
          ],
          [
           -0.01110754517139867,
           0.018848981650080532
          ],
          [
           -0.5625986391169135,
           0.02498970278975321
          ],
          [
           1.1922623533027945,
           0.03275681943341624
          ],
          [
           -0.47669196463539265,
           0.09165399827179499
          ],
          [
           1.3653972372412682,
           0.06594961951486766
          ],
          [
           -0.071665346971713,
           0.08561244304291904
          ],
          [
           -0.11704369461949682,
           0.0075542930062511005
          ],
          [
           0.06811364335590042,
           -0.015711522981291637
          ],
          [
           -0.030946884719014633,
           -0.1366639662956004
          ],
          [
           -0.1856273425873951,
           -0.04213849749794463
          ],
          [
           -0.0417915034777252,
           0.00008708082896191627
          ],
          [
           0.13123858643666608,
           0.10376471542258514
          ],
          [
           0.6254004148140666,
           0.012764202903781552
          ],
          [
           0.1085145858960459,
           -0.19581671569903847
          ],
          [
           -0.13903978419693885,
           -0.05400194774119882
          ],
          [
           -0.1390008786256658,
           -0.002330181378056295
          ],
          [
           0.41230635499960044,
           0.035947382370068226
          ],
          [
           -0.37465766906097997,
           0.04002089278947096
          ],
          [
           -0.04888236052647699,
           0.009865832558716647
          ],
          [
           0.1387988205460715,
           -0.06093885273003252
          ],
          [
           0.5508836647786666,
           0.020843595411861315
          ],
          [
           -0.39101433103496674,
           0.047455845968215726
          ],
          [
           -0.16023642673098948,
           0.023576957537443377
          ],
          [
           0.5960530517186271,
           0.03358512274280656
          ],
          [
           -0.14170858203578973,
           0.022542858285305556
          ],
          [
           0.22355527023319155,
           0.04075568390544504
          ],
          [
           0.2779390063660685,
           -0.017446757497964427
          ],
          [
           0.20417777767579537,
           -0.031033894469146617
          ],
          [
           -0.5565965110145044,
           0.027823572076158598
          ],
          [
           0.18302882585703628,
           0.0913840177890961
          ],
          [
           0.21853205688967137,
           -0.02962656343152048
          ],
          [
           0.5412030760999187,
           0.04245983444707235
          ],
          [
           0.4531076485509402,
           -0.06938383877422893
          ],
          [
           -0.14687926006445196,
           0.030885215048328973
          ],
          [
           -0.015223379821691196,
           0.005489158334967215
          ],
          [
           -0.2684661233215593,
           0.018198118719737977
          ],
          [
           -1.4549654295333312,
           -0.08555900378996739
          ],
          [
           -0.19191436000255635,
           -0.024907812672608998
          ],
          [
           -1.1231848553507007,
           -0.07316768055170542
          ],
          [
           -0.027035618193622213,
           -0.08457941549568204
          ],
          [
           0.309476377464307,
           -0.01396719445619965
          ],
          [
           0.5117170334196999,
           0.02742041282908758
          ],
          [
           -0.0940837505258969,
           0.03863575365539873
          ],
          [
           -0.15453550315578468,
           0.022416363790398464
          ],
          [
           0.5067145278590033,
           -0.0488953076855978
          ],
          [
           0.540373508578341,
           0.0440064610374975
          ],
          [
           -1.900576849890058,
           -0.05427442661311943
          ],
          [
           0.21148512545914855,
           -0.008131774156936444
          ],
          [
           0.1036294246732723,
           0.05160611294559203
          ],
          [
           0.32299355908617144,
           0.06695309597853338
          ],
          [
           0.031071759112819564,
           -0.015801990703039337
          ],
          [
           0.7794866211843328,
           -0.11333278004167369
          ],
          [
           -0.09473385030287318,
           0.08298497265786864
          ],
          [
           -0.2542015779617941,
           -0.030104741323157214
          ],
          [
           0.1680169167011627,
           -0.03632021010707831
          ],
          [
           0.667389583773911,
           0.022527522989548743
          ],
          [
           -0.6089527639924199,
           -0.03976908422919223
          ],
          [
           -0.01272149957367219,
           -0.004803545569302514
          ],
          [
           0.32501225702435477,
           0.0349084463014151
          ],
          [
           0.1539770197850885,
           0.024698866371181794
          ],
          [
           0.9112686308289994,
           -0.0002772800435195677
          ],
          [
           0.2882351817606832,
           -0.019663834893435705
          ],
          [
           0.15363941960822558,
           0.06283232839632547
          ],
          [
           -0.255415181236458,
           -0.04088931666046847
          ],
          [
           -0.06445338060439099,
           0.019973002417827956
          ],
          [
           -0.19454989982477855,
           0.00048706420056987554
          ],
          [
           -0.037954283063299954,
           -0.034665456507354975
          ],
          [
           0.06373362726299092,
           -0.016834829177241772
          ],
          [
           0.1832471991656348,
           0.007142499904148281
          ],
          [
           0.010752374844742008,
           -0.0005697674787370488
          ],
          [
           0.16059473468340002,
           0.1316736906010192
          ],
          [
           -0.6040487774153007,
           0.00045596664131153375
          ],
          [
           0.12537639294896508,
           0.05491838858142728
          ],
          [
           -0.058889881693175994,
           -0.01458032066875603
          ],
          [
           -0.40637325292482274,
           -0.04718943796615349
          ]
         ],
         "hovertemplate": "%{text}<br>E true: %{customdata[0]:.5f}<br>E error: %{customdata[1]:.5f}",
         "marker": {
          "color": "#636EFA",
          "line": {
           "width": 1.5
          },
          "opacity": 0.3,
          "size": [
           8.135499242378144,
           8.337736750286677,
           8.075812805818993,
           8.180652483157745,
           8.694606662482666,
           8.455636336483073,
           8.197465234440187,
           8.542214593125298,
           8.954330289975443,
           8.231458749084313,
           8.660461429390912,
           9.984585515971881,
           8.483838952633256,
           8.695459912146058,
           10.581791010429004,
           9.978980752083896,
           8.557341583919447,
           8.246134210767796,
           9.374302871054956,
           8.565707616999921,
           8.371110610231167,
           8.429379892838453,
           11.103824565074127,
           8.657388760519913,
           9.017853001246795,
           8.296991365227882,
           8.938757511899246,
           8.981090095264014,
           8.967782361501715,
           8.547663174289529,
           12.550925364178516,
           9.267572333637432,
           8.408770623889291,
           8.881040898801146,
           8.680572407135916,
           9.152267345032712,
           9.073818661477068,
           9.556466321311026,
           9.282591602147658,
           9.129329803645106,
           10.112237976946684,
           9.344346115771877,
           9.198939589297458,
           9.535111208376867,
           9.457326847843344,
           9.614739197656561,
           9.264722613889116,
           9.20293633548328,
           9.635659954281836,
           9.217368469281027,
           9.556506951312231,
           9.520700954916817,
           9.544135237253517,
           9.803704971380043,
           9.174693397264459,
           10.013781490165055,
           9.374895895978003,
           9.77150428441969,
           10.241946571556923,
           9.492382968574418,
           9.494552230969232,
           9.38593077812682,
           9.854368715205284,
           9.767564713738583,
           9.224003421667177,
           9.630727326082228,
           9.463385358737598,
           9.425315783681,
           9.379216148641458,
           9.089395109688358,
           9.335368488226901,
           9.58382570960183,
           9.58012203225681,
           9.23218951441163,
           8.96574232132485,
           9.258041281301015,
           9.68222975922859,
           9.759267980818679,
           9.580757532107622,
           9.392478956521963,
           9.97989383841851,
           9.329330691140278,
           8.508750359212614,
           9.294982321286193,
           9.149322509661278,
           8.97375690040961,
           9.369709372258885,
           10.029476124548095,
           9.441769439372068,
           9.557059025146577,
           9.371145045155865,
           9.509036928427305,
           9.268472009930942,
           9.385804058019145,
           9.724582232897575,
           10.228344000883581,
           9.609219517104115,
           9.553706792233932,
           9.100264321509826,
           9.76552004589907,
           10.09182300250918,
           10.085658529512619,
           9.176286009706505,
           9.368617737393617,
           9.875842558590454,
           9.275583912611562,
           9.551426941543781,
           9.496961601497743,
           9.345788261775182,
           9.127660291033273,
           9.473591186713223,
           8.87197670917265,
           9.705614283889778,
           9.458173294552624,
           9.50735615190641,
           9.214360411493312,
           9.33595241087607,
           9.483914453855997,
           9.360846381649335,
           9.146782782726342,
           9.507680442795337,
           9.53400012204092,
           9.431029516871678,
           8.93651908818649,
           9.812278896152584,
           9.448181417780951,
           9.87801556821322,
           9.440718736793917,
           9.394411055625655,
           9.594931866306377,
           9.218013204084928,
           9.473580812134193,
           11.351443408920044,
           9.292278894578342,
           9.428814963315382,
           9.570290574121069,
           9.726246648957227,
           8.693813719690224,
           9.333367357402249,
           10.151256884426031,
           9.802301303929536,
           9.961812229809993,
           9.489702121865957,
           9.33790513126542,
           9.603419420080408,
           9.167820404274691,
           10.00314631400629,
           9.441107629891825,
           9.670549871328813,
           9.698196855213334,
           9.371162979037146,
           9.70407319250697,
           9.132616196575011,
           10.32685736440829,
           9.573531879288998,
           9.048909585944745,
           9.10595653816327,
           9.838111317547453,
           9.267546015352323,
           10.17639984156258,
           9.323697224108118,
           9.659398463732195,
           11.059475068519106,
           9.734521882251233,
           10.432585236242534,
           9.863210858468515,
           10.34972112235812,
           9.254261883514326,
           9.157823717608114,
           10.118658404934411,
           9.081416854939329,
           10.224328378183827,
           8.92778835702136,
           9.375081542077462,
           9.712535014521045,
           8.687962010141453,
           13.640392115145215,
           11.327027868511646,
           12.412066536552658,
           10.010068751129982,
           8.143750125928088,
           9.100288074655634,
           8.934548181442247,
           8.866343359681883,
           12.794869774387745,
           9.730496318345248,
           10.337768142431816,
           9.957567155094658,
           9.196649700150461,
           20.692146007417833,
           8.991654198498908,
           15.483546531579304,
           9.787450152279998,
           8.10365827567037,
           8.211698437991435,
           8.467390352186753,
           8.994469747588866,
           8.188179833128261,
           9.925405102907082,
           11.739651369227342,
           8.60764998007707,
           8.34828273238523,
           8.567262291495167,
           8.383536366335841,
           8.478752523389174,
           8.065005764661953,
           11.501978712388864,
           8.701335830315921,
           8.430516361530334,
           8.260697617950601,
           9.926733487815497,
           8.678732294355376,
           9.39410326715999,
           14.971169287044031,
           8.428440469593339,
           8.886200529433895,
           8.105542892326785,
           8.375318364519753,
           9.384531575856505,
           9.326415507712193,
           8.881070627736209,
           9.517208158620225,
           8.737014721998158,
           8.784771483418584,
           9.175492467538152,
           9.72994432501921,
           9.324216232191711,
           8.929488277740987,
           8.014357773047413,
           8.412365641488076,
           8.106115914354074,
           8.01852500349621,
           8.683532767690075,
           8.388597064855908,
           10.796112522750166,
           17.690689436037875,
           8.842610423458972,
           8.553218154308205,
           13.813203618679946,
           9.602458721631876,
           8.6258108218404,
           8.53757989434578,
           10.960479622395717,
           9.74450603576845,
           9.585509863930831,
           9.06976069045402,
           9.447664014508664,
           9.101367067290791,
           26.06208101224399,
           37.243017382539506,
           22.13746450870603,
           8.96980825222291,
           9.009788884757068,
           8.508976744715408,
           8.184226682426916,
           8.304172441985175,
           9.648381761070093,
           12.168871226303528,
           9.179176417626437,
           8.658261675161057,
           8.942126436179208,
           8.01991395943593,
           9.290828238985544,
           9.20107480545911,
           9.563733177827835,
           8.705438876526477,
           11.815462615239253,
           8.249654635182472,
           11.100765630308064,
           9.566757247742819,
           9.017352654486391,
           8.691253668969198,
           8.879389170369329,
           9.177315013932962,
           18.270925848549766,
           15.966890837339898,
           8.876580690056599,
           8.414809688928322,
           10.052272359703913,
           8.714113054613842,
           8.132406173183293,
           8.265784559171635,
           8.04957381751357,
           8.09703903262434,
           8.07112099553404,
           8.87351239324769,
           9.116096449378405,
           8.539671326774341,
           8.372755962821122,
           8.908399597910167,
           9.012587743016123,
           8.625604750807126,
           8.75627978209944,
           8.148731225002518,
           8.988669331500272,
           21.92204857775611,
           9.196798176026546,
           8.225855134529857,
           8.42839241638842,
           8.376097765895118,
           16.921280044569876,
           8.180652483157745,
           9.324441036954228,
           12.035086012613856,
           10.336559810979523,
           8.299277383517573,
           10.698013768111121,
           8.065005764661953,
           9.00174313407423,
           8.594661873847791,
           9.290828238985544,
           17.009803158355318,
           8.932440590666207,
           9.50959594267745,
           10.214399477554688,
           9.1820169225496,
           8.79688298087194,
           8.943382548074414,
           10.063129671784363,
           18.043292552057736,
           26.06208101224399,
           9.166957757181008,
           9.460373023322699,
           8.014357773047413,
           8.412365641488076,
           8.175366705646395,
           8.295591438160875,
           10.55380001276318,
           8.621626299089474,
           14.253116412251282,
           11.588780049672138,
           8.532894094329485,
           9.350227917370988,
           9.119865551087837,
           8.58121614886812,
           8.590469023237828,
           10.9269512106343,
           11.976868811987428,
           9.391966367115844,
           9.864960691313723,
           10.184479289273902,
           10.431686441962116,
           9.02683430532922,
           9.78455440184262,
           9.1546445798089,
           8.642058004928879,
           9.44895703910889,
           9.480033617647718,
           9.338125560846953,
           9.329749686187217,
           8.924764011375345,
           11.305193700419686,
           10.4112112648148,
           8.74045874101182,
           9.163676825417161,
           8.363717316146099,
           10.356242782261601,
           10.317795423387302,
           10.143960792070539,
           10.048486774818125,
           8.952550851187421,
           9.621256729218752,
           11.513619026313183,
           8.441407703358006,
           10.396109133286732,
           9.488560996399631,
           9.459523223605526,
           14.219443017911303,
           10.45885254308839,
           9.770709931949607,
           11.092229971344183,
           9.025891652823137,
           8.762823035268713,
           9.078060637184503,
           8.337736750286677,
           8.849900935178484,
           9.643511040408763,
           13.257730412686989,
           8.10365827567037,
           9.569175715935566,
           8.441558883433235,
           8.389150640640143,
           8.423983426352278,
           8.620842341254864,
           8.734304749135948,
           9.546912167692858,
           8.499919031762985,
           8.694882326192243,
           9.875262865925178,
           11.051972510689334,
           10.14670371102416,
           8.70131844376128,
           9.03214454801577,
           9.944148491671395,
           21.92204857775611,
           8.764822052529873,
           20.765650972741803,
           8.639504543183612,
           9.7597901301588,
           9.116874559884991,
           13.465699789180821,
           8.560707206565747,
           8.451408906216566,
           9.569175715935566,
           9.363207437205986,
           8.574388800060586,
           8.572788370755523,
           8.563321836724532,
           8.105542892326785,
           8.512359080451285,
           8.339582297018676,
           13.091897235076894,
           9.384531575856505,
           11.739651369227342,
           11.085505970091234,
           9.517208158620225,
           8.742034718795047,
           8.78848099420675,
           9.183799336142147,
           9.459523223605526,
           8.326814490317425,
           9.058584558738229,
           8.01991395943593,
           10.419248649995698,
           9.491019401874006,
           9.774793625234295,
           9.617653615350696,
           8.75627978209944,
           8.954330289975443,
           12.262118894609863,
           9.466043924845861,
           9.925405102907082,
           8.249654635182472,
           8.337736750286677,
           10.583427277098291,
           8.849900935178484,
           9.175492467538152,
           8.10365827567037,
           8.974798697737526,
           11.100931273821798,
           8.106115914354074,
           8.014357773047413,
           11.570427133948527,
           12.732286981155623,
           13.764831986725671,
           8.786638459937516,
           11.519015001653894,
           8.994469747588866,
           9.787450152279998,
           9.573061585678209,
           13.448232947708508,
           8.339390111738387,
           8.760925914116934,
           8.878694919406668,
           9.331850467464491,
           8.556006251292969,
           8.627885976689035,
           9.110428134477914,
           9.43014444126166,
           10.4112112648148,
           8.211698437991435,
           9.565691024607622,
           9.23184597211232,
           10.03689160975051,
           9.059843621840725,
           8.581908296968155,
           11.267956018659893,
           8.455636336483073,
           9.012587743016123,
           8.908399597910167,
           8.840187268977644,
           8.869334479532222,
           11.513619026313183,
           8.854258294755873,
           8.422096277977674,
           8.779104919249429,
           8.397139427084033,
           9.3663387470368,
           10.891612264341012,
           9.776901450866424,
           8.84065543271705,
           8.376097765895118,
           9.009161040627864,
           8.485760199930787,
           8.900454063115603,
           9.290828238985544,
           8.180652483157745,
           9.186923209748867,
           9.567980522951197,
           8.434397515084092,
           8.065005764661953,
           9.984585515971881,
           21.92204857775611,
           26.06208101224399,
           8.01852500349621,
           8.94644202596844,
           9.013690458564957,
           8.611411738386968,
           8.53757989434578,
           9.74450603576845,
           9.255983052621646,
           8.857297759306825,
           37.243017382539506,
           26.06208101224399,
           8.483838952633256,
           12.65587485117156,
           9.230366862446981,
           10.62822088017564,
           8.412365641488076,
           8.01852500349621,
           8.106115914354074,
           9.025891652823137,
           13.68771029889838,
           8.404801522104679,
           8.416083724626336,
           8.95161426838078,
           9.158756164241256,
           9.926733487815497,
           11.06793855389449,
           9.648381761070093,
           9.568606068370778,
           8.42839241638842,
           8.211698437991435,
           9.642595729115989,
           10.226471077974667,
           8.53757989434578,
           14.219443017911303,
           8.473930959236936,
           13.01273144628976,
           15.966890837339898,
           8.567262291495167,
           8.478752523389174,
           9.514891810533992,
           8.375318364519753,
           8.476445082595971,
           9.384531575856505,
           9.536266073075012,
           9.017282146392573,
           8.337736750286677,
           8.849900935178484,
           8.866343359681883,
           8.547663174289529,
           13.257730412686989,
           8.175366705646395,
           8.88867729312438,
           10.010068751129982,
           10.294682372340523,
           10.318382446096475,
           9.195304425218874,
           9.059843621840725,
           9.925405102907082,
           11.739651369227342,
           8.143750125928088,
           8.969291865546717,
           8.75627978209944,
           9.730496318345248,
           10.337768142431816,
           11.381891269881248,
           8.065005764661953,
           8.333451809170487,
           8.188179833128261,
           9.11944072112074,
           9.273675006528727,
           10.55380001276318,
           10.165638144759605,
           8.611214895869809,
           8.34194902723312,
           8.184226682426916,
           8.904240130493283,
           8.717461542924266,
           9.54251261532503,
           8.01991395943593,
           8.476411799739397,
           8.376097765895118,
           9.156626468642033,
           9.337408722655276,
           10.317795423387302,
           18.46789557815068,
           8.04957381751357,
           8.934548181442247,
           9.356357869584262,
           8.994469747588866,
           9.55587579972337,
           8.551581743804615,
           9.491019401874006,
           9.894589534922659,
           10.299681482793629,
           8.075812805818993,
           8.714125484457334,
           10.552633235174373,
           9.232440526805334,
           9.901554243656676,
           8.988669331500272,
           9.290828238985544,
           21.92204857775611,
           10.716605108203353,
           8.180652483157745,
           9.957406326907615,
           8.954330289975443,
           8.389150640640143,
           9.587622106489704,
           8.690828348304958,
           8.75627978209944,
           8.148731225002518,
           9.218985283746761,
           8.560707206565747,
           9.824449917876343,
           9.770719811902651,
           9.153556752963164,
           9.49684890841912,
           9.925405102907082,
           14.253116412251282,
           8.784771483418584,
           8.737014721998158,
           8.10365827567037,
           9.179176417626437,
           9.841077027901722,
           8.645064785489154,
           8.705438876526477,
           9.416878345393378,
           9.50935597063649,
           8.180652483157745,
           16.921280044569876,
           9.459523223605526,
           8.467390352186753,
           8.014357773047413,
           8.106115914354074,
           8.994469747588866,
           8.372755962821122,
           9.331304036867161,
           9.957567155094658,
           8.363717316146099,
           8.94644202596844,
           9.139829386378606,
           8.737687286576449,
           9.491019401874006,
           8.508976744715408,
           8.866343359681883,
           9.55799288100243,
           8.07112099553404,
           9.39410326715999,
           8.337736750286677,
           11.103824565074127,
           8.849900935178484,
           9.116096449378405,
           8.065005764661953,
           8.430516361530334,
           9.00174313407423,
           9.498775621600052,
           8.886775446019449,
           12.942959093126637,
           8.376097765895118,
           9.389419109310294,
           8.273666257193687,
           10.619000016836559,
           8.01991395943593,
           10.165638144759605,
           8.542214593125298,
           9.517208158620225,
           8.175366705646395,
           9.365513514280194,
           8.998897538786075,
           11.493107501007211,
           8.997150954454888,
           8.469198092526252,
           11.739651369227342,
           8.4588451322099,
           9.900739838307281,
           8.075812805818993,
           8.499919031762985,
           10.010068751129982,
           9.384531575856505,
           8.943382548074414,
           10.14670371102416,
           8.988669331500272,
           8.588430148403232,
           8.98175769878927,
           9.356077089971379,
           9.290828238985544,
           10.07212643127505,
           8.455636336483073,
           9.385054460506574,
           9.083642181600046,
           21.92204857775611,
           26.06208101224399,
           8.01852500349621,
           8.412365641488076,
           8.83010567205968,
           8.79897041652328,
           8.225855134529857,
           8.53757989434578,
           9.74450603576845,
           8.246134210767796,
           13.465699789180821,
           9.569175715935566,
           8.211698437991435,
           9.338125560846953,
           8.405455767258822,
           8.727985315742421,
           8.197465234440187,
           8.954330289975443,
           9.612994112544277,
           8.75627978209944,
           9.163676825417161,
           9.730496318345248,
           8.464012825388558,
           9.926733487815497,
           11.100765630308064,
           9.26606985448962,
           9.20261404143821,
           9.925405102907082,
           8.249654635182472,
           8.547663174289529,
           9.72994432501921,
           13.257730412686989,
           10.4112112648148,
           9.179176417626437,
           8.542275645088008,
           8.296194766600948,
           9.218929005705867,
           9.648381761070093,
           8.180652483157745,
           16.921280044569876,
           9.459523223605526,
           14.219443017911303,
           9.889582300560564,
           8.014357773047413,
           8.106115914354074,
           8.994469747588866,
           9.787450152279998,
           8.372755962821122,
           9.798953461368685,
           10.317795423387302,
           9.957567155094658,
           8.363717316146099,
           9.544360560062863,
           9.491019401874006,
           11.305193700419686,
           8.866343359681883,
           9.643511040408763,
           8.951228839623228,
           8.389150640640143,
           9.39410326715999,
           8.337736750286677,
           8.849900935178484,
           11.103824565074127,
           9.116096449378405,
           8.065005764661953,
           9.984585515971881,
           11.501978712388864,
           8.345475612985318,
           9.80497311415392,
           9.119865551087837,
           8.376097765895118,
           18.270925848549766,
           9.009161040627864,
           8.01991395943593,
           8.621654210877084,
           8.542214593125298,
           8.881070627736209,
           9.517208158620225,
           8.143750125928088,
           8.908399597910167,
           9.012587743016123,
           9.67512867425998,
           8.929488277740987,
           11.739651369227342,
           11.513619026313183,
           9.177315013932962,
           9.196798176026546,
           8.075812805818993,
           8.625604750807126,
           10.010068751129982,
           9.384531575856505,
           8.943382548074414,
           10.396109133286732,
           9.3663387470368,
           10.668005084244333,
           9.290828238985544,
           8.70131844376128,
           8.483838952633256,
           11.092229971344183,
           8.25614317103442,
           37.243017382539506,
           26.06208101224399,
           9.602458721631876,
           8.01852500349621,
           8.412365641488076,
           11.637633295907971,
           8.225855134529857,
           8.53757989434578,
           9.74450603576845,
           8.246134210767796,
           8.04957381751357,
           9.569175715935566,
           8.211698437991435,
           9.196649700150461,
           8.660461429390912,
           13.091897235076894,
           9.20107480545911,
           8.969447741030896,
           9.207141046942045,
           9.341077771604644,
           10.317795423387302,
           9.20293633548328,
           8.53757989434578,
           9.585509863930831,
           8.467390352186753,
           9.459523223605526,
           10.052272359703913,
           10.581791010429004,
           8.964705417152501,
           8.105542892326785,
           8.943382548074414,
           8.967959549290462,
           8.09703903262434,
           13.465699789180821,
           8.934548181442247,
           8.246134210767796,
           8.175366705646395,
           9.517208158620225,
           8.954330289975443,
           8.971621944962529,
           8.10365827567037,
           8.784771483418584,
           9.175492467538152,
           11.739651369227342,
           11.588780049672138,
           9.032736296965513,
           9.44895703910889,
           8.01991395943593,
           8.693813719690224,
           10.010068751129982,
           8.375318364519753,
           8.75627978209944,
           8.148731225002518,
           9.121942561726067,
           10.337768142431816,
           9.025891652823137,
           9.491019401874006,
           8.508976744715408,
           8.337736750286677,
           8.849900935178484,
           11.103824565074127,
           8.74045874101182,
           8.106115914354074,
           8.014357773047413,
           9.573061585678209,
           8.866343359681883,
           9.668357465569406,
           8.879389170369329,
           9.058584558738229,
           9.602458721631876,
           9.736191715149047,
           9.745520237377951,
           8.705438876526477,
           9.78455440184262,
           9.290828238985544,
           8.968363620910564,
           9.183799336142147,
           8.397952727806468,
           8.994469747588866,
           9.787450152279998,
           8.363717316146099,
           9.110428134477914,
           10.03689160975051,
           9.925405102907082,
           10.55380001276318,
           8.211698437991435,
           10.165638144759605,
           9.39410326715999,
           9.059843621840725,
           8.143750125928088,
           8.455636336483073,
           9.078060637184503,
           9.012587743016123,
           9.546912167692858,
           9.677893437557708,
           8.422096277977674,
           8.075812805818993,
           8.75496543144291,
           10.14670371102416,
           8.988669331500272,
           9.506341117862858,
           8.680572407135916,
           8.42839241638842,
           8.376097765895118,
           9.009161040627864,
           9.196798176026546,
           10.187483285442248,
           8.180652483157745,
           9.374302871054956,
           9.14742630190688,
           8.065005764661953,
           9.984585515971881,
           21.92204857775611,
           26.06208101224399,
           37.243017382539506,
           8.01852500349621,
           8.412365641488076,
           8.313852161441023,
           8.74397102755554,
           8.483838952633256,
           9.769044883270729,
           10.417928451022366,
           9.384531575856505,
           13.091897235076894,
           8.375318364519753,
           8.01852500349621,
           8.412365641488076,
           8.388597064855908,
           26.06208101224399,
           18.043292552057736,
           9.753265831591143,
           8.567262291495167,
           8.383536366335841,
           8.478752523389174,
           12.211561285196938,
           9.563733177827835,
           8.211698437991435,
           9.317362172197976,
           8.938757511899246,
           10.865454666826576,
           10.55380001276318,
           8.304172441985175,
           9.457874616538883,
           9.648381761070093,
           9.925405102907082,
           14.253116412251282,
           11.739651369227342,
           13.541409334181097,
           9.163096517407189,
           8.730350692415573,
           8.065005764661953,
           8.430516361530334,
           9.00174313407423,
           15.966890837339898,
           9.290828238985544,
           8.01991395943593,
           8.339582297018676,
           8.954465646497821,
           10.052272359703913,
           10.226471077974667,
           9.218129701843239,
           8.295591438160875,
           9.517208158620225,
           10.583427277098291,
           9.602458721631876,
           9.957567155094658,
           9.569657065222096,
           10.259432505765702,
           8.705438876526477,
           8.53757989434578,
           9.74450603576845,
           14.219443017911303,
           8.552925907846612,
           10.337768142431816,
           8.249654635182472,
           9.854665397284073,
           9.116036050440352,
           9.439020069138378,
           8.180652483157745,
           8.60764998007707,
           8.231458749084313,
           8.184226682426916,
           8.75627978209944,
           9.730496318345248,
           10.165638144759605,
           9.565691024607622,
           8.376097765895118,
           10.4112112648148,
           8.337736750286677,
           8.849900935178484,
           10.807016734070471,
           11.815462615239253,
           8.729030423928188,
           8.10365827567037,
           13.257730412686989,
           8.547663174289529,
           8.483644956626637,
           9.569175715935566,
           8.451408906216566,
           8.908399597910167,
           10.010068751129982,
           9.638821404069109,
           8.994469747588866,
           8.67484199440865,
           11.513619026313183,
           8.441407703358006,
           9.491019401874006,
           9.009788884757068,
           8.499919031762985,
           8.714125484457334,
           9.153556752963164,
           8.988669331500272,
           21.92204857775611,
           9.009161040627864,
           10.999266538556872,
           8.747062511929704,
           8.389150640640143
          ],
          "symbol": "circle"
         },
         "mode": "markers",
         "name": "Model",
         "text": [
          "R index: 0",
          "R index: 1",
          "R index: 2",
          "R index: 3",
          "R index: 4",
          "R index: 5",
          "R index: 6",
          "R index: 7",
          "R index: 8",
          "R index: 9",
          "R index: 10",
          "R index: 11",
          "R index: 12",
          "R index: 13",
          "R index: 14",
          "R index: 15",
          "R index: 16",
          "R index: 17",
          "R index: 18",
          "R index: 19",
          "R index: 20",
          "R index: 21",
          "R index: 22",
          "R index: 23",
          "R index: 24",
          "R index: 25",
          "R index: 26",
          "R index: 27",
          "R index: 28",
          "R index: 29",
          "R index: 30",
          "R index: 31",
          "R index: 32",
          "R index: 33",
          "R index: 34",
          "R index: 35",
          "R index: 36",
          "R index: 37",
          "R index: 38",
          "R index: 39",
          "R index: 40",
          "R index: 41",
          "R index: 42",
          "R index: 43",
          "R index: 44",
          "R index: 45",
          "R index: 46",
          "R index: 47",
          "R index: 48",
          "R index: 49",
          "R index: 50",
          "R index: 51",
          "R index: 52",
          "R index: 53",
          "R index: 54",
          "R index: 55",
          "R index: 56",
          "R index: 57",
          "R index: 58",
          "R index: 59",
          "R index: 60",
          "R index: 61",
          "R index: 62",
          "R index: 63",
          "R index: 64",
          "R index: 65",
          "R index: 66",
          "R index: 67",
          "R index: 68",
          "R index: 69",
          "R index: 70",
          "R index: 71",
          "R index: 72",
          "R index: 73",
          "R index: 74",
          "R index: 75",
          "R index: 76",
          "R index: 77",
          "R index: 78",
          "R index: 79",
          "R index: 80",
          "R index: 81",
          "R index: 82",
          "R index: 83",
          "R index: 84",
          "R index: 85",
          "R index: 86",
          "R index: 87",
          "R index: 88",
          "R index: 89",
          "R index: 90",
          "R index: 91",
          "R index: 92",
          "R index: 93",
          "R index: 94",
          "R index: 95",
          "R index: 96",
          "R index: 97",
          "R index: 98",
          "R index: 99",
          "R index: 100",
          "R index: 101",
          "R index: 102",
          "R index: 103",
          "R index: 104",
          "R index: 105",
          "R index: 106",
          "R index: 107",
          "R index: 108",
          "R index: 109",
          "R index: 110",
          "R index: 111",
          "R index: 112",
          "R index: 113",
          "R index: 114",
          "R index: 115",
          "R index: 116",
          "R index: 117",
          "R index: 118",
          "R index: 119",
          "R index: 120",
          "R index: 121",
          "R index: 122",
          "R index: 123",
          "R index: 124",
          "R index: 125",
          "R index: 126",
          "R index: 127",
          "R index: 128",
          "R index: 129",
          "R index: 130",
          "R index: 131",
          "R index: 132",
          "R index: 133",
          "R index: 134",
          "R index: 135",
          "R index: 136",
          "R index: 137",
          "R index: 138",
          "R index: 139",
          "R index: 140",
          "R index: 141",
          "R index: 142",
          "R index: 143",
          "R index: 144",
          "R index: 145",
          "R index: 146",
          "R index: 147",
          "R index: 148",
          "R index: 149",
          "R index: 150",
          "R index: 151",
          "R index: 152",
          "R index: 153",
          "R index: 154",
          "R index: 155",
          "R index: 156",
          "R index: 157",
          "R index: 158",
          "R index: 159",
          "R index: 160",
          "R index: 161",
          "R index: 162",
          "R index: 163",
          "R index: 164",
          "R index: 165",
          "R index: 166",
          "R index: 167",
          "R index: 168",
          "R index: 169",
          "R index: 170",
          "R index: 171",
          "R index: 172",
          "R index: 173",
          "R index: 174",
          "R index: 175",
          "R index: 176",
          "R index: 177",
          "R index: 178",
          "R index: 179",
          "R index: 180",
          "R index: 181",
          "R index: 182",
          "R index: 183",
          "R index: 184",
          "R index: 185",
          "R index: 186",
          "R index: 187",
          "R index: 188",
          "R index: 189",
          "R index: 190",
          "R index: 191",
          "R index: 192",
          "R index: 193",
          "R index: 194",
          "R index: 195",
          "R index: 196",
          "R index: 197",
          "R index: 198",
          "R index: 199",
          "R index: 200",
          "R index: 201",
          "R index: 202",
          "R index: 203",
          "R index: 204",
          "R index: 205",
          "R index: 206",
          "R index: 207",
          "R index: 208",
          "R index: 209",
          "R index: 210",
          "R index: 211",
          "R index: 212",
          "R index: 213",
          "R index: 214",
          "R index: 215",
          "R index: 216",
          "R index: 217",
          "R index: 218",
          "R index: 219",
          "R index: 220",
          "R index: 221",
          "R index: 222",
          "R index: 223",
          "R index: 224",
          "R index: 225",
          "R index: 226",
          "R index: 227",
          "R index: 228",
          "R index: 229",
          "R index: 230",
          "R index: 231",
          "R index: 232",
          "R index: 233",
          "R index: 234",
          "R index: 235",
          "R index: 236",
          "R index: 237",
          "R index: 238",
          "R index: 239",
          "R index: 240",
          "R index: 241",
          "R index: 242",
          "R index: 243",
          "R index: 244",
          "R index: 245",
          "R index: 246",
          "R index: 247",
          "R index: 248",
          "R index: 249",
          "R index: 250",
          "R index: 251",
          "R index: 252",
          "R index: 253",
          "R index: 254",
          "R index: 255",
          "R index: 256",
          "R index: 257",
          "R index: 258",
          "R index: 259",
          "R index: 260",
          "R index: 261",
          "R index: 262",
          "R index: 263",
          "R index: 264",
          "R index: 265",
          "R index: 266",
          "R index: 267",
          "R index: 268",
          "R index: 269",
          "R index: 270",
          "R index: 271",
          "R index: 272",
          "R index: 273",
          "R index: 274",
          "R index: 275",
          "R index: 276",
          "R index: 277",
          "R index: 278",
          "R index: 279",
          "R index: 280",
          "R index: 281",
          "R index: 282",
          "R index: 283",
          "R index: 284",
          "R index: 285",
          "R index: 286",
          "R index: 287",
          "R index: 288",
          "R index: 289",
          "R index: 290",
          "R index: 291",
          "R index: 292",
          "R index: 293",
          "R index: 294",
          "R index: 295",
          "R index: 296",
          "R index: 297",
          "R index: 298",
          "R index: 299",
          "R index: 300",
          "R index: 301",
          "R index: 302",
          "R index: 303",
          "R index: 304",
          "R index: 305",
          "R index: 306",
          "R index: 307",
          "R index: 308",
          "R index: 309",
          "R index: 310",
          "R index: 311",
          "R index: 312",
          "R index: 313",
          "R index: 314",
          "R index: 315",
          "R index: 316",
          "R index: 317",
          "R index: 318",
          "R index: 319",
          "R index: 320",
          "R index: 321",
          "R index: 322",
          "R index: 323",
          "R index: 324",
          "R index: 325",
          "R index: 326",
          "R index: 327",
          "R index: 328",
          "R index: 329",
          "R index: 330",
          "R index: 331",
          "R index: 332",
          "R index: 333",
          "R index: 334",
          "R index: 335",
          "R index: 336",
          "R index: 337",
          "R index: 338",
          "R index: 339",
          "R index: 340",
          "R index: 341",
          "R index: 342",
          "R index: 343",
          "R index: 344",
          "R index: 345",
          "R index: 346",
          "R index: 347",
          "R index: 348",
          "R index: 349",
          "R index: 350",
          "R index: 351",
          "R index: 352",
          "R index: 353",
          "R index: 354",
          "R index: 355",
          "R index: 356",
          "R index: 357",
          "R index: 358",
          "R index: 359",
          "R index: 360",
          "R index: 361",
          "R index: 362",
          "R index: 363",
          "R index: 364",
          "R index: 365",
          "R index: 366",
          "R index: 367",
          "R index: 368",
          "R index: 369",
          "R index: 370",
          "R index: 371",
          "R index: 372",
          "R index: 373",
          "R index: 374",
          "R index: 375",
          "R index: 376",
          "R index: 377",
          "R index: 378",
          "R index: 379",
          "R index: 380",
          "R index: 381",
          "R index: 382",
          "R index: 383",
          "R index: 384",
          "R index: 385",
          "R index: 386",
          "R index: 387",
          "R index: 388",
          "R index: 389",
          "R index: 390",
          "R index: 391",
          "R index: 392",
          "R index: 393",
          "R index: 394",
          "R index: 395",
          "R index: 396",
          "R index: 397",
          "R index: 398",
          "R index: 399",
          "R index: 400",
          "R index: 401",
          "R index: 402",
          "R index: 403",
          "R index: 404",
          "R index: 405",
          "R index: 406",
          "R index: 407",
          "R index: 408",
          "R index: 409",
          "R index: 410",
          "R index: 411",
          "R index: 412",
          "R index: 413",
          "R index: 414",
          "R index: 415",
          "R index: 416",
          "R index: 417",
          "R index: 418",
          "R index: 419",
          "R index: 420",
          "R index: 421",
          "R index: 422",
          "R index: 423",
          "R index: 424",
          "R index: 425",
          "R index: 426",
          "R index: 427",
          "R index: 428",
          "R index: 429",
          "R index: 430",
          "R index: 431",
          "R index: 432",
          "R index: 433",
          "R index: 434",
          "R index: 435",
          "R index: 436",
          "R index: 437",
          "R index: 438",
          "R index: 439",
          "R index: 440",
          "R index: 441",
          "R index: 442",
          "R index: 443",
          "R index: 444",
          "R index: 445",
          "R index: 446",
          "R index: 447",
          "R index: 448",
          "R index: 449",
          "R index: 450",
          "R index: 451",
          "R index: 452",
          "R index: 453",
          "R index: 454",
          "R index: 455",
          "R index: 456",
          "R index: 457",
          "R index: 458",
          "R index: 459",
          "R index: 460",
          "R index: 461",
          "R index: 462",
          "R index: 463",
          "R index: 464",
          "R index: 465",
          "R index: 466",
          "R index: 467",
          "R index: 468",
          "R index: 469",
          "R index: 470",
          "R index: 471",
          "R index: 472",
          "R index: 473",
          "R index: 474",
          "R index: 475",
          "R index: 476",
          "R index: 477",
          "R index: 478",
          "R index: 479",
          "R index: 480",
          "R index: 481",
          "R index: 482",
          "R index: 483",
          "R index: 484",
          "R index: 485",
          "R index: 486",
          "R index: 487",
          "R index: 488",
          "R index: 489",
          "R index: 490",
          "R index: 491",
          "R index: 492",
          "R index: 493",
          "R index: 494",
          "R index: 495",
          "R index: 496",
          "R index: 497",
          "R index: 498",
          "R index: 499",
          "R index: 500",
          "R index: 501",
          "R index: 502",
          "R index: 503",
          "R index: 504",
          "R index: 505",
          "R index: 506",
          "R index: 507",
          "R index: 508",
          "R index: 509",
          "R index: 510",
          "R index: 511",
          "R index: 512",
          "R index: 513",
          "R index: 514",
          "R index: 515",
          "R index: 516",
          "R index: 517",
          "R index: 518",
          "R index: 519",
          "R index: 520",
          "R index: 521",
          "R index: 522",
          "R index: 523",
          "R index: 524",
          "R index: 525",
          "R index: 526",
          "R index: 527",
          "R index: 528",
          "R index: 529",
          "R index: 530",
          "R index: 531",
          "R index: 532",
          "R index: 533",
          "R index: 534",
          "R index: 535",
          "R index: 536",
          "R index: 537",
          "R index: 538",
          "R index: 539",
          "R index: 540",
          "R index: 541",
          "R index: 542",
          "R index: 543",
          "R index: 544",
          "R index: 545",
          "R index: 546",
          "R index: 547",
          "R index: 548",
          "R index: 549",
          "R index: 550",
          "R index: 551",
          "R index: 552",
          "R index: 553",
          "R index: 554",
          "R index: 555",
          "R index: 556",
          "R index: 557",
          "R index: 558",
          "R index: 559",
          "R index: 560",
          "R index: 561",
          "R index: 562",
          "R index: 563",
          "R index: 564",
          "R index: 565",
          "R index: 566",
          "R index: 567",
          "R index: 568",
          "R index: 569",
          "R index: 570",
          "R index: 571",
          "R index: 572",
          "R index: 573",
          "R index: 574",
          "R index: 575",
          "R index: 576",
          "R index: 577",
          "R index: 578",
          "R index: 579",
          "R index: 580",
          "R index: 581",
          "R index: 582",
          "R index: 583",
          "R index: 584",
          "R index: 585",
          "R index: 586",
          "R index: 587",
          "R index: 588",
          "R index: 589",
          "R index: 590",
          "R index: 591",
          "R index: 592",
          "R index: 593",
          "R index: 594",
          "R index: 595",
          "R index: 596",
          "R index: 597",
          "R index: 598",
          "R index: 599",
          "R index: 600",
          "R index: 601",
          "R index: 602",
          "R index: 603",
          "R index: 604",
          "R index: 605",
          "R index: 606",
          "R index: 607",
          "R index: 608",
          "R index: 609",
          "R index: 610",
          "R index: 611",
          "R index: 612",
          "R index: 613",
          "R index: 614",
          "R index: 615",
          "R index: 616",
          "R index: 617",
          "R index: 618",
          "R index: 619",
          "R index: 620",
          "R index: 621",
          "R index: 622",
          "R index: 623",
          "R index: 624",
          "R index: 625",
          "R index: 626",
          "R index: 627",
          "R index: 628",
          "R index: 629",
          "R index: 630",
          "R index: 631",
          "R index: 632",
          "R index: 633",
          "R index: 634",
          "R index: 635",
          "R index: 636",
          "R index: 637",
          "R index: 638",
          "R index: 639",
          "R index: 640",
          "R index: 641",
          "R index: 642",
          "R index: 643",
          "R index: 644",
          "R index: 645",
          "R index: 646",
          "R index: 647",
          "R index: 648",
          "R index: 649",
          "R index: 650",
          "R index: 651",
          "R index: 652",
          "R index: 653",
          "R index: 654",
          "R index: 655",
          "R index: 656",
          "R index: 657",
          "R index: 658",
          "R index: 659",
          "R index: 660",
          "R index: 661",
          "R index: 662",
          "R index: 663",
          "R index: 664",
          "R index: 665",
          "R index: 666",
          "R index: 667",
          "R index: 668",
          "R index: 669",
          "R index: 670",
          "R index: 671",
          "R index: 672",
          "R index: 673",
          "R index: 674",
          "R index: 675",
          "R index: 676",
          "R index: 677",
          "R index: 678",
          "R index: 679",
          "R index: 680",
          "R index: 681",
          "R index: 682",
          "R index: 683",
          "R index: 684",
          "R index: 685",
          "R index: 686",
          "R index: 687",
          "R index: 688",
          "R index: 689",
          "R index: 690",
          "R index: 691",
          "R index: 692",
          "R index: 693",
          "R index: 694",
          "R index: 695",
          "R index: 696",
          "R index: 697",
          "R index: 698",
          "R index: 699",
          "R index: 700",
          "R index: 701",
          "R index: 702",
          "R index: 703",
          "R index: 704",
          "R index: 705",
          "R index: 706",
          "R index: 707",
          "R index: 708",
          "R index: 709",
          "R index: 710",
          "R index: 711",
          "R index: 712",
          "R index: 713",
          "R index: 714",
          "R index: 715",
          "R index: 716",
          "R index: 717",
          "R index: 718",
          "R index: 719",
          "R index: 720",
          "R index: 721",
          "R index: 722",
          "R index: 723",
          "R index: 724",
          "R index: 725",
          "R index: 726",
          "R index: 727",
          "R index: 728",
          "R index: 729",
          "R index: 730",
          "R index: 731",
          "R index: 732",
          "R index: 733",
          "R index: 734",
          "R index: 735",
          "R index: 736",
          "R index: 737",
          "R index: 738",
          "R index: 739",
          "R index: 740",
          "R index: 741",
          "R index: 742",
          "R index: 743",
          "R index: 744",
          "R index: 745",
          "R index: 746",
          "R index: 747",
          "R index: 748",
          "R index: 749",
          "R index: 750",
          "R index: 751",
          "R index: 752",
          "R index: 753",
          "R index: 754",
          "R index: 755",
          "R index: 756",
          "R index: 757",
          "R index: 758",
          "R index: 759",
          "R index: 760",
          "R index: 761",
          "R index: 762",
          "R index: 763",
          "R index: 764",
          "R index: 765",
          "R index: 766",
          "R index: 767",
          "R index: 768",
          "R index: 769",
          "R index: 770",
          "R index: 771",
          "R index: 772",
          "R index: 773",
          "R index: 774",
          "R index: 775",
          "R index: 776",
          "R index: 777",
          "R index: 778",
          "R index: 779",
          "R index: 780",
          "R index: 781",
          "R index: 782",
          "R index: 783",
          "R index: 784",
          "R index: 785",
          "R index: 786",
          "R index: 787",
          "R index: 788",
          "R index: 789",
          "R index: 790",
          "R index: 791",
          "R index: 792",
          "R index: 793",
          "R index: 794",
          "R index: 795",
          "R index: 796",
          "R index: 797",
          "R index: 798",
          "R index: 799",
          "R index: 800",
          "R index: 801",
          "R index: 802",
          "R index: 803",
          "R index: 804",
          "R index: 805",
          "R index: 806",
          "R index: 807",
          "R index: 808",
          "R index: 809",
          "R index: 810",
          "R index: 811",
          "R index: 812",
          "R index: 813",
          "R index: 814",
          "R index: 815",
          "R index: 816",
          "R index: 817",
          "R index: 818",
          "R index: 819",
          "R index: 820",
          "R index: 821",
          "R index: 822",
          "R index: 823",
          "R index: 824",
          "R index: 825",
          "R index: 826",
          "R index: 827",
          "R index: 828",
          "R index: 829",
          "R index: 830",
          "R index: 831",
          "R index: 832",
          "R index: 833",
          "R index: 834",
          "R index: 835",
          "R index: 836",
          "R index: 837",
          "R index: 838",
          "R index: 839",
          "R index: 840",
          "R index: 841",
          "R index: 842",
          "R index: 843",
          "R index: 844",
          "R index: 845",
          "R index: 846",
          "R index: 847",
          "R index: 848",
          "R index: 849",
          "R index: 850",
          "R index: 851",
          "R index: 852",
          "R index: 853",
          "R index: 854",
          "R index: 855",
          "R index: 856",
          "R index: 857",
          "R index: 858",
          "R index: 859",
          "R index: 860",
          "R index: 861",
          "R index: 862",
          "R index: 863",
          "R index: 864",
          "R index: 865",
          "R index: 866",
          "R index: 867",
          "R index: 868",
          "R index: 869",
          "R index: 870",
          "R index: 871",
          "R index: 872",
          "R index: 873",
          "R index: 874",
          "R index: 875",
          "R index: 876",
          "R index: 877",
          "R index: 878",
          "R index: 879",
          "R index: 880",
          "R index: 881",
          "R index: 882",
          "R index: 883",
          "R index: 884",
          "R index: 885",
          "R index: 886",
          "R index: 887",
          "R index: 888",
          "R index: 889",
          "R index: 890",
          "R index: 891",
          "R index: 892",
          "R index: 893",
          "R index: 894",
          "R index: 895",
          "R index: 896",
          "R index: 897",
          "R index: 898",
          "R index: 899",
          "R index: 900",
          "R index: 901",
          "R index: 902",
          "R index: 903",
          "R index: 904",
          "R index: 905",
          "R index: 906",
          "R index: 907",
          "R index: 908",
          "R index: 909",
          "R index: 910",
          "R index: 911",
          "R index: 912",
          "R index: 913",
          "R index: 914",
          "R index: 915",
          "R index: 916",
          "R index: 917",
          "R index: 918",
          "R index: 919",
          "R index: 920",
          "R index: 921",
          "R index: 922",
          "R index: 923",
          "R index: 924",
          "R index: 925",
          "R index: 926",
          "R index: 927",
          "R index: 928",
          "R index: 929",
          "R index: 930",
          "R index: 931",
          "R index: 932",
          "R index: 933",
          "R index: 934",
          "R index: 935",
          "R index: 936",
          "R index: 937",
          "R index: 938",
          "R index: 939",
          "R index: 940",
          "R index: 941",
          "R index: 942",
          "R index: 943",
          "R index: 944",
          "R index: 945",
          "R index: 946",
          "R index: 947",
          "R index: 948",
          "R index: 949",
          "R index: 950",
          "R index: 951",
          "R index: 952",
          "R index: 953",
          "R index: 954",
          "R index: 955",
          "R index: 956",
          "R index: 957",
          "R index: 958",
          "R index: 959",
          "R index: 960",
          "R index: 961",
          "R index: 962",
          "R index: 963",
          "R index: 964",
          "R index: 965",
          "R index: 966",
          "R index: 967",
          "R index: 968",
          "R index: 969",
          "R index: 970",
          "R index: 971",
          "R index: 972",
          "R index: 973",
          "R index: 974",
          "R index: 975",
          "R index: 976",
          "R index: 977",
          "R index: 978",
          "R index: 979",
          "R index: 980",
          "R index: 981",
          "R index: 982",
          "R index: 983",
          "R index: 984",
          "R index: 985",
          "R index: 986",
          "R index: 987",
          "R index: 988",
          "R index: 989",
          "R index: 990",
          "R index: 991",
          "R index: 992",
          "R index: 993",
          "R index: 994",
          "R index: 995",
          "R index: 996",
          "R index: 997",
          "R index: 998",
          "R index: 999"
         ],
         "type": "scatter",
         "x": [
          2.2204222679138184,
          18.427635192871094,
          -6.871083736419678,
          -11.186053276062012,
          1.4396412372589111,
          6.848723411560059,
          -3.8718602657318115,
          -4.247466564178467,
          5.874062538146973,
          6.245774745941162,
          3.164494037628174,
          -0.16130895912647247,
          -11.471856117248535,
          5.074549674987793,
          -0.5989211797714233,
          -3.7962069511413574,
          5.873992919921875,
          8.266291618347168,
          10.09060001373291,
          -1.6201776266098022,
          -3.5178537368774414,
          -2.315971851348877,
          -3.8219385147094727,
          16.804101943969727,
          9.427988052368164,
          7.021523475646973,
          -4.455656051635742,
          0.5702171325683594,
          2.700174570083618,
          2.962749481201172,
          -0.07447270303964615,
          10.28425407409668,
          0.7880039215087891,
          2.303800106048584,
          5.632174491882324,
          0.331072062253952,
          3.2095320224761963,
          5.2071757316589355,
          7.371652603149414,
          7.186752796173096,
          2.4939124584198,
          4.415925025939941,
          4.433974742889404,
          -7.051097869873047,
          0.4422876238822937,
          0.26848912239074707,
          5.397083282470703,
          3.7593345642089844,
          -0.04287775605916977,
          4.948315143585205,
          4.4393391609191895,
          2.615962266921997,
          3.1894328594207764,
          3.349210262298584,
          -0.0610826201736927,
          2.535681962966919,
          5.403566837310791,
          5.1449384689331055,
          5.184162616729736,
          5.9960713386535645,
          5.980856895446777,
          5.208331108093262,
          5.059389591217041,
          4.398987293243408,
          5.179500102996826,
          3.1111032962799072,
          2.792586088180542,
          3.120706558227539,
          4.814919471740723,
          4.531427383422852,
          4.8692121505737305,
          -7.050693988800049,
          5.439299583435059,
          3.5201828479766846,
          5.421253681182861,
          5.286469459533691,
          5.411073684692383,
          3.2758724689483643,
          4.9632887840271,
          4.420304298400879,
          4.005260467529297,
          4.499940395355225,
          4.647054195404053,
          5.4553327560424805,
          2.7470006942749023,
          4.893794536590576,
          4.44536828994751,
          4.414566993713379,
          10.99778938293457,
          4.695661544799805,
          4.5282979011535645,
          5.580080509185791,
          5.144747257232666,
          5.384572505950928,
          5.195876598358154,
          5.295029163360596,
          4.960400104522705,
          3.1839866638183594,
          5.1857590675354,
          3.2246243953704834,
          3.2014355659484863,
          5.188413143157959,
          4.848320960998535,
          4.444504261016846,
          7.1938252449035645,
          3.175124406814575,
          4.679967403411865,
          5.384525775909424,
          3.2567837238311768,
          4.9434638023376465,
          4.943821907043457,
          5.459414482116699,
          4.441076278686523,
          4.250423431396484,
          5.20991849899292,
          4.392570495605469,
          4.9893903732299805,
          5.2489728927612305,
          4.834197521209717,
          4.525917053222656,
          5.4255757331848145,
          5.370075225830078,
          5.04342794418335,
          4.48046350479126,
          2.79443621635437,
          5.03309965133667,
          5.102967262268066,
          5.340943336486816,
          5.434004306793213,
          5.183180332183838,
          5.309309959411621,
          5.302740573883057,
          6.26059627532959,
          4.468155384063721,
          2.951953649520874,
          5.386991024017334,
          -7.050912380218506,
          -1.7308385372161865,
          5.013477325439453,
          2.907318115234375,
          -0.0366327166557312,
          3.195486307144165,
          4.930983066558838,
          4.48252010345459,
          2.8566460609436035,
          4.383506774902344,
          3.024333953857422,
          4.4285430908203125,
          5.683365821838379,
          3.191520929336548,
          5.425513744354248,
          5.070942401885986,
          4.6300153732299805,
          0.9935719966888428,
          3.104947328567505,
          5.099443435668945,
          9.436785697937012,
          3.3145227432250977,
          0.9404631853103638,
          2.5972771644592285,
          3.15873646736145,
          3.0688488483428955,
          -0.500149667263031,
          0.9913622736930847,
          3.9816269874572754,
          6.161154747009277,
          8.157806396484375,
          5.910285949707031,
          2.5824835300445557,
          1.3249858617782593,
          7.622323989868164,
          5.231488227844238,
          6.060519695281982,
          12.655267715454102,
          0.81951504945755,
          8.989097595214844,
          3.0489354133605957,
          5.233471393585205,
          2.0956075191497803,
          4.629272937774658,
          -3.6778736114501953,
          1.9226627349853516,
          1.819823980331421,
          10.281747817993164,
          0.8484190702438354,
          -0.13797341287136078,
          -0.8344728350639343,
          -7.732010364532471,
          -1.0812183618545532,
          -5.383154392242432,
          -3.6105589866638184,
          -0.6508577466011047,
          14.595117568969727,
          20.37386703491211,
          -9.94362735748291,
          11.790655136108398,
          -2.831867218017578,
          -5.058024883270264,
          -0.6051666736602783,
          -5.399899005889893,
          -0.5371546149253845,
          6.124797821044922,
          -0.925482988357544,
          0.8743903040885925,
          1.347985029220581,
          25.101938247680664,
          -0.17048096656799316,
          2.5347161293029785,
          -4.409491539001465,
          -4.481832027435303,
          -4.507375240325928,
          3.7369580268859863,
          -4.732534885406494,
          3.139616012573242,
          9.146716117858887,
          -7.8283491134643555,
          -4.073974609375,
          4.719108581542969,
          -6.282367706298828,
          3.0638668537139893,
          -1.2688156366348267,
          10.455206871032715,
          -2.619089126586914,
          0.7628648281097412,
          -1.6570521593093872,
          0.8000938892364502,
          0.48039180040359497,
          10.22844409942627,
          15.680707931518555,
          6.224184036254883,
          2.220337390899658,
          17.493101119995117,
          -4.483121871948242,
          6.324716567993164,
          -3.715240240097046,
          6.329164028167725,
          6.130802631378174,
          6.224302291870117,
          3.5571932792663574,
          8.587606430053711,
          2.5708999633789062,
          -1.9612823724746704,
          -6.989223957061768,
          -4.6722540855407715,
          -2.8848354816436768,
          -7.070322036743164,
          2.2879576683044434,
          8.930947303771973,
          -13.76963996887207,
          0.5697656273841858,
          0.5171532034873962,
          -0.8720301985740662,
          14.228670120239258,
          10.56662654876709,
          4.771328926086426,
          -1.0150482654571533,
          -0.5841922163963318,
          11.34078311920166,
          -5.258930683135986,
          2.0602574348449707,
          -3.8089985847473145,
          -0.7818549871444702,
          -8.02485466003418,
          -3.828031301498413,
          -0.8621929883956909,
          6.971714496612549,
          -11.264975547790527,
          5.566690921783447,
          14.228346824645996,
          -8.978719711303711,
          5.511684417724609,
          6.970768928527832,
          1.7748568058013916,
          2.024014472961426,
          4.65699577331543,
          6.979355812072754,
          3.052884101867676,
          6.127440929412842,
          -1.081758737564087,
          -11.471738815307617,
          -3.7464916706085205,
          8.469228744506836,
          8.267786979675293,
          8.266866683959961,
          11.777381896972656,
          -0.5244227051734924,
          -1.2866642475128174,
          1.8706413507461548,
          1.8663809299468994,
          9.419069290161133,
          0.7188663482666016,
          16.804380416870117,
          15.254018783569336,
          -0.73484867811203,
          18.07538414001465,
          -2.619314670562744,
          2.463371753692627,
          -2.1139373779296875,
          5.138949871063232,
          5.429416656494141,
          -11.219179153442383,
          -11.182388305664062,
          6.130135536193848,
          1.6139490604400635,
          1.4009612798690796,
          1.5758540630340576,
          -4.518930435180664,
          25.101940155029297,
          -0.17797987163066864,
          -4.406294345855713,
          -8.051502227783203,
          8.989725112915039,
          -0.15542101860046387,
          3.365936517715454,
          3.0373926162719727,
          3.0406177043914795,
          10.087607383728027,
          8.89857292175293,
          -11.470734596252441,
          3.038045883178711,
          -13.769640922546387,
          1.134173035621643,
          4.418730735778809,
          15.68067741394043,
          6.2249016761779785,
          -2.8849573135375977,
          5.166627407073975,
          2.6335203647613525,
          4.39935302734375,
          3.5677905082702637,
          1.4459465742111206,
          6.114101886749268,
          8.5718994140625,
          2.49647855758667,
          8.39533519744873,
          6.559025764465332,
          2.307734727859497,
          -1.7039930820465088,
          6.303501129150391,
          5.5019636154174805,
          7.034698963165283,
          -4.4302825927734375,
          2.1432244777679443,
          1.810093879699707,
          5.0731706619262695,
          11.334389686584473,
          0.6790832281112671,
          0.5731633901596069,
          -1.078871488571167,
          -1.053134799003601,
          6.3202033042907715,
          10.518865585327148,
          -5.271089553833008,
          2.6314611434936523,
          -0.1449253261089325,
          -8.97872543334961,
          4.82362174987793,
          3.76129412651062,
          4.429054260253906,
          5.498816967010498,
          1.6794793605804443,
          4.53188943862915,
          11.528334617614746,
          -0.7327742576599121,
          5.123396873474121,
          3.2624874114990234,
          -7.156301975250244,
          -7.1514973640441895,
          7.18679141998291,
          -0.13271550834178925,
          10.2819185256958,
          10.287008285522461,
          -0.4174204170703888,
          7.1821818351745605,
          18.427589416503906,
          8.45535659790039,
          10.281974792480469,
          -2.6465506553649902,
          20.374135971069336,
          1.9728989601135254,
          7.545219421386719,
          11.687448501586914,
          -1.2801491022109985,
          15.208022117614746,
          14.598724365234375,
          -1.6379125118255615,
          6.578733444213867,
          -2.6616761684417725,
          2.572377920150757,
          2.729789972305298,
          4.674733638763428,
          -3.358710765838623,
          3.069143772125244,
          6.18019437789917,
          -2.6204934120178223,
          2.5477945804595947,
          0.48644670844078064,
          3.696685552597046,
          6.941072940826416,
          5.434557914733887,
          7.547008991241455,
          6.832704544067383,
          -2.14670991897583,
          1.9266051054000854,
          -0.2240549772977829,
          1.508529782295227,
          0.9671292901039124,
          3.660889148712158,
          -4.063458442687988,
          9.033197402954102,
          6.873495578765869,
          1.9317771196365356,
          -6.282433032989502,
          -5.408039569854736,
          -4.181628227233887,
          10.45546817779541,
          8.482620239257812,
          6.164885520935059,
          3.5913376808166504,
          -7.1251420974731445,
          6.891629695892334,
          0.31882908940315247,
          -0.7821812033653259,
          -3.873755931854248,
          16.529157638549805,
          9.590864181518555,
          -0.23333488404750824,
          15.253540992736816,
          5.875837802886963,
          3.491180896759033,
          10.531877517700195,
          -0.6072884798049927,
          5.565059185028076,
          18.42763900756836,
          -2.59374737739563,
          8.46146011352539,
          -1.6575847864151,
          20.37415313720703,
          12.667757034301758,
          6.983967304229736,
          2.22053861618042,
          15.680699348449707,
          0.7429338693618774,
          -2.259575128555298,
          11.3212251663208,
          7.87315034866333,
          6.319880485534668,
          -2.8318703174591064,
          14.580145835876465,
          6.109560489654541,
          9.073099136352539,
          -4.384786128997803,
          12.468424797058105,
          12.85916519165039,
          6.114874839782715,
          2.0437686443328857,
          3.7529945373535156,
          2.282914638519287,
          -0.8532057404518127,
          -5.302372932434082,
          -9.943608283996582,
          2.5817718505859375,
          6.111159801483154,
          -0.07425950467586517,
          2.001112937927246,
          3.224827289581299,
          -4.708889484405518,
          6.851001262664795,
          0.737557590007782,
          9.420648574829102,
          11.515460968017578,
          3.512079954147339,
          11.525996208190918,
          12.743711471557617,
          16.795669555664062,
          -3.350839614868164,
          5.0868964195251465,
          6.275551795959473,
          8.89610481262207,
          5.611515522003174,
          6.208492279052734,
          5.428771495819092,
          6.125494003295898,
          2.1621956825256348,
          2.56189227104187,
          -8.043240547180176,
          -11.155953407287598,
          11.491463661193848,
          6.1414947509765625,
          3.2771589756011963,
          25.10193634033203,
          -0.15225732326507568,
          -2.6395316123962402,
          -13.769640922546387,
          17.49358367919922,
          0.8702431917190552,
          6.1709370613098145,
          4.387092113494873,
          -1.9676340818405151,
          -4.671824932098389,
          2.971100330352783,
          1.6233503818511963,
          0.5485520362854004,
          -13.769635200500488,
          -11.471796035766602,
          -0.48773524165153503,
          2.4909796714782715,
          5.505733013153076,
          6.224592208862305,
          17.493131637573242,
          2.2203528881073,
          10.287842750549316,
          7.71048641204834,
          -4.547276020050049,
          2.6179416179656982,
          4.420030117034912,
          5.483337879180908,
          -4.465185642242432,
          4.442221641540527,
          -0.5761054158210754,
          1.5440893173217773,
          5.138422966003418,
          -9.943375587463379,
          4.376342296600342,
          10.227483749389648,
          -1.982132077217102,
          -7.149960517883301,
          -1.3900927305221558,
          0.489152729511261,
          6.979687690734863,
          -0.9070590734481812,
          1.3425785303115845,
          -0.92695152759552,
          4.736401081085205,
          2.1606857776641846,
          -6.282393455505371,
          2.587646961212158,
          6.1626434326171875,
          18.4276180267334,
          8.462342262268066,
          10.281550407409668,
          2.9647254943847656,
          -2.6268064975738525,
          -2.8800151348114014,
          -1.2716329097747803,
          4.637009143829346,
          -1.0990241765975952,
          4.423320293426514,
          4.617645740509033,
          2.015359878540039,
          -0.6064916849136353,
          -5.410322666168213,
          -3.679091453552246,
          3.280564069747925,
          15.256640434265137,
          -0.12972939014434814,
          -0.8155746459960938,
          7.450088024139404,
          25.10194206237793,
          2.602975606918335,
          -5.058614253997803,
          5.5365400314331055,
          2.50586199760437,
          2.627978563308716,
          2.7284157276153564,
          2.629028797149658,
          5.077661037445068,
          4.762821197509766,
          7.79357385635376,
          2.751352310180664,
          -0.21611745655536652,
          -0.783663272857666,
          -3.900067090988159,
          5.4107666015625,
          0.6977649331092834,
          -0.18723748624324799,
          3.7498977184295654,
          -5.101898670196533,
          8.267719268798828,
          1.8243563175201416,
          -1.670556902885437,
          -2.8318679332733154,
          14.716211318969727,
          6.08200740814209,
          16.532997131347656,
          5.624881267547607,
          0.7355450987815857,
          -6.870035171508789,
          3.047096014022827,
          0.9390594959259033,
          4.934256553649902,
          -0.6162437200546265,
          18.075395584106445,
          -8.04831314086914,
          -2.6236846446990967,
          6.147490501403809,
          -11.203824043273926,
          -4.053825855255127,
          5.874171257019043,
          11.6980562210083,
          0.5549367666244507,
          6.161368370056152,
          15.25167465209961,
          -0.7380820512771606,
          2.5725162029266357,
          6.834098815917969,
          5.627274036407471,
          2.3029944896698,
          -6.983514785766602,
          2.4245080947875977,
          -0.6068208813667297,
          3.5726404190063477,
          0.780452311038971,
          -2.6589698791503906,
          20.374155044555664,
          -5.257389068603516,
          5.016417503356934,
          2.2463560104370117,
          6.971531867980957,
          5.738359451293945,
          1.4970170259475708,
          -11.173968315124512,
          -11.218517303466797,
          -7.117274761199951,
          11.785054206848145,
          15.680696487426758,
          2.2204039096832275,
          -2.831871747970581,
          1.8800371885299683,
          4.4208550453186035,
          -7.734375,
          -8.978732109069824,
          0.8848893046379089,
          5.069714069366455,
          2.5432627201080322,
          16.524118423461914,
          10.56777286529541,
          10.2818021774292,
          -0.25918877124786377,
          11.760519981384277,
          -4.730035305023193,
          18.427595138549805,
          -3.8241119384765625,
          8.4564847946167,
          -1.2897894382476807,
          25.101959228515625,
          -4.3877129554748535,
          -0.17750847339630127,
          0.6312404870986938,
          6.125359535217285,
          2.413057327270508,
          5.424810409545898,
          0.8695681691169739,
          0.6395770907402039,
          0.6167052984237671,
          -0.7682514190673828,
          2.713346481323242,
          -4.247097969055176,
          10.455196380615234,
          -2.8846635818481445,
          -3.7015016078948975,
          9.418600082397461,
          8.29919719696045,
          2.654837131500244,
          10.506529808044434,
          -5.398311138153076,
          11.571873664855957,
          2.4812185764312744,
          -6.869986057281494,
          6.5785746574401855,
          4.632968425750732,
          -6.282365798950195,
          8.89448070526123,
          4.6668877601623535,
          18.07538604736328,
          -0.2537265419960022,
          1.6070499420166016,
          2.1033060550689697,
          -8.045879364013672,
          7.812899112701416,
          6.84945011138916,
          10.284358978271484,
          -7.050745964050293,
          -2.640610694885254,
          -13.769634246826172,
          17.524320602416992,
          6.2241621017456055,
          8.08283519744873,
          -3.6523096561431885,
          -2.1145503520965576,
          -1.961948037147522,
          -4.672457218170166,
          8.266855239868164,
          7.547205924987793,
          1.9709255695343018,
          -9.943561553955078,
          -1.0833929777145386,
          3.5303683280944824,
          2.2669243812561035,
          -3.876844882965088,
          5.874162673950195,
          6.247797966003418,
          15.252147674560547,
          -0.19902265071868896,
          -0.10635373741388321,
          2.5677459239959717,
          -4.4700493812561035,
          14.228293418884277,
          3.1064133644104004,
          2.3285715579986572,
          -0.6091119647026062,
          5.5578179359436035,
          2.9737136363983154,
          0.7968742251396179,
          -2.63632869720459,
          -5.272425174713135,
          -5.269199848175049,
          2.99629282951355,
          3.175755262374878,
          3.658879280090332,
          -0.5595303773880005,
          -11.185429573059082,
          -11.215802192687988,
          -7.151212692260742,
          -7.149842739105225,
          6.104904651641846,
          15.680689811706543,
          2.2205326557159424,
          -2.8318710327148438,
          14.595335960388184,
          1.8874489068984985,
          5.296545505523682,
          3.7561137676239014,
          -7.7266998291015625,
          -8.978659629821777,
          3.1166279315948486,
          16.50670623779297,
          10.515371322631836,
          10.281379699707031,
          10.28192138671875,
          -0.5357295274734497,
          11.70328426361084,
          -4.731766700744629,
          18.427583694458008,
          8.45624828338623,
          -3.8210606575012207,
          -1.2935855388641357,
          25.10194206237793,
          -0.1631423383951187,
          -0.169300377368927,
          -4.099528789520264,
          6.21111536026001,
          2.48319411277771,
          5.451657772064209,
          4.654665946960449,
          6.126852035522461,
          -0.7816882729530334,
          2.5557186603546143,
          -4.276137351989746,
          -1.2647734880447388,
          10.455193519592285,
          -3.677090883255005,
          9.41997241973877,
          0.7262259721755981,
          6.834775447845459,
          10.226516723632812,
          -5.383275032043457,
          11.482596397399902,
          2.0245633125305176,
          2.484386682510376,
          -6.870053768157959,
          16.80390167236328,
          4.6100897789001465,
          -6.282333850860596,
          8.89802360534668,
          5.112507343292236,
          6.27743673324585,
          1.7857314348220825,
          -8.042353630065918,
          -3.3679914474487305,
          -11.471790313720703,
          10.280306816101074,
          6.099400043487549,
          0.5697275400161743,
          -13.769636154174805,
          8.582320213317871,
          17.509130477905273,
          6.224217891693115,
          8.125075340270996,
          -2.119359016418457,
          -1.9632964134216309,
          -4.671811103820801,
          8.267352104187012,
          8.267597198486328,
          1.9445369243621826,
          -9.94356918334961,
          -1.081978678703308,
          3.1643896102905273,
          1.9244779348373413,
          -3.8203887939453125,
          5.383800983428955,
          5.261221885681152,
          7.069974899291992,
          3.757923126220703,
          3.7564990520477295,
          -1.9570623636245728,
          -2.8846004009246826,
          11.788077354431152,
          -7.127116680145264,
          -1.0816264152526855,
          -0.5806801319122314,
          7.035233020782471,
          -4.065038204193115,
          8.908612251281738,
          5.933216094970703,
          8.266239166259766,
          7.547360897064209,
          1.824340581893921,
          8.267066955566406,
          -2.884577512741089,
          10.455174446105957,
          5.87418270111084,
          6.163145065307617,
          20.374147415161133,
          0.7683557271957397,
          -1.658273458480835,
          -5.398678779602051,
          1.426753282546997,
          12.841166496276855,
          0.6379565596580505,
          -0.7820758819580078,
          -1.7286787033081055,
          4.625823020935059,
          4.717696666717529,
          15.258607864379883,
          -0.738267719745636,
          0.971400797367096,
          -0.8291308879852295,
          10.282766342163086,
          16.522743225097656,
          10.554248809814453,
          18.42759895324707,
          8.4562406539917,
          -3.821812868118286,
          2.6308863162994385,
          2.2205493450164795,
          15.680673599243164,
          6.12004280090332,
          10.266881942749023,
          6.073594093322754,
          1.7752472162246704,
          0.3168039619922638,
          8.571825981140137,
          11.396452903747559,
          11.375640869140625,
          6.968302249908447,
          1.8192102909088135,
          -8.036839485168457,
          8.959239959716797,
          3.5857460498809814,
          5.510982036590576,
          -2.831866502761841,
          14.595060348510742,
          -8.978705406188965,
          2.2546348571777344,
          -0.07801098376512527,
          -0.6087608337402344,
          2.625885486602783,
          -9.943622589111328,
          2.7299671173095703,
          -4.7288713455200195,
          1.994976282119751,
          -3.677121639251709,
          6.847668170928955,
          7.185563087463379,
          0.7263597249984741,
          -1.6294242143630981,
          -4.1765828132629395,
          16.80118751525879,
          -6.869979381561279,
          7.783811092376709,
          4.688809394836426,
          18.075380325317383,
          8.898711204528809,
          5.615713596343994,
          5.126348495483398,
          5.437952041625977,
          6.125503063201904,
          2.4849612712860107,
          3.0561270713806152,
          -11.173529624938965,
          10.09034252166748,
          -11.471758842468262,
          25.1019287109375,
          -0.15942561626434326,
          -2.605853796005249,
          -13.769632339477539,
          0.5684439539909363,
          17.495012283325195,
          6.224196434020996,
          5.677648067474365,
          3.375190496444702,
          -11.47176742553711,
          8.201784133911133,
          12.555500030517578,
          -6.282381057739258,
          1.926774024963379,
          4.717257022857666,
          17.482582092285156,
          6.224206924438477,
          6.324949741363525,
          -13.769631385803223,
          3.037414312362671,
          4.424378395080566,
          -0.9244186878204346,
          0.8580352067947388,
          1.3502527475357056,
          4.5964484214782715,
          -0.8623924255371094,
          -9.943562507629395,
          9.413810729980469,
          -4.476449966430664,
          4.422605037689209,
          2.6277666091918945,
          -1.0167948007583618,
          -0.4617217481136322,
          -0.5702527761459351,
          -0.6058965921401978,
          3.598935127258301,
          -5.398830890655518,
          5.112555027008057,
          6.16105318069458,
          4.5220513343811035,
          25.10193634033203,
          -4.394633769989014,
          -0.18010222911834717,
          6.979775428771973,
          -8.042098045349121,
          -0.7839177250862122,
          6.854072093963623,
          -7.760634899139404,
          -1.0829344987869263,
          10.227997779846191,
          -0.35544002056121826,
          5.160303592681885,
          10.45520305633545,
          -2.5881764888763428,
          8.579684257507324,
          -7.729841709136963,
          4.9730305671691895,
          5.905867576599121,
          6.967984676361084,
          -1.9669262170791626,
          -4.671820163726807,
          -7.1492695808410645,
          7.177140712738037,
          -0.8356831073760986,
          5.558810710906982,
          7.142723083496094,
          1.598717451095581,
          0.35738447308540344,
          -11.167706489562988,
          -0.5464649200439453,
          6.249536514282227,
          4.7746195793151855,
          15.253349304199219,
          -0.13521794974803925,
          2.7106003761291504,
          2.5856852531433105,
          5.4393110275268555,
          -5.278629302978516,
          18.427589416503906,
          8.457526206970215,
          7.01756477355957,
          -11.265546798706055,
          3.2735331058502197,
          20.37413787841797,
          -2.627924919128418,
          2.975968837738037,
          3.280937433242798,
          1.934404730796814,
          -2.141716241836548,
          9.420134544372559,
          4.684021472930908,
          -1.2664778232574463,
          -2.831866502761841,
          0.791172981262207,
          11.51282024383545,
          -0.7329870462417603,
          16.523025512695312,
          14.228302955627441,
          6.582704067230225,
          3.0480265617370605,
          -6.971151351928711,
          18.075376510620117,
          -2.6231329441070557,
          6.1251912117004395,
          -0.1279003769159317,
          3.456851005554199,
          11.664030075073242
         ],
         "y": [
          14.574638366699219,
          -1.244468331336975,
          17.212766647338867,
          10.888631820678711,
          8.639091491699219,
          -3.1748175621032715,
          6.3536529541015625,
          3.29955792427063,
          18.01006507873535,
          3.809046506881714,
          0.4678727984428406,
          -9.642744064331055,
          6.429831504821777,
          0.03853151202201843,
          0.16894374787807465,
          6.203326225280762,
          18.009262084960938,
          -11.354731559753418,
          4.239247798919678,
          5.532347679138184,
          5.03696870803833,
          -4.274963855743408,
          4.956871509552002,
          6.673681259155273,
          13.12103271484375,
          -3.336134195327759,
          8.880587577819824,
          -2.1545698642730713,
          4.412540435791016,
          -8.624220848083496,
          10.425819396972656,
          6.347772598266602,
          7.737402439117432,
          3.1132988929748535,
          11.63205623626709,
          -2.0912184715270996,
          -0.8657052516937256,
          11.897595405578613,
          6.146766662597656,
          6.532564640045166,
          3.761068105697632,
          10.992765426635742,
          6.592851161956787,
          0.7355711460113525,
          -1.836597204208374,
          -2.0407140254974365,
          6.150979995727539,
          -8.939974784851074,
          11.310586929321289,
          8.047515869140625,
          10.454981803894043,
          3.97473406791687,
          -0.44697147607803345,
          8.823211669921875,
          11.36368179321289,
          3.7683658599853516,
          8.725850105285645,
          4.741200923919678,
          4.8358683586120605,
          13.922070503234863,
          14.204690933227539,
          11.529879570007324,
          10.907856941223145,
          10.349295616149902,
          11.965628623962402,
          9.694221496582031,
          9.73320198059082,
          8.194350242614746,
          10.086906433105469,
          9.548643112182617,
          10.918989181518555,
          0.7360799312591553,
          9.828804969787598,
          9.793503761291504,
          8.165833473205566,
          8.982099533081055,
          5.576333522796631,
          9.499774932861328,
          9.64633560180664,
          11.007345199584961,
          9.594045639038086,
          10.223114013671875,
          8.595190048217773,
          8.717620849609375,
          9.747260093688965,
          9.10586929321289,
          10.63748550415039,
          10.63961124420166,
          3.9760618209838867,
          9.606328964233398,
          9.68585205078125,
          9.316718101501465,
          10.022224426269531,
          8.770624160766602,
          9.991375923156738,
          0.5814301371574402,
          10.292987823486328,
          9.667308807373047,
          4.838831901550293,
          9.582581520080566,
          8.200129508972168,
          11.699283599853516,
          10.724047660827637,
          9.74050521850586,
          5.916710376739502,
          -0.9892411231994629,
          9.573604583740234,
          8.277997970581055,
          9.700069427490234,
          9.634350776672363,
          8.722189903259277,
          5.586148738861084,
          11.029176712036133,
          9.148894309997559,
          9.727370262145996,
          10.19580078125,
          9.547503471374512,
          5.050670146942139,
          9.683176040649414,
          9.477972984313965,
          8.796883583068848,
          8.981064796447754,
          11.01884937286377,
          10.691964149475098,
          9.710731506347656,
          10.708599090576172,
          4.6589789390563965,
          6.205281734466553,
          5.559183120727539,
          9.665687561035156,
          8.754023551940918,
          0.5541348457336426,
          4.414587020874023,
          8.563432693481445,
          9.606009483337402,
          6.18489933013916,
          0.7358899116516113,
          5.575928211212158,
          11.223106384277344,
          9.593146324157715,
          11.40437126159668,
          -1.0165072679519653,
          9.196858406066895,
          11.039392471313477,
          9.673930168151855,
          10.561928749084473,
          8.123150825500488,
          10.844168663024902,
          9.598151206970215,
          -0.5231739282608032,
          8.186429977416992,
          10.861148834228516,
          9.592083930969238,
          7.8793864250183105,
          8.431140899658203,
          4.652124404907227,
          13.139642715454102,
          7.543712139129639,
          8.006684303283691,
          3.9262824058532715,
          7.935882568359375,
          8.220709800720215,
          11.424352645874023,
          7.867923736572266,
          8.721445083618164,
          13.803709030151367,
          4.94680118560791,
          14.056413650512695,
          6.217483997344971,
          2.246002197265625,
          5.650324821472168,
          0.3068038523197174,
          13.649974822998047,
          3.233825206756592,
          7.723151206970215,
          12.526784896850586,
          7.319090366363525,
          12.024330139160156,
          6.395969867706299,
          -13.414512634277344,
          5.918181896209717,
          6.112968921661377,
          -13.234575271606445,
          22.628992080688477,
          7.787167072296143,
          17.20371437072754,
          7.667547702789307,
          11.3145112991333,
          1.8538378477096558,
          -4.740391731262207,
          5.936769485473633,
          16.49875259399414,
          18.172088623046875,
          5.194868564605713,
          -4.4819464683532715,
          -2.9981021881103516,
          23.485260009765625,
          -4.9209747314453125,
          16.56230926513672,
          -4.730841636657715,
          11.82347583770752,
          2.2162773609161377,
          1.2820273637771606,
          2.328127861022949,
          2.2542738914489746,
          -0.7364645600318909,
          -9.634469032287598,
          5.678980350494385,
          8.817632675170898,
          8.913177490234375,
          8.934554100036621,
          -8.985072135925293,
          2.282151937484741,
          7.153007984161377,
          12.722854614257812,
          11.41988754272461,
          3.4365217685699463,
          -13.32199764251709,
          14.005167007446289,
          7.993197441101074,
          7.530920028686523,
          -6.946305751800537,
          -4.4080810546875,
          2.2386045455932617,
          -4.10537576675415,
          2.2755746841430664,
          -1.6733813285827637,
          4.2863006591796875,
          11.278288841247559,
          -6.916078567504883,
          14.575056076049805,
          13.576315879821777,
          8.913799285888672,
          3.6831204891204834,
          6.058928966522217,
          3.6761066913604736,
          4.35049295425415,
          4.426084995269775,
          -0.0942562073469162,
          6.212543964385986,
          2.2593414783477783,
          7.483819007873535,
          -1.6442815065383911,
          -8.150649070739746,
          -8.14515495300293,
          -1.563668966293335,
          3.0624890327453613,
          12.363004684448242,
          20.320051193237305,
          5.7465715408325195,
          5.698243141174316,
          2.3514301776885986,
          -2.6410603523254395,
          5.962066173553467,
          4.324320316314697,
          1.903473973274231,
          0.1485513597726822,
          3.7537879943847656,
          1.966002345085144,
          2.2739479541778564,
          4.979879856109619,
          5.027482032775879,
          11.629073143005371,
          6.2610907554626465,
          2.369523525238037,
          2.1606969833374023,
          10.97022533416748,
          -0.2633450925350189,
          -2.641101121902466,
          -10.187159538269043,
          12.369861602783203,
          6.36552095413208,
          5.125461578369141,
          8.462955474853516,
          -0.6272933483123779,
          7.0553812980651855,
          -8.691317558288574,
          13.221292495727539,
          1.8597050905227661,
          6.429885387420654,
          5.023802757263184,
          4.270845413208008,
          -11.354056358337402,
          -11.354490280151367,
          -3.011056423187256,
          11.678873062133789,
          11.064879417419434,
          6.093253135681152,
          6.08685302734375,
          7.318387508392334,
          -2.3960630893707275,
          6.673893451690674,
          18.03881072998047,
          0.8001347184181213,
          -3.6043498516082764,
          11.037200927734375,
          4.7302656173706055,
          -4.195763111114502,
          21.99798011779785,
          22.37314224243164,
          10.922490119934082,
          10.884765625,
          2.2210845947265625,
          8.394729614257812,
          2.23809814453125,
          2.2037296295166016,
          8.948439598083496,
          -0.7364617586135864,
          -9.626846313476562,
          8.816374778747559,
          11.654695510864258,
          12.516840934753418,
          -0.1260707974433899,
          7.716723918914795,
          5.827184200286865,
          5.955766201019287,
          4.2450432777404785,
          12.205998420715332,
          6.430463790893555,
          7.324251651763916,
          20.32005500793457,
          7.8725972175598145,
          5.627785682678223,
          11.27824878692627,
          -6.915889739990234,
          -8.145018577575684,
          0.4647994339466095,
          2.1913743019104004,
          5.491450786590576,
          -0.09014414995908737,
          8.620863914489746,
          13.355024337768555,
          6.1985249519348145,
          3.603890895843506,
          4.3075714111328125,
          14.295086860656738,
          3.1394388675689697,
          5.566098213195801,
          13.78254222869873,
          12.34920883178711,
          6.462618350982666,
          8.873356819152832,
          3.228593587875366,
          5.1539306640625,
          0.3438175618648529,
          3.7605507373809814,
          5.836639881134033,
          -2.114431619644165,
          1.847031831741333,
          1.8777986764907837,
          13.73501205444336,
          4.542197227478027,
          1.956073522567749,
          6.129307270050049,
          17.193872451782227,
          -10.187182426452637,
          4.369739055633545,
          -8.959050178527832,
          5.635379791259766,
          4.309560298919678,
          8.381922721862793,
          5.871133804321289,
          -3.2325406074523926,
          0.7989673018455505,
          0.21418575942516327,
          -0.03289754316210747,
          -1.476434350013733,
          -1.4809690713882446,
          -3.4746687412261963,
          10.542437553405762,
          6.361761569976807,
          6.351815223693848,
          11.266687393188477,
          -3.4720633029937744,
          -1.2444429397583008,
          4.272590637207031,
          22.629079818725586,
          -4.443363666534424,
          5.194745063781738,
          -13.391756057739258,
          -3.7331039905548096,
          -3.092611312866211,
          11.064628601074219,
          18.02918815612793,
          18.17844581604004,
          -4.101475238800049,
          14.329652786254883,
          -4.451911449432373,
          2.2783193588256836,
          1.6217830181121826,
          -0.6057924628257751,
          5.054693698883057,
          8.718914031982422,
          4.360275745391846,
          11.037837028503418,
          4.638306140899658,
          -1.6928390264511108,
          6.889313697814941,
          2.1843438148498535,
          22.377981185913086,
          -3.734985113143921,
          4.337991714477539,
          -4.208520889282227,
          -13.34536361694336,
          -0.14545273780822754,
          8.497394561767578,
          2.324403762817383,
          6.730983257293701,
          3.447819471359253,
          12.589829444885254,
          6.4004597663879395,
          6.076034069061279,
          14.005167961120605,
          -4.725793361663818,
          3.4128262996673584,
          -6.945364952087402,
          6.123290061950684,
          13.28585147857666,
          6.932548999786377,
          -1.5067081451416016,
          -3.214919328689575,
          -1.3961162567138672,
          5.026715278625488,
          6.359154224395752,
          6.374967575073242,
          4.25805139541626,
          17.081178665161133,
          18.015899658203125,
          18.004880905151367,
          -0.07784251868724823,
          6.008075714111328,
          16.559616088867188,
          -0.26222166419029236,
          -1.2443009614944458,
          -4.400226593017578,
          4.281800270080566,
          -4.105503559112549,
          5.194741249084473,
          3.2361974716186523,
          7.034785747528076,
          14.572867393493652,
          11.27826976776123,
          5.917318344116211,
          10.897340774536133,
          3.767813205718994,
          5.3719000816345215,
          13.817292213439941,
          23.485260009765625,
          18.157405853271484,
          4.306656837463379,
          12.629426002502441,
          8.795836448669434,
          3.34755539894104,
          3.119189977645874,
          14.033797264099121,
          8.50953197479248,
          -8.937878608703613,
          6.557997226715088,
          7.660627841949463,
          1.9290543794631958,
          -4.481970310211182,
          2.2845427989959717,
          13.471883773803711,
          10.427128791809082,
          2.2489101886749268,
          0.40381571650505066,
          2.300619602203369,
          -3.1768903732299805,
          -2.420513868331909,
          7.319353103637695,
          3.633510112762451,
          -0.013708090409636497,
          -3.234837055206299,
          3.1797869205474854,
          6.665156841278076,
          5.055379867553711,
          0.06353407353162766,
          4.4395904541015625,
          12.229620933532715,
          11.802376747131348,
          2.2841882705688477,
          22.372526168823242,
          2.2180190086364746,
          6.388537406921387,
          4.4005255699157715,
          11.646495819091797,
          10.858415603637695,
          3.6271164417266846,
          14.118454933166504,
          7.28934907913208,
          -0.7364644408226013,
          -9.652592658996582,
          11.054274559020996,
          20.32005500793457,
          13.575852394104004,
          2.338873863220215,
          4.367717266082764,
          6.556447982788086,
          7.483518600463867,
          -8.150755882263184,
          8.706293106079102,
          8.385457038879395,
          5.72723913192749,
          20.32005500793457,
          6.429800510406494,
          11.572456359863281,
          4.661248207092285,
          12.123929977416992,
          -6.916527271270752,
          13.576305389404297,
          14.574467658996582,
          6.34971809387207,
          5.475362777709961,
          2.49308443069458,
          6.993584156036377,
          5.672393321990967,
          4.383115768432617,
          8.888575553894043,
          5.929022789001465,
          0.13932141661643982,
          8.447989463806152,
          21.9976806640625,
          -4.481685161590576,
          6.554864883422852,
          4.285220146179199,
          7.483455181121826,
          -1.482126235961914,
          7.497768878936768,
          -1.6336499452590942,
          7.063767433166504,
          1.2609529495239258,
          2.2610785961151123,
          1.2884987592697144,
          -13.304816246032715,
          6.383873462677002,
          14.005142211914062,
          3.903813362121582,
          13.259024620056152,
          -1.2444230318069458,
          4.27332878112793,
          22.62889862060547,
          -8.624734878540039,
          -4.425819396972656,
          -8.144111633300781,
          7.527080059051514,
          -13.406682014465332,
          11.096549034118652,
          5.567628383636475,
          5.869560718536377,
          2.242960214614868,
          16.560518264770508,
          -4.724440574645996,
          5.919408798217773,
          -0.026938455179333687,
          18.014732360839844,
          17.212427139282227,
          7.683279037475586,
          6.008958339691162,
          -0.7364633679389954,
          5.788966655731201,
          -4.920620918273926,
          -0.2306244820356369,
          2.539048671722412,
          2.1934852600097656,
          1.6324049234390259,
          2.120778799057007,
          0.044029854238033295,
          4.3192243576049805,
          5.5229172706604,
          8.670599937438965,
          10.713720321655273,
          5.026284217834473,
          6.384733200073242,
          22.352970123291016,
          5.85264253616333,
          10.674039840698242,
          -8.968798637390137,
          2.060263156890869,
          -11.354105949401855,
          -13.23894214630127,
          -4.106822967529297,
          23.485254287719727,
          18.11951446533203,
          4.1066083908081055,
          6.3792829513549805,
          11.655267715454102,
          -2.419097900390625,
          17.21194076538086,
          5.973346710205078,
          7.73529052734375,
          4.503192901611328,
          11.098193168640137,
          -3.604342222213745,
          11.65195083618164,
          11.03864860534668,
          2.240995407104492,
          10.906496047973633,
          3.4652342796325684,
          18.00972557067871,
          -3.082205057144165,
          -1.4611637592315674,
          13.195768356323242,
          18.01661491394043,
          0.8084151744842529,
          6.125664234161377,
          4.342344284057617,
          11.57545280456543,
          3.1196329593658447,
          -1.6522501707077026,
          3.4532392024993896,
          16.560087203979492,
          -0.08813071250915527,
          2.256957769393921,
          -4.4484100341796875,
          5.194753170013428,
          1.9667690992355347,
          5.742862224578857,
          6.3021626472473145,
          2.1612703800201416,
          11.55868148803711,
          8.527305603027344,
          10.876314163208008,
          10.922065734863281,
          -1.5143831968307495,
          -3.0032126903533936,
          11.278268814086914,
          14.574430465698242,
          23.485254287719727,
          6.102384090423584,
          6.558640956878662,
          11.316943168640137,
          -10.187156677246094,
          2.347127676010132,
          0.3399786353111267,
          4.724356651306152,
          6.370489120483398,
          5.958674430847168,
          22.629005432128906,
          10.781993865966797,
          -3.0258822441101074,
          2.2835514545440674,
          -1.2444403171539307,
          4.956734657287598,
          4.277000427246094,
          11.063090324401855,
          -0.73646080493927,
          8.796403884887695,
          -9.62714958190918,
          5.795512676239014,
          4.327531814575195,
          3.4058494567871094,
          22.36943817138672,
          2.334099531173706,
          5.801190376281738,
          5.781622409820557,
          5.016854763031006,
          1.6481068134307861,
          3.298433780670166,
          -6.946246147155762,
          -8.145124435424805,
          6.0235371589660645,
          7.317310810089111,
          4.568717002868652,
          6.090198993682861,
          4.4915337562561035,
          -4.730892181396484,
          -3.186572790145874,
          4.689577102661133,
          17.211925506591797,
          14.325566291809082,
          -13.410962104797363,
          14.005167961120605,
          12.208346366882324,
          -0.6115732192993164,
          -3.6043496131896973,
          10.77701473236084,
          8.381075859069824,
          6.36907958984375,
          11.64919662475586,
          5.517984867095947,
          -3.175630807876587,
          6.349574089050293,
          0.7359691262245178,
          11.049623489379883,
          20.320051193237305,
          13.545108795166016,
          -6.916157245635986,
          5.082310676574707,
          5.953391075134277,
          -4.1958909034729,
          7.483919620513916,
          -8.150582313537598,
          -11.35448932647705,
          -3.734999179840088,
          -13.389777183532715,
          -4.4819111824035645,
          1.8500782251358032,
          -0.06735532730817795,
          3.1066195964813232,
          6.361026763916016,
          18.009719848632812,
          13.572933197021484,
          18.016420364379883,
          17.129873275756836,
          17.235355377197266,
          5.655732154846191,
          8.896062850952148,
          -2.64111065864563,
          7.593939304351807,
          6.500315189361572,
          16.557086944580078,
          -0.254054456949234,
          -8.634139060974121,
          2.2702460289001465,
          -4.435847282409668,
          1.9545345306396484,
          1.958004355430603,
          5.956547260284424,
          0.2790367901325226,
          7.057302474975586,
          0.12066863477230072,
          10.887939453125,
          10.919923782348633,
          -1.4805394411087036,
          -1.4824097156524658,
          13.491415023803711,
          11.278270721435547,
          14.574000358581543,
          23.485258102416992,
          18.171995162963867,
          6.103323936462402,
          11.376175880432129,
          -8.965299606323242,
          11.309247970581055,
          -10.187017440795898,
          7.200772762298584,
          6.352885723114014,
          4.542841911315918,
          22.62877655029297,
          22.629058837890625,
          11.468917846679688,
          -3.0769858360290527,
          2.282557249069214,
          -1.244425654411316,
          4.277194976806641,
          4.958051681518555,
          11.063443183898926,
          -0.7364619374275208,
          -9.641887664794922,
          -9.635509490966797,
          3.374995470046997,
          4.369502067565918,
          3.5804781913757324,
          22.39769744873047,
          -0.6268690228462219,
          2.217878580093384,
          5.025959491729736,
          2.262861490249634,
          3.270328998565674,
          7.5321526527404785,
          -6.946174144744873,
          5.916552543640137,
          7.319324493408203,
          -2.4076273441314697,
          2.2274253368377686,
          4.287057399749756,
          -4.718616008758545,
          -3.276216983795166,
          8.464500427246094,
          4.71024227142334,
          17.212026596069336,
          6.6733717918396,
          -13.432929992675781,
          14.005208015441895,
          12.21203899383545,
          0.20843389630317688,
          4.435815334320068,
          5.141030788421631,
          11.645811080932617,
          5.071418762207031,
          6.4298601150512695,
          6.367789268493652,
          4.394639492034912,
          5.746817588806152,
          20.32005500793457,
          6.209418296813965,
          13.560815811157227,
          -6.9161481857299805,
          4.988992214202881,
          -4.1962761878967285,
          7.4839863777160645,
          -8.150565147399902,
          -11.354292869567871,
          -11.354150772094727,
          -13.363941192626953,
          -4.481917858123779,
          1.8591980934143066,
          0.46419233083724976,
          6.092198848724365,
          6.259209156036377,
          4.373279094696045,
          0.3956357538700104,
          5.864502906799316,
          -8.958208084106445,
          -8.95567798614502,
          7.4842848777771,
          -8.145018577575684,
          -3.0005056858062744,
          -1.5045115947723389,
          1.860038161277771,
          0.1476709246635437,
          6.23024845123291,
          3.445521116256714,
          12.205536842346191,
          14.208213806152344,
          -11.354764938354492,
          -3.7351534366607666,
          -13.238920211791992,
          -11.354395866394043,
          -8.145024299621582,
          -6.946282386779785,
          18.00959587097168,
          13.261361122131348,
          5.1947455406188965,
          2.2465734481811523,
          -4.10575008392334,
          -4.730504989624023,
          8.643397331237793,
          3.1403379440307617,
          5.796319484710693,
          5.026163101196289,
          5.574738502502441,
          -13.417692184448242,
          -13.323465347290039,
          18.013765335083008,
          0.8099231123924255,
          7.740136623382568,
          7.670795440673828,
          6.357889652252197,
          6.368945598602295,
          5.960838317871094,
          -1.2444196939468384,
          4.277754783630371,
          4.957370758056641,
          6.126744270324707,
          14.574037551879883,
          11.278264045715332,
          4.337405681610107,
          22.619749069213867,
          13.605110168457031,
          5.130836009979248,
          -1.3914101123809814,
          6.218496322631836,
          3.7128984928131104,
          3.7243661880493164,
          2.1610500812530518,
          5.173417091369629,
          11.639888763427734,
          12.489599227905273,
          6.943447589874268,
          12.386923789978027,
          23.485260009765625,
          18.171560287475586,
          -10.187128067016602,
          6.53374719619751,
          10.434637069702148,
          16.55738639831543,
          2.1952998638153076,
          -4.4819793701171875,
          1.6254855394363403,
          2.2849009037017822,
          2.247957706451416,
          5.917440891265869,
          -3.1737587451934814,
          -3.4768168926239014,
          -2.4069554805755615,
          -4.097124099731445,
          3.4164319038391113,
          6.671243190765381,
          17.211870193481445,
          5.516455173492432,
          -0.5907871127128601,
          -3.6043362617492676,
          12.223421096801758,
          11.64564323425293,
          21.98563003540039,
          22.381757736206055,
          2.2194464206695557,
          4.705209255218506,
          5.985488414764404,
          10.875859260559082,
          4.240267276763916,
          6.429891586303711,
          -0.7364614009857178,
          -9.64545726776123,
          11.023847579956055,
          20.320051193237305,
          5.747018337249756,
          13.574699401855469,
          -6.916134834289551,
          11.548842430114746,
          7.801914691925049,
          6.429866313934326,
          4.883748531341553,
          3.300619125366211,
          14.00527572631836,
          6.096707820892334,
          -13.323896408081055,
          13.586498260498047,
          -6.916131019592285,
          3.6836097240448,
          20.320049285888672,
          7.321819305419922,
          5.6021199226379395,
          1.2812153100967407,
          2.3151941299438477,
          2.2538161277770996,
          5.919071197509766,
          2.368450880050659,
          -4.48191499710083,
          13.100462913513184,
          8.904419898986816,
          5.567389488220215,
          2.190335750579834,
          1.9024887084960938,
          0.034934479743242264,
          0.13457627594470978,
          16.561279296875,
          -0.12182842195034027,
          -4.729818344116211,
          0.22075732052326202,
          13.271528244018555,
          6.611250400543213,
          -0.7364624738693237,
          8.802992820739746,
          -9.624629020690918,
          7.05774450302124,
          11.645255088806152,
          5.021642208099365,
          6.360302448272705,
          11.344734191894531,
          1.8556535243988037,
          4.289970397949219,
          10.926841735839844,
          0.4526636004447937,
          -6.946169376373291,
          -4.398137092590332,
          6.208432674407959,
          11.312834739685059,
          4.452486515045166,
          14.108942985534668,
          2.161532402038574,
          7.4840593338012695,
          -8.150579452514648,
          -1.4830232858657837,
          -3.467705011367798,
          7.667971611022949,
          -0.2547938823699951,
          6.524746417999268,
          8.382216453552246,
          -1.8796892166137695,
          10.870206832885742,
          11.832298278808594,
          3.819422483444214,
          4.326520919799805,
          18.01620864868164,
          17.206424713134766,
          1.649532437324524,
          2.2928736209869385,
          22.38247299194336,
          1.9514617919921875,
          -1.244417428970337,
          4.276899337768555,
          6.231173515319824,
          10.973169326782227,
          0.3630524277687073,
          5.1947455406188965,
          -4.426936149597168,
          -8.637853622436523,
          -0.030442489311099052,
          -13.35317325592041,
          -4.2078166007995605,
          7.319129943847656,
          -13.358280181884766,
          11.059199333190918,
          23.485246658325195,
          2.2638895511627197,
          -3.2461400032043457,
          0.8010965585708618,
          6.369292259216309,
          -2.641098737716675,
          14.331441879272461,
          5.971885681152344,
          -1.664563775062561,
          -3.6043338775634766,
          11.037127494812012,
          2.2183592319488525,
          -0.08692272007465363,
          -0.030171381309628487,
          -3.113879680633545
         ]
        },
        {
         "customdata": [
          [
           -0.005109182180603966,
           0.013489091099472716
          ],
          [
           0.048307561803085264,
           0.007539786303823348
          ],
          [
           -0.045035727496724576,
           0.012233906716573983
          ],
          [
           -0.1909781158901751,
           0.012804087135009468
          ],
          [
           0.004839980545511935,
           0.01592391081067035
          ],
          [
           -0.06837970744527411,
           0.0058431359502719715
          ],
          [
           -0.003971507496316917,
           0.02173708721238654
          ],
          [
           -0.11899336659553228,
           0.02325459605344804
          ],
          [
           -0.03293608981039142,
           0.02359797419194365
          ],
          [
           -0.030235289043048397,
           0.0070050373615231365
          ],
          [
           0.00794489741383586,
           0.018106654300936498
          ],
          [
           0.00941891717229737,
           0.01502573134348495
          ],
          [
           -0.26988994236307917,
           0.001249146655027289
          ],
          [
           0.8470449186643236,
           0.12559225501172477
          ],
          [
           0.007933602275443263,
           0.007497784521547146
          ],
          [
           0.013567382346082013,
           -0.010551626684900839
          ],
          [
           0.011049186825403012,
           -0.0022748020564904436
          ],
          [
           0.06630390606005676,
           -0.01038754204637371
          ],
          [
           0.10747166509827366,
           0.01588805947540095
          ],
          [
           0.008698536308656912,
           0.03168854582327185
          ],
          [
           0.033726751687936485,
           -0.017107321764342487
          ],
          [
           0.09465792163973674,
           -0.010864567651879042
          ],
          [
           -0.15171233806904638,
           0.000017575010133441538
          ],
          [
           0.000035140525142196566,
           0.008409615933487657
          ],
          [
           -0.21337769409728935,
           0.001842083096562419
          ],
          [
           -0.05578935734956758,
           -0.0002265426519443281
          ],
          [
           -0.07806908121710876,
           0.02502218106383225
          ],
          [
           -0.11191129466169514,
           0.00472067910595797
          ],
          [
           -0.058803912841540296,
           0.02799695240537403
          ],
          [
           0.21539701954316115,
           0.007740981782262679
          ],
          [
           -0.9450844888924621,
           -0.003662352974060923
          ],
          [
           -0.1035792238835711,
           -0.003181723441230133
          ],
          [
           -1.2038618659644271,
           -0.06947268026851816
          ],
          [
           -1.5488948127240292,
           -0.10705897703155642
          ],
          [
           -0.20253621292067692,
           -0.005092524865176529
          ],
          [
           0.07347069172828924,
           0.030134983055177145
          ],
          [
           0.9515290111448849,
           0.07073438483348582
          ],
          [
           -0.00778551006806083,
           0.015291238523786888
          ],
          [
           -0.07142689343163511,
           -0.0041611515553086065
          ],
          [
           0.10301823035115376,
           0.0024327351129613817
          ],
          [
           0.04114516868139617,
           0.023952160583576187
          ],
          [
           -0.0388779769782559,
           0.01733595140831312
          ],
          [
           -0.01130583824851783,
           0.010044118032965343
          ],
          [
           -1.4220500476367306,
           -0.09786435365094803
          ],
          [
           0.10851584083866328,
           0.019268341013230383
          ],
          [
           -0.00674823692679638,
           0.01177585150435334
          ],
          [
           0.015494463914365042,
           0.01698687853786396
          ],
          [
           -1.4524547641995014,
           -0.09819115480786422
          ],
          [
           0.012902849790407345,
           0.004025379865197465
          ],
          [
           -0.34358528246957576,
           -0.005186888993193861
          ],
          [
           -0.15440937378298258,
           0.007529785485530738
          ],
          [
           -0.004566386473015882,
           0.0031986328394850716
          ],
          [
           -0.001693020632956177,
           0.021778618975076824
          ],
          [
           0.0224121283608838,
           0.018426143062242772
          ],
          [
           -0.11843927567679202,
           0.0028656230788328685
          ],
          [
           -0.03112258739565732,
           0.028297833508986514
          ],
          [
           0.15552696811937494,
           0.029873880375816952
          ],
          [
           0.037687591480789706,
           0.03228710297844373
          ],
          [
           0.009319143166067079,
           0.02344807147164829
          ],
          [
           0.003027733189810533,
           0.010662073276762385
          ],
          [
           0.009465352886763867,
           0.008825241726299282
          ],
          [
           0.02751127036754042,
           0.01644535071682185
          ],
          [
           -0.008958325226558372,
           0.03146167311933823
          ],
          [
           0.35137832259351853,
           -0.022097717141150497
          ],
          [
           0.057079516773228534,
           0.016893806125153787
          ],
          [
           0.2499608688885928,
           0.041812929361185525
          ],
          [
           0.016831059074320365,
           0.005640166644298006
          ],
          [
           0.044847474579000846,
           0.0005633426189888269
          ],
          [
           -0.015125488411285914,
           0.02607744418492075
          ],
          [
           -0.00449108532484388,
           0.024559246354328934
          ],
          [
           0.3056090365498676,
           0.003200831553840544
          ],
          [
           1.0361950994483777,
           0.17683415496867383
          ],
          [
           -0.038357771634764504,
           0.010885074218094815
          ],
          [
           -0.009450292716792319,
           0.02948601086245617
          ],
          [
           -0.03520202649815474,
           -0.0006015353283146396
          ],
          [
           0.01619476445193868,
           0.02103576394438278
          ],
          [
           0.018617578585690353,
           0.013613693103252444
          ],
          [
           0.009165403338556644,
           0.006416733747755643
          ],
          [
           -0.875038743870391,
           -0.03177100132597843
          ],
          [
           -1.1943061516649323,
           -0.041069478102144785
          ],
          [
           0.973160517787619,
           0.08914285005448619
          ],
          [
           -0.041895670095982496,
           0.006098589648900088
          ],
          [
           -0.07932786519813817,
           0.02104252933349926
          ],
          [
           1.1035143158514984,
           0.08423390908865258
          ],
          [
           -0.6749510729423491,
           -0.046351127020898275
          ],
          [
           0.9779910857250798,
           0.11913916269986657
          ],
          [
           0.002816262473061215,
           0.01642475631524576
          ],
          [
           -0.009600267483619973,
           0.02695299420156516
          ],
          [
           0.02489518333459273,
           0.004184677556622773
          ],
          [
           -0.1590711416938575,
           0.005225380111369304
          ],
          [
           -1.2277009508543415,
           -0.08651187822397333
          ],
          [
           -0.021871842713153455,
           0.024141113935911562
          ],
          [
           0.044884497656312305,
           0.0026775383230415173
          ],
          [
           -1.3418938699542196,
           -0.10294529508246342
          ],
          [
           0.08063057481922442,
           0.017998275325226132
          ],
          [
           0.0012405861853039823,
           0.030959721792896744
          ],
          [
           0.15536256063933251,
           0.00023502168915001675
          ],
          [
           0.15204931059270166,
           0.018219353136373684
          ],
          [
           0.21723185725568328,
           0.007611065419041552
          ],
          [
           -0.05478659716027323,
           0.027818265356472693
          ],
          [
           -0.003587471663195174,
           0.016923626426432747
          ],
          [
           0.08485434114118107,
           0.027535380591871217
          ],
          [
           0.0023293151461984962,
           0.013228354247985408
          ],
          [
           0.022806204309745226,
           0.026273074247001205
          ],
          [
           -0.006706193751597311,
           0.012531209540611599
          ],
          [
           -0.00034764025622280315,
           0.019743458127777558
          ],
          [
           0.024117699125781655,
           0.025541635579429567
          ],
          [
           -1.0925310175225604,
           -0.026814070210093632
          ],
          [
           -0.9023366609835648,
           -0.008680363862367813
          ],
          [
           0.8003795491385972,
           0.09701883034722414
          ],
          [
           0.08330753026530147,
           0.02191925165243447
          ],
          [
           0.0021429448752314784,
           0.02715063657524297
          ],
          [
           0.03449733333400218,
           0.016873768407094758
          ],
          [
           1.3223789527837653,
           0.07844890796695836
          ],
          [
           -0.24989749045926146,
           0.002905129367718473
          ],
          [
           -0.082442194725445,
           0.008607743853644934
          ],
          [
           0.05538147615880007,
           0.006260499452764634
          ],
          [
           -1.037584405457892,
           -0.07161282882589148
          ],
          [
           -0.15294162906502606,
           0.015207363168883603
          ],
          [
           -1.4353457183606224,
           -0.10518187606066931
          ],
          [
           0.09295674346503802,
           0.028876700351247564
          ],
          [
           -0.08654924421716714,
           -0.035059742142038886
          ],
          [
           -0.9349577409957419,
           -0.04859437402774347
          ],
          [
           0.303232658203342,
           0.0106659142911667
          ],
          [
           -0.025342597626149654,
           0.03865102678537369
          ],
          [
           -1.3946780843325541,
           -0.08739509681618074
          ],
          [
           -0.22744708396930946,
           -0.009305569627031218
          ],
          [
           0.014174183997965883,
           0.010314455423213076
          ],
          [
           0.041245570209866855,
           0.012824417128285859
          ],
          [
           -0.008139425379340537,
           0.020940580216119997
          ],
          [
           0.01936870742792962,
           -0.005192556775000412
          ],
          [
           -0.00874748205387732,
           0.019640893595351372
          ],
          [
           -0.17544537385401782,
           0.015700886156992055
          ],
          [
           -0.004450297143193893,
           0.019961776633863337
          ],
          [
           0.04986253031529486,
           0.008631956181488931
          ],
          [
           0.03923691238742322,
           0.012091736774891615
          ],
          [
           -0.18751802865153877,
           -0.015331674941990059
          ],
          [
           -0.15054077786771813,
           0.004728317690023687
          ],
          [
           -0.052511247849906795,
           0.00915782649826724
          ],
          [
           0.03370039627770893,
           0.01954325576662086
          ],
          [
           -1.3043267602552078,
           -0.08541262897051638
          ],
          [
           0.7237662899060524,
           0.05008631294913357
          ],
          [
           -0.009820523278904147,
           0.02473773962992709
          ],
          [
           0.18728271259897156,
           0.0004708734850282781
          ],
          [
           -0.15963590019964613,
           0.0027078512066509575
          ],
          [
           0.04168043430399848,
           0.010107571310072672
          ],
          [
           0.05017879513616208,
           0.007735585924820043
          ],
          [
           -0.01850650942651555,
           0.01558724296046421
          ],
          [
           0.1966106409599888,
           0.0104801600027713
          ],
          [
           0.004678083139879163,
           0.014467775028606411
          ],
          [
           0.0009475393162574619,
           0.012602121307281777
          ],
          [
           -0.013407367441686802,
           0.017167745929327793
          ],
          [
           0.0014420167572097853,
           0.011861708320793696
          ],
          [
           -0.002441639378957916,
           0.010637289546139073
          ],
          [
           0.01347011837788159,
           0.00879264574177796
          ],
          [
           0.033192741124366876,
           0.0058683809111244045
          ],
          [
           -0.020028847378853243,
           0.006590507582586724
          ],
          [
           0.007798060243658256,
           0.02541481231310172
          ],
          [
           0.011869341687997803,
           0.023740771430311725
          ],
          [
           -0.0027315487823216245,
           0.009393250293214805
          ],
          [
           0.09940565829310799,
           0.03619357650313759
          ],
          [
           0.0331714057829231,
           0.009039271739311516
          ],
          [
           -0.020391547899635043,
           0.02180888402654091
          ],
          [
           -0.9234329020182486,
           -0.04545355139271123
          ],
          [
           0.05145263930899091,
           0.020428743358934298
          ],
          [
           0.023995962241315283,
           0.009729256635182537
          ],
          [
           0.12135217464674497,
           0.0007193961428129114
          ],
          [
           -0.9125807531891041,
           -0.04343737508315826
          ],
          [
           0.746595712058479,
           0.057049332215683535
          ],
          [
           -0.19298865627206396,
           0.002573878111434169
          ],
          [
           -0.0013234174766694196,
           -0.014011129569553304
          ],
          [
           0.0131136930140201,
           0.018203496612841263
          ],
          [
           0.18990005462546833,
           0.027929259260417894
          ],
          [
           0.0024516795019735582,
           0.02187169128592359
          ],
          [
           0.12090162285312545,
           0.028131489452789538
          ],
          [
           0.06001437857048586,
           0.015897447534371167
          ],
          [
           -0.054229368768574204,
           0.001531462105049286
          ],
          [
           0.1607823599842959,
           0.0063687064466648735
          ],
          [
           0.004755894311529119,
           0.024554818992328364
          ],
          [
           -1.4099485273982282,
           -0.10846564493112965
          ],
          [
           0.013101770317007322,
           0.017265976763155777
          ],
          [
           0.08315065291390056,
           0.0009792354903765954
          ],
          [
           -1.4970932780997828,
           -0.10370349825825542
          ],
          [
           0.11142873983772006,
           0.0023185625759651884
          ],
          [
           -0.14207567505945917,
           0.017855360536486842
          ],
          [
           0.00015311229799408466,
           0.01824692935042549
          ],
          [
           -0.10157370358501794,
           0.009734374114486855
          ],
          [
           -0.022108413802925497,
           0.02645621245028451
          ],
          [
           -0.08940378484840039,
           -0.03317216622235719
          ],
          [
           -1.3710749430247233,
           -0.08662487570109079
          ],
          [
           -1.3408986398935667,
           -0.0570717242298997
          ],
          [
           -0.02723767625138862,
           0.025369162038259674
          ],
          [
           -0.00483496055676369,
           0.012281900628295261
          ],
          [
           -0.01992844590859022,
           0.026029157583252527
          ],
          [
           -0.09014173596369801,
           0.02039424982649507
          ],
          [
           -0.018197774777945597,
           0.007414950399834197
          ],
          [
           -0.2799445266427938,
           -0.017093584552640095
          ],
          [
           -0.13415462297416525,
           0.0077044405552442186
          ],
          [
           0.00226719170314027,
           0.013281502462632488
          ],
          [
           0.8104617438439163,
           0.0906616878855857
          ],
          [
           -0.030952532331866678,
           -0.00848124527692562
          ],
          [
           -0.0028557956393342465,
           0.00022645495482720435
          ],
          [
           -0.009661763382609934,
           0.02559041214408353
          ],
          [
           -0.0004819272580789402,
           0.0265117753733648
          ],
          [
           0.0171548539728974,
           0.02050302836141782
          ],
          [
           0.003564253813237883,
           0.015109270709217526
          ],
          [
           0.006694271054584533,
           0.015415702771861106
          ],
          [
           0.0031977882827050053,
           0.01510345716815209
          ],
          [
           0.006303960144578014,
           0.017680064112937544
          ],
          [
           0.07343931627110578,
           -0.010424083651741967
          ],
          [
           0.1397996981831966,
           0.014444776039454155
          ],
          [
           -0.017719612551445607,
           0.022045277430152055
          ],
          [
           0.20213523433631053,
           0.019230648140364792
          ],
          [
           -0.018542904952482786,
           0.0070766681237728335
          ],
          [
           0.026312099733331706,
           0.010427025576063897
          ],
          [
           0.0030133004911476746,
           0.013259513900266029
          ],
          [
           0.006612067321839277,
           0.023534906889835838
          ],
          [
           -0.14711394864571048,
           0.004412099086039234
          ],
          [
           0.013528476752981078,
           0.015843771332583856
          ],
          [
           -0.16328235774562927,
           -0.006064771565434057
          ],
          [
           -0.23929571789631154,
           -0.011454264153144322
          ],
          [
           0.002894073666539043,
           0.012380178843159229
          ],
          [
           -0.007316760500543751,
           0.01983215937798377
          ],
          [
           0.008200293792469893,
           0.020192701755149756
          ],
          [
           0.0025520809867884964,
           0.009739600674947724
          ],
          [
           0.02623554359888658,
           0.036123387690167874
          ],
          [
           -0.04157438521360746,
           0.019818208333163057
          ],
          [
           -0.12851707785011968,
           0.020267130610591266
          ],
          [
           0.005675823187630158,
           0.01511171098536579
          ],
          [
           0.0072075737989507616,
           0.016880852810572833
          ],
          [
           -0.15562987972225528,
           0.00320150978222955
          ],
          [
           0.0011734426880138926,
           0.0131378886217135
          ],
          [
           -0.04052832692832453,
           0.006896136976138223
          ],
          [
           -0.1570580912666628,
           0.02008779729658272
          ],
          [
           0.04643758359452477,
           0.007095581582689192
          ],
          [
           -0.13050942047993885,
           0.006598681378818583
          ],
          [
           -0.011772077734349295,
           0.0231377067102585
          ],
          [
           0.05103220799355768,
           0.012173833412816748
          ],
          [
           0.012656238570343703,
           0.013915827323216945
          ],
          [
           -0.04962784177769208,
           -0.010964309774863068
          ],
          [
           -0.15463151214498794,
           0.02040981254685903
          ],
          [
           0.0056959034845931455,
           0.016368964381399564
          ],
          [
           -1.3397095094696851,
           -0.07028128027741332
          ],
          [
           0.004804212490853388,
           0.0151000726109487
          ],
          [
           -0.004735186514153611,
           0.01290439168951707
          ],
          [
           0.057552031394152436,
           0.015462911607755814
          ],
          [
           -1.1548684362132917,
           -0.0847255135231535
          ],
          [
           0.15832252287509618,
           0.025633583652961534
          ],
          [
           0.01950111189216841,
           0.018048963233013637
          ],
          [
           -0.014501743964501657,
           0.025913689154549502
          ],
          [
           -0.09931278692238266,
           0.00850047650601482
          ],
          [
           0.07866019511129707,
           -0.009020865429192781
          ],
          [
           0.011397454582038336,
           0.027315946921589784
          ],
          [
           0.006129512541519944,
           -0.00641610720049357
          ],
          [
           0.036025946399604436,
           -0.0050243017976754345
          ],
          [
           0.34267351117159706,
           0.025512815613183193
          ],
          [
           -0.04231484640331473,
           0.022818940356955864
          ],
          [
           -0.006726274055836257,
           0.02715405458729947
          ],
          [
           -0.21246215776045574,
           -0.021590666547126602
          ],
          [
           -0.16285941634123446,
           -0.010307479307812173
          ],
          [
           0.19424493020778755,
           0.019803680865152273
          ],
          [
           0.5290946532550151,
           0.11205277201224817
          ],
          [
           0.0064897029515122995,
           0.016366133917472325
          ],
          [
           -0.1663013058132492,
           0.018620284332428128
          ],
          [
           -0.974121862273023,
           -0.07597111148788827
          ],
          [
           0.006794045060814824,
           -0.022861998448206577
          ],
          [
           -1.3526795027573826,
           -0.023205007848446257
          ],
          [
           -0.025347617687657475,
           0.018948247656226158
          ],
          [
           0.7811432461749064,
           0.030489188342471607
          ],
          [
           0.019545037590432912,
           0.030089131265413016
          ],
          [
           -0.003942642004403751,
           -0.006393431329343002
          ],
          [
           -0.016817881441966165,
           0.01819804420665605
          ],
          [
           -0.37517661941819824,
           -0.0346485533809755
          ],
          [
           0.03954313701251522,
           0.017271327844355255
          ],
          [
           0.011265050074143801,
           0.018239146018458996
          ],
          [
           -0.079558788704162,
           -0.035265205915493425
          ],
          [
           -0.7688346478753374,
           -0.014401413303858135
          ],
          [
           0.01134976385947084,
           0.02520477925281739
          ],
          [
           0.021819759414938744,
           0.020436088925634976
          ],
          [
           0.1940949554555118,
           0.045764592941850424
          ],
          [
           0.012299813170102425,
           0.012306250588153489
          ],
          [
           0.031954664933437016,
           0.019086056236119475
          ],
          [
           0.009949790219252463,
           0.0184041569227702
          ],
          [
           0.6903558029953274,
           0.15745562675147085
          ],
          [
           -0.20461954435450025,
           -0.011099943454610184
          ],
          [
           -0.0366095302379108,
           -0.030750487952900585
          ],
          [
           0.008655865654873196,
           0.02048849102720851
          ],
          [
           0.0024585821229266003,
           0.01733392298046965
          ],
          [
           -0.01312561567465309,
           0.024193318080506288
          ],
          [
           -0.21491320978384465,
           -0.01656532392371446
          ],
          [
           -0.5277028372438508,
           -0.04606627497560112
          ],
          [
           0.03711844037025003,
           0.03181895717716543
          ],
          [
           -0.019929700923967175,
           0.02405116469890345
          ],
          [
           -0.015150588762480766,
           0.01569843740435317
          ],
          [
           -0.2349784527468728,
           0.008088561866316013
          ],
          [
           0.8209775476134382,
           0.07762326759984717
          ],
          [
           -0.2264913870676537,
           -0.009781638109416235
          ],
          [
           -0.15110365386499325,
           0.005621459880785551
          ],
          [
           -1.348193437581358,
           -0.1077041027820087
          ],
          [
           -0.23579986260301666,
           0.01424622366175754
          ],
          [
           0.015890422386291903,
           0.008955451186920982
          ],
          [
           0.22891169107606402,
           0.02941426223696908
          ],
          [
           0.12486183513829019,
           -0.0012834398221457377
          ],
          [
           -0.13617457599320915,
           0.004831933663808741
          ],
          [
           0.005442389672680292,
           0.024131967140419874
          ],
          [
           0.010773710186185781,
           0.010869169236684684
          ],
          [
           0.011809100804384798,
           0.006195759226102382
          ],
          [
           -0.00428902727435343,
           0.01699815728352405
          ],
          [
           0.08316885068052216,
           -0.0020729586904053576
          ],
          [
           0.028842845444160048,
           0.007844731073419098
          ],
          [
           0.017339969272143207,
           -0.011850422379211523
          ],
          [
           -1.5035246227416792,
           -0.1049693027525791
          ],
          [
           0.030420404284086544,
           0.007358812967140693
          ],
          [
           -0.016768308174505364,
           0.0205621811983292
          ],
          [
           -0.9198962586233392,
           -0.04391875443980098
          ],
          [
           0.19115193599282065,
           0.0033756952398107387
          ],
          [
           -0.004347385700384621,
           0.012130345356126782
          ],
          [
           0.8262994554679608,
           0.09690331864112522
          ],
          [
           -0.011039774224627763,
           0.013160017144400626
          ],
          [
           0.8907955067479634,
           0.2089734697729
          ],
          [
           0.046189717344532255,
           0.01966883484419668
          ],
          [
           0.762764748709742,
           0.05683609686093405
          ],
          [
           0.025698395489598624,
           0.016799811433884315
          ],
          [
           0.12228967375995126,
           0.02149617600662168
          ],
          [
           -0.006794045075366739,
           0.01235205391276395
          ],
          [
           0.023610671480128076,
           0.008986167224065866
          ],
          [
           0.024946011610154528,
           0.003767571302887518
          ],
          [
           0.003406121402804274,
           0.019422765828494448
          ],
          [
           -0.17719110524922144,
           0.004744549238239415
          ],
          [
           0.012075164791895077,
           0.010269212041748688
          ],
          [
           -0.002309862364199944,
           0.024341449185158126
          ],
          [
           0.0027597866719588637,
           0.023736536619253457
          ],
          [
           0.1353255556532531,
           0.04291607424238464
          ],
          [
           0.13392683701385977,
           0.04126741004438372
          ],
          [
           0.1591420502445544,
           -0.02085107047605561
          ],
          [
           0.15267995766771492,
           0.021010345299146138
          ],
          [
           -0.1898981721169548,
           -0.016465229520690627
          ],
          [
           -1.3029060787739581,
           -0.08126423184148734
          ],
          [
           0.5921078996252618,
           -0.0006878903150209226
          ],
          [
           -0.020761150975886267,
           0.03361699055676581
          ],
          [
           0.03440132435935084,
           0.013302775347256102
          ],
          [
           -0.07025721569516463,
           0.03141198232333409
          ],
          [
           0.008530991275620181,
           0.02020383417402627
          ],
          [
           0.017983794008614495,
           0.010046758252428845
          ],
          [
           0.1981480391259538,
           0.025487794147920795
          ],
          [
           -0.030080921635089908,
           0.0011338924159645103
          ],
          [
           -0.006570651654328685,
           0.032580217004579026
          ],
          [
           0.08156619147484889,
           0.009202281325997319
          ],
          [
           -1.050196718359075,
           -0.031227567051246297
          ],
          [
           0.024201785381592344,
           0.012689330666034948
          ],
          [
           0.455854884989094,
           -0.024644618446473032
          ],
          [
           0.02189129551697988,
           0.014352574668009765
          ],
          [
           -0.010417284800496418,
           0.02126717566716252
          ],
          [
           0.003930719321942888,
           0.018666821168153547
          ],
          [
           -0.003591864231566433,
           0.019637819052150007
          ],
          [
           -0.17343546104530105,
           0.016545527927519288
          ],
          [
           -0.9135728456094512,
           0.025486791877483483
          ],
          [
           -0.17218483466422185,
           -0.006079917249735445
          ],
          [
           -0.061837293622375,
           0.009266081666282844
          ],
          [
           0.0006664150350843556,
           0.024884467195079196
          ],
          [
           -1.0535633067047456,
           -0.03054937547130976
          ],
          [
           0.040021926746703684,
           -0.004153781337663531
          ],
          [
           -0.09841231079917634,
           0.022210801624169108
          ],
          [
           -0.22774954358465038,
           -0.008495258138282225
          ],
          [
           0.023033362740534358,
           0.01985927221539896
          ],
          [
           0.02303022520209197,
           0.02105364752060268
          ],
          [
           0.0021969106819597073,
           0.02510246379097225
          ],
          [
           -0.13855534692265792,
           0.010544146709435154
          ],
          [
           0.043000714205845725,
           0.009741575158841442
          ],
          [
           0.008757522205996793,
           0.028386392623360734
          ],
          [
           -0.017563362707733177,
           0.02275334765727166
          ],
          [
           -0.9329026474879356,
           -0.057379382153158076
          ],
          [
           0.010037014064437244,
           0.02488724623253802
          ],
          [
           -0.19983352957933675,
           0.010105150358867832
          ],
          [
           0.03364329298347002,
           0.019515826388669666
          ],
          [
           0.020793781426618807,
           0.010204356090980582
          ],
          [
           -0.09798560439958237,
           0.014084293419728056
          ],
          [
           -0.00179593210486928,
           0.012699354636424687
          ],
          [
           -0.1363182756540482,
           -0.006190101332322229
          ],
          [
           0.045560325372207444,
           0.006078228347178083
          ],
          [
           -0.03528109267790569,
           0.008821036382869352
          ],
          [
           0.025109164096647874,
           -0.0153846986067947
          ],
          [
           -0.10014737452729605,
           0.016565346420975402
          ],
          [
           -0.8838903924406623,
           -0.04099243222299265
          ],
          [
           -0.1204862116210279,
           0.009873647351923864
          ],
          [
           -1.1368557767418679,
           -0.08104991001891904
          ],
          [
           -0.27159237551677506,
           0.009756815576110967
          ],
          [
           -0.04857237088435795,
           -0.039651210987358354
          ],
          [
           0.020316874237323646,
           0.030431837752985302
          ],
          [
           -0.3768746600471786,
           -0.0038947670473135076
          ],
          [
           0.024655474720930215,
           -0.0018882339136325754
          ],
          [
           0.014905860029102769,
           0.02447413905611029
          ],
          [
           0.014423305219679605,
           0.024966257558844518
          ],
          [
           0.007312995374377351,
           0.016783122315246146
          ],
          [
           0.007130390134989284,
           0.019451493499218486
          ],
          [
           0.007862693702918477,
           0.023723550213617273
          ],
          [
           -0.7333596547687193,
           0.016640756526612677
          ],
          [
           0.09269256199331721,
           0.04056482094892999
          ],
          [
           -0.1680068765344913,
           0.017386071915098
          ],
          [
           -0.08581505812617252,
           0.006947406531253364
          ],
          [
           0.052781076861720067,
           0.011111671446997207
          ],
          [
           -0.01047438818932278,
           0.023540614238299895
          ],
          [
           0.005112947175803129,
           0.012864270807767753
          ],
          [
           -0.014458445832133293,
           0.017931340262293816
          ],
          [
           0.7939996603017789,
           0.09633404657506617
          ],
          [
           -0.08363258020108333,
           0.015731184546893928
          ],
          [
           0.002505645308701787,
           -0.013349184264370706
          ],
          [
           0.019107035928755067,
           0.016189453410333954
          ],
          [
           -0.005290532382787205,
           0.01788665096682962
          ],
          [
           0.10578931219060905,
           0.05619469450903125
          ],
          [
           0.0036439475079532713,
           0.022319829411571845
          ]
         ],
         "hovertemplate": "%{text}<br>E true: %{customdata[0]:.5f}<br>E error: %{customdata[1]:.5f}",
         "marker": {
          "color": "#EF553B",
          "line": {
           "width": 1.5
          },
          "opacity": 0.7,
          "size": [
           9.309678676471464,
           9.162759112454433,
           9.277210156938889,
           9.291858323611441,
           9.375033667417624,
           9.123965120049357,
           9.54456411487134,
           9.592160535259199,
           9.603132429638912,
           9.150389691594574,
           9.436390092679103,
           9.350553659968202,
           9.025297621723684,
           20.327654848159007,
           9.161782763494191,
           8.809747722364866,
           8.955523385357514,
           8.812409430677004,
           9.37404808494398,
           9.884704258343094,
           8.710244192281788,
           8.804695484673967,
           9.000351561986104,
           9.1831641333209,
           9.037528727536566,
           8.995479395791254,
           9.6494528407931,
           9.099014184552283,
           9.750565796745951,
           9.167447376221979,
           8.929371191695317,
           8.938347932273222,
           8.24921143522762,
           8.117516146169354,
           8.903164567114178,
           9.827044549577058,
           12.115201074267372,
           9.357744368801827,
           8.920145903174447,
           9.049857774627563,
           9.614528900543798,
           9.414419257561944,
           9.222480951510883,
           8.141241078357815,
           9.470153504641022,
           9.26556293372064,
           9.404578939605852,
           8.140320933720588,
           9.083837080850707,
           8.901461647827935,
           9.162526564859835,
           9.066063248771377,
           9.545847617264286,
           9.445597688413685,
           9.058986651344004,
           9.761131799344144,
           9.817528493335878,
           9.907401910083141,
           9.598333348942136,
           9.237683473066854,
           9.193040194529477,
           9.389448650775828,
           9.876171871614538,
           8.642778982259339,
           9.401966820507345,
           10.307716684028186,
           9.119411759818663,
           9.01133056240672,
           9.684634933574285,
           9.634251542039603,
           9.066110129173515,
           42.3527852351337,
           9.24321589283553,
           9.803483761156516,
           8.988041373038197,
           9.523050572015979,
           9.312946518324633,
           9.136933442180453,
           8.529712948098483,
           8.439820072410448,
           13.946822248998714,
           9.12972223523095,
           9.523256666554037,
           13.390715822561505,
           8.395730228745949,
           18.835017541976814,
           9.388876471351177,
           9.71439437481265,
           9.087295642230902,
           9.110163833552035,
           8.1772422984936,
           9.620641856868598,
           9.05501054955985,
           8.127593493385369,
           9.43327997487134,
           9.857431159071643,
           9.004711498150858,
           9.439631333961614,
           9.164417903359938,
           9.744320893503161,
           9.402803211356238,
           9.73447992225493,
           9.302866823028888,
           9.691239149714157,
           9.284827143744812,
           9.484189990591409,
           9.6666784797462,
           8.58491929168371,
           8.840626966177584,
           14.961372178129231,
           9.550201671400831,
           9.721184525659778,
           9.40140508875554,
           12.801739073804814,
           9.059823714644581,
           9.187861791525355,
           9.13338642682506,
           8.23876951218824,
           9.35546865228477,
           8.122011799560907,
           9.78163949862374,
           8.49599231673006,
           8.378368201073018,
           9.237778555919915,
           10.166299767262197,
           8.174138914981977,
           8.830181113847724,
           9.229108498303896,
           9.292383699833815,
           9.520153937380053,
           8.901359467860845,
           9.481148605991429,
           9.368913997786596,
           9.490684682216466,
           9.188437148804098,
           9.273583697247258,
           8.735920267119457,
           9.099182095622746,
           9.201002386230236,
           9.47825910547687,
           8.181182117522944,
           10.722978339413679,
           9.640096026061565,
           9.009461953600615,
           9.05565035172265,
           9.224033344798444,
           9.16732139542757,
           9.365806175703245,
           9.23318863367951,
           9.335566438776727,
           9.286650623753632,
           9.409668990876677,
           9.267737944671254,
           9.237070136811148,
           9.192262681600724,
           9.124532752444978,
           9.140891702300468,
           9.662456364459954,
           9.607717431452262,
           9.206670610898083,
           10.062402427157423,
           9.198158068668555,
           9.546783603666318,
           8.402898331566597,
           9.50467189908105,
           9.21480689827863,
           9.014491927221947,
           8.419476614119084,
           11.129854895817394,
           9.05282556296789,
           8.75561552922336,
           9.439174855384575,
           9.74819737428268,
           9.548727809293029,
           9.755282458629848,
           9.374306102055009,
           9.031103143374208,
           9.135841889612664,
           9.63410683998265,
           8.11425609546696,
           9.412441172329887,
           9.019777748378717,
           8.125673253662294,
           9.047463211089683,
           9.429189086045367,
           9.440425544591127,
           9.214931239624876,
           9.69744511825928,
           8.51507470816192,
           8.17684219212263,
           8.319360575251245,
           9.660939225344508,
           9.278436711746778,
           9.683008812979164,
           9.503634228072363,
           9.15985965182999,
           8.710439354587015,
           9.166594488723366,
           9.304252460251202,
           14.130239122254615,
           8.843981329953934,
           9.004539370967443,
           9.668305170073348,
           9.699332466981952,
           9.506909051653588,
           9.352812033997012,
           9.361128391591711,
           9.352654750574658,
           9.424187224545877,
           8.811815912688157,
           9.334952246484823,
           9.554113907180344,
           9.469045636098103,
           9.152038938490485,
           9.231878834335696,
           9.303679013621839,
           9.601111599644618,
           9.092252395166387,
           9.372831543050859,
           8.88577223608322,
           8.795260708343966,
           9.280952032506242,
           9.486825317622461,
           9.49758533611443,
           9.215058244494342,
           10.059509306714853,
           9.486410520160797,
           9.499816267408965,
           9.352878060307017,
           9.401603665204863,
           9.066124590594704,
           9.300511661021554,
           9.147886860561458,
           9.494446562402539,
           9.15247480174477,
           9.141078225872054,
           9.588442750662038,
           9.27567655373509,
           9.320904258610469,
           8.803091843991083,
           9.504102313695864,
           9.387327573587699,
           8.245213601467198,
           9.352563190925986,
           9.294452510301575,
           9.362414144222448,
           8.183689165013487,
           9.669746257152076,
           9.434733710879206,
           9.679126609761033,
           9.185316147472014,
           8.834921718701768,
           9.726884535374616,
           8.879569985298254,
           8.904397741376702,
           9.665718084207862,
           9.578348121074638,
           9.721302190270725,
           8.649330575299256,
           8.813711347225933,
           9.485978707269664,
           17.403250621028953,
           9.387249040197533,
           9.451221603115568,
           8.218838288684182,
           8.633028414661865,
           8.628700582568902,
           9.460771839357546,
           9.840033479525093,
           9.825369852321547,
           8.879968976079141,
           9.43901792462357,
           8.500088064224615,
           9.412592342167015,
           9.44020133583876,
           8.493958329638875,
           8.749740399719538,
           9.655487595469708,
           9.504892968675412,
           10.497504064176159,
           9.279059461025916,
           9.464803530676477,
           9.444962165902817,
           31.31536382803105,
           8.8009162700966,
           8.540635619189201,
           9.506470986529527,
           9.414361877777772,
           9.622334824950956,
           8.717985088342857,
           8.397991154224203,
           9.88962641127938,
           9.617728967805904,
           9.368846956792988,
           9.175591279153746,
           12.723099944852303,
           8.822314164088976,
           9.118993026733676,
           8.116009632139212,
           9.32966159929005,
           9.196151145928955,
           9.800897667467927,
           8.974657846302353,
           9.101462313941228,
           9.620345410392177,
           9.242820489214449,
           9.131919862603583,
           9.404895813116251,
           8.959388502721051,
           9.16987232797708,
           8.788984622975399,
           8.122531632841886,
           9.158558151732679,
           9.5086928655295,
           8.415457444961918,
           9.069845135473068,
           9.274567502224217,
           14.945308341344097,
           9.301087356440965,
           73.33117899536532,
           9.481976540140563,
           11.116535403491227,
           9.399333747462393,
           9.53713995879219,
           9.280231701382784,
           9.196886192143491,
           9.07826301402978,
           9.47470108728953,
           9.09953898209147,
           9.227996820847224,
           9.627148316703444,
           9.607581269627392,
           10.35919741981223,
           10.28267545658543,
           8.659006810772858,
           9.52227649115017,
           8.719423853761974,
           8.196855634865175,
           8.986336399798741,
           9.958815220501798,
           9.304807482554224,
           9.874308228352277,
           9.49791880818186,
           9.222545505575276,
           9.66488471860192,
           9.02293694560416,
           9.918616474493916,
           9.202070668146415,
           8.535501632243655,
           9.28889674152585,
           8.610857012722017,
           9.33249282624217,
           9.530115944639494,
           9.452572937113006,
           9.481057531684042,
           9.392235263199101,
           9.664851345641708,
           8.885503964183874,
           9.203605497518026,
           9.644916040823258,
           8.542814569813427,
           8.920281546682856,
           9.559267301626434,
           8.843744831228436,
           9.487631777318835,
           9.523595421268531,
           9.652103419627567,
           9.234767797506208,
           9.21510622770043,
           9.764253848836269,
           9.576278916332587,
           8.317401532355882,
           9.645007469029942,
           9.223974079733217,
           9.47744837332171,
           9.226404995436793,
           9.325362316395214,
           9.289155164684693,
           8.883554743864808,
           9.129262276585001,
           9.192939855874247,
           8.73514025699118,
           9.39278721268901,
           8.440498321322034,
           9.21832010535688,
           8.197701255088038,
           9.215476658671527,
           8.452474342210438,
           9.837924149375121,
           8.925061237511139,
           8.96293951482123,
           9.631472173489087,
           9.647609008437612,
           9.398866752465562,
           9.475548625289182,
           9.607163789796154,
           9.394889402170618,
           10.25082410710105,
           9.415837796622032,
           9.14906449720061,
           9.248862864576857,
           9.601294372112461,
           9.293414235400412,
           9.431362524897693,
           14.866681391383217,
           9.369743766968849,
           8.76568556330337,
           9.382355693599822,
           9.43008376479587,
           11.076811674411298,
           9.562671080619976
          ],
          "symbol": "circle-open"
         },
         "mode": "markers",
         "name": "Data Set",
         "text": [
          "R index: 1000",
          "R index: 1001",
          "R index: 1002",
          "R index: 1003",
          "R index: 1004",
          "R index: 1005",
          "R index: 1006",
          "R index: 1007",
          "R index: 1008",
          "R index: 1009",
          "R index: 1010",
          "R index: 1011",
          "R index: 1012",
          "R index: 1013",
          "R index: 1014",
          "R index: 1015",
          "R index: 1016",
          "R index: 1017",
          "R index: 1018",
          "R index: 1019",
          "R index: 1020",
          "R index: 1021",
          "R index: 1022",
          "R index: 1023",
          "R index: 1024",
          "R index: 1025",
          "R index: 1026",
          "R index: 1027",
          "R index: 1028",
          "R index: 1029",
          "R index: 1030",
          "R index: 1031",
          "R index: 1032",
          "R index: 1033",
          "R index: 1034",
          "R index: 1035",
          "R index: 1036",
          "R index: 1037",
          "R index: 1038",
          "R index: 1039",
          "R index: 1040",
          "R index: 1041",
          "R index: 1042",
          "R index: 1043",
          "R index: 1044",
          "R index: 1045",
          "R index: 1046",
          "R index: 1047",
          "R index: 1048",
          "R index: 1049",
          "R index: 1050",
          "R index: 1051",
          "R index: 1052",
          "R index: 1053",
          "R index: 1054",
          "R index: 1055",
          "R index: 1056",
          "R index: 1057",
          "R index: 1058",
          "R index: 1059",
          "R index: 1060",
          "R index: 1061",
          "R index: 1062",
          "R index: 1063",
          "R index: 1064",
          "R index: 1065",
          "R index: 1066",
          "R index: 1067",
          "R index: 1068",
          "R index: 1069",
          "R index: 1070",
          "R index: 1071",
          "R index: 1072",
          "R index: 1073",
          "R index: 1074",
          "R index: 1075",
          "R index: 1076",
          "R index: 1077",
          "R index: 1078",
          "R index: 1079",
          "R index: 1080",
          "R index: 1081",
          "R index: 1082",
          "R index: 1083",
          "R index: 1084",
          "R index: 1085",
          "R index: 1086",
          "R index: 1087",
          "R index: 1088",
          "R index: 1089",
          "R index: 1090",
          "R index: 1091",
          "R index: 1092",
          "R index: 1093",
          "R index: 1094",
          "R index: 1095",
          "R index: 1096",
          "R index: 1097",
          "R index: 1098",
          "R index: 1099",
          "R index: 1100",
          "R index: 1101",
          "R index: 1102",
          "R index: 1103",
          "R index: 1104",
          "R index: 1105",
          "R index: 1106",
          "R index: 1107",
          "R index: 1108",
          "R index: 1109",
          "R index: 1110",
          "R index: 1111",
          "R index: 1112",
          "R index: 1113",
          "R index: 1114",
          "R index: 1115",
          "R index: 1116",
          "R index: 1117",
          "R index: 1118",
          "R index: 1119",
          "R index: 1120",
          "R index: 1121",
          "R index: 1122",
          "R index: 1123",
          "R index: 1124",
          "R index: 1125",
          "R index: 1126",
          "R index: 1127",
          "R index: 1128",
          "R index: 1129",
          "R index: 1130",
          "R index: 1131",
          "R index: 1132",
          "R index: 1133",
          "R index: 1134",
          "R index: 1135",
          "R index: 1136",
          "R index: 1137",
          "R index: 1138",
          "R index: 1139",
          "R index: 1140",
          "R index: 1141",
          "R index: 1142",
          "R index: 1143",
          "R index: 1144",
          "R index: 1145",
          "R index: 1146",
          "R index: 1147",
          "R index: 1148",
          "R index: 1149",
          "R index: 1150",
          "R index: 1151",
          "R index: 1152",
          "R index: 1153",
          "R index: 1154",
          "R index: 1155",
          "R index: 1156",
          "R index: 1157",
          "R index: 1158",
          "R index: 1159",
          "R index: 1160",
          "R index: 1161",
          "R index: 1162",
          "R index: 1163",
          "R index: 1164",
          "R index: 1165",
          "R index: 1166",
          "R index: 1167",
          "R index: 1168",
          "R index: 1169",
          "R index: 1170",
          "R index: 1171",
          "R index: 1172",
          "R index: 1173",
          "R index: 1174",
          "R index: 1175",
          "R index: 1176",
          "R index: 1177",
          "R index: 1178",
          "R index: 1179",
          "R index: 1180",
          "R index: 1181",
          "R index: 1182",
          "R index: 1183",
          "R index: 1184",
          "R index: 1185",
          "R index: 1186",
          "R index: 1187",
          "R index: 1188",
          "R index: 1189",
          "R index: 1190",
          "R index: 1191",
          "R index: 1192",
          "R index: 1193",
          "R index: 1194",
          "R index: 1195",
          "R index: 1196",
          "R index: 1197",
          "R index: 1198",
          "R index: 1199",
          "R index: 1200",
          "R index: 1201",
          "R index: 1202",
          "R index: 1203",
          "R index: 1204",
          "R index: 1205",
          "R index: 1206",
          "R index: 1207",
          "R index: 1208",
          "R index: 1209",
          "R index: 1210",
          "R index: 1211",
          "R index: 1212",
          "R index: 1213",
          "R index: 1214",
          "R index: 1215",
          "R index: 1216",
          "R index: 1217",
          "R index: 1218",
          "R index: 1219",
          "R index: 1220",
          "R index: 1221",
          "R index: 1222",
          "R index: 1223",
          "R index: 1224",
          "R index: 1225",
          "R index: 1226",
          "R index: 1227",
          "R index: 1228",
          "R index: 1229",
          "R index: 1230",
          "R index: 1231",
          "R index: 1232",
          "R index: 1233",
          "R index: 1234",
          "R index: 1235",
          "R index: 1236",
          "R index: 1237",
          "R index: 1238",
          "R index: 1239",
          "R index: 1240",
          "R index: 1241",
          "R index: 1242",
          "R index: 1243",
          "R index: 1244",
          "R index: 1245",
          "R index: 1246",
          "R index: 1247",
          "R index: 1248",
          "R index: 1249",
          "R index: 1250",
          "R index: 1251",
          "R index: 1252",
          "R index: 1253",
          "R index: 1254",
          "R index: 1255",
          "R index: 1256",
          "R index: 1257",
          "R index: 1258",
          "R index: 1259",
          "R index: 1260",
          "R index: 1261",
          "R index: 1262",
          "R index: 1263",
          "R index: 1264",
          "R index: 1265",
          "R index: 1266",
          "R index: 1267",
          "R index: 1268",
          "R index: 1269",
          "R index: 1270",
          "R index: 1271",
          "R index: 1272",
          "R index: 1273",
          "R index: 1274",
          "R index: 1275",
          "R index: 1276",
          "R index: 1277",
          "R index: 1278",
          "R index: 1279",
          "R index: 1280",
          "R index: 1281",
          "R index: 1282",
          "R index: 1283",
          "R index: 1284",
          "R index: 1285",
          "R index: 1286",
          "R index: 1287",
          "R index: 1288",
          "R index: 1289",
          "R index: 1290",
          "R index: 1291",
          "R index: 1292",
          "R index: 1293",
          "R index: 1294",
          "R index: 1295",
          "R index: 1296",
          "R index: 1297",
          "R index: 1298",
          "R index: 1299",
          "R index: 1300",
          "R index: 1301",
          "R index: 1302",
          "R index: 1303",
          "R index: 1304",
          "R index: 1305",
          "R index: 1306",
          "R index: 1307",
          "R index: 1308",
          "R index: 1309",
          "R index: 1310",
          "R index: 1311",
          "R index: 1312",
          "R index: 1313",
          "R index: 1314",
          "R index: 1315",
          "R index: 1316",
          "R index: 1317",
          "R index: 1318",
          "R index: 1319",
          "R index: 1320",
          "R index: 1321",
          "R index: 1322",
          "R index: 1323",
          "R index: 1324",
          "R index: 1325",
          "R index: 1326",
          "R index: 1327",
          "R index: 1328",
          "R index: 1329",
          "R index: 1330",
          "R index: 1331",
          "R index: 1332",
          "R index: 1333",
          "R index: 1334",
          "R index: 1335",
          "R index: 1336",
          "R index: 1337",
          "R index: 1338",
          "R index: 1339",
          "R index: 1340",
          "R index: 1341",
          "R index: 1342",
          "R index: 1343",
          "R index: 1344",
          "R index: 1345",
          "R index: 1346",
          "R index: 1347",
          "R index: 1348",
          "R index: 1349",
          "R index: 1350",
          "R index: 1351",
          "R index: 1352",
          "R index: 1353",
          "R index: 1354",
          "R index: 1355",
          "R index: 1356",
          "R index: 1357",
          "R index: 1358",
          "R index: 1359",
          "R index: 1360",
          "R index: 1361",
          "R index: 1362",
          "R index: 1363",
          "R index: 1364",
          "R index: 1365",
          "R index: 1366",
          "R index: 1367",
          "R index: 1368",
          "R index: 1369",
          "R index: 1370",
          "R index: 1371",
          "R index: 1372",
          "R index: 1373",
          "R index: 1374",
          "R index: 1375",
          "R index: 1376",
          "R index: 1377",
          "R index: 1378",
          "R index: 1379",
          "R index: 1380",
          "R index: 1381",
          "R index: 1382",
          "R index: 1383",
          "R index: 1384",
          "R index: 1385",
          "R index: 1386",
          "R index: 1387",
          "R index: 1388",
          "R index: 1389",
          "R index: 1390",
          "R index: 1391",
          "R index: 1392",
          "R index: 1393",
          "R index: 1394",
          "R index: 1395",
          "R index: 1396",
          "R index: 1397",
          "R index: 1398",
          "R index: 1399",
          "R index: 1400",
          "R index: 1401",
          "R index: 1402",
          "R index: 1403",
          "R index: 1404",
          "R index: 1405",
          "R index: 1406",
          "R index: 1407",
          "R index: 1408",
          "R index: 1409",
          "R index: 1410"
         ],
         "type": "scatter",
         "x": [
          5.4309821128845215,
          2.558241605758667,
          6.18952751159668,
          10.992269515991211,
          4.901447772979736,
          12.552506446838379,
          5.390763282775879,
          7.160607814788818,
          4.864421367645264,
          7.1498122215271,
          5.421692371368408,
          4.500603675842285,
          0.5383018851280212,
          -0.6525557041168213,
          3.3221688270568848,
          3.466360569000244,
          3.1629650592803955,
          12.919937133789062,
          6.963851451873779,
          3.6016488075256348,
          6.946213245391846,
          3.6099629402160645,
          11.356268882751465,
          3.233689546585083,
          0.4837804138660431,
          -0.5061128735542297,
          -0.20636211335659027,
          -0.4087935984134674,
          -0.32029232382774353,
          -0.5217189788818359,
          2.0184032917022705,
          -0.506547749042511,
          2.0204920768737793,
          -11.236983299255371,
          -0.4663383960723877,
          -0.1998273730278015,
          -0.25002890825271606,
          3.2897801399230957,
          6.400569915771484,
          3.1611814498901367,
          3.340147018432617,
          7.086205005645752,
          3.376802682876587,
          2.98527193069458,
          2.2787346839904785,
          3.3800547122955322,
          3.235701560974121,
          -2.5944466590881348,
          4.43336820602417,
          7.832599639892578,
          5.294882297515869,
          7.770821571350098,
          5.34933614730835,
          10.995197296142578,
          0.3777625560760498,
          5.4620747566223145,
          11.054574012756348,
          7.048277854919434,
          5.261328220367432,
          7.1136345863342285,
          4.603788375854492,
          12.828474998474121,
          5.25675106048584,
          -1.9036086797714233,
          3.593358039855957,
          7.047979354858398,
          3.5876946449279785,
          7.051151752471924,
          5.14105224609375,
          3.527529716491699,
          6.350143909454346,
          -2.139500617980957,
          7.004288673400879,
          4.924727916717529,
          7.093936920166016,
          4.921212196350098,
          4.165062427520752,
          5.249398708343506,
          16.742788314819336,
          6.938126564025879,
          -5.0572428703308105,
          3.515962600708008,
          3.1841626167297363,
          5.1508893966674805,
          3.190751314163208,
          -3.675367832183838,
          4.956744194030762,
          5.069249629974365,
          4.234182357788086,
          0.3947907090187073,
          9.427474975585938,
          3.1948201656341553,
          3.22904634475708,
          3.180201768875122,
          11.355287551879883,
          3.2502946853637695,
          0.4561524987220764,
          0.4112588167190552,
          0.4900541305541992,
          7.520487308502197,
          5.0694146156311035,
          12.792468070983887,
          5.432070732116699,
          5.457111835479736,
          7.5112833976745605,
          5.467601299285889,
          5.420321464538574,
          2.7363781929016113,
          9.429600715637207,
          1.8726900815963745,
          3.2248146533966064,
          3.202927589416504,
          3.212217330932617,
          5.153916835784912,
          3.1896955966949463,
          3.194453716278076,
          3.2950124740600586,
          6.883741855621338,
          -0.11432180553674698,
          11.563446044921875,
          -0.0644678846001625,
          -0.5369120240211487,
          -11.212894439697266,
          -0.5164423584938049,
          -0.061552807688713074,
          6.09192419052124,
          -0.5655400156974792,
          5.098939418792725,
          -7.044778347015381,
          5.04598331451416,
          4.570669174194336,
          4.417724132537842,
          12.861757278442383,
          5.37194299697876,
          5.102421760559082,
          0.9345510005950928,
          0.8702141046524048,
          0.9937698841094971,
          0.9822352528572083,
          0.9778375029563904,
          -4.246218204498291,
          -1.241161584854126,
          5.41090202331543,
          5.974778175354004,
          12.797379493713379,
          5.089176654815674,
          11.011650085449219,
          4.5329155921936035,
          12.682005882263184,
          3.8646793365478516,
          4.897607326507568,
          4.974851131439209,
          6.038636684417725,
          3.8293097019195557,
          4.905797958374023,
          4.461460113525391,
          -7.051023006439209,
          5.325268745422363,
          5.412311553955078,
          3.9719293117523193,
          5.211786270141602,
          5.166299343109131,
          5.296694755554199,
          4.671195030212402,
          5.251893997192383,
          5.280359745025635,
          5.129100322723389,
          2.6055030822753906,
          -0.351066917181015,
          5.100074291229248,
          6.162476539611816,
          4.437682628631592,
          5.0286865234375,
          4.349348068237305,
          10.992100715637207,
          4.902377128601074,
          2.614055633544922,
          12.66742992401123,
          2.982386350631714,
          6.223835468292236,
          3.1437737941741943,
          4.426723957061768,
          -3.7981817722320557,
          3.156277656555176,
          5.100610256195068,
          5.100180149078369,
          5.227313995361328,
          1.0106958150863647,
          -0.979011058807373,
          -0.7371619939804077,
          -4.219421863555908,
          5.217159271240234,
          5.3743672370910645,
          5.6522088050842285,
          12.653350830078125,
          5.3745856285095215,
          6.136902809143066,
          2.611095666885376,
          4.523500442504883,
          14.69175910949707,
          3.053781270980835,
          -0.794627845287323,
          5.619641304016113,
          4.434414863586426,
          6.120065212249756,
          4.448692321777344,
          4.870066165924072,
          4.566402435302734,
          4.414144515991211,
          10.448609352111816,
          0.6793123483657837,
          4.775121212005615,
          12.710034370422363,
          5.134973049163818,
          5.16584587097168,
          5.696221828460693,
          5.269585609436035,
          11.005062103271484,
          5.578502178192139,
          0.5579785704612732,
          12.760805130004883,
          5.1224894523620605,
          5.294745922088623,
          5.143803596496582,
          5.681459426879883,
          0.3185732066631317,
          5.972469806671143,
          5.229395866394043,
          5.232512950897217,
          5.479500770568848,
          0.38367941975593567,
          4.378423690795898,
          6.2733988761901855,
          12.85412883758545,
          5.573268890380859,
          0.3282766044139862,
          5.3622355461120605,
          -7.051082611083984,
          4.562292575836182,
          12.552414894104004,
          0.3329727053642273,
          5.097250461578369,
          -6.8697004318237305,
          3.5143628120422363,
          3.2199361324310303,
          3.354241132736206,
          8.90000057220459,
          5.165140628814697,
          4.225843906402588,
          5.418184280395508,
          7.008000373840332,
          3.7624478340148926,
          3.5496203899383545,
          3.4044482707977295,
          5.455599308013916,
          2.5051379203796387,
          4.992603778839111,
          3.6723134517669678,
          11.170557022094727,
          4.975001335144043,
          3.4947245121002197,
          5.152586936950684,
          3.199955701828003,
          3.1924118995666504,
          2.726609945297241,
          3.3032779693603516,
          6.872056007385254,
          3.179933547973633,
          1.8248820304870605,
          3.11989688873291,
          3.2458407878875732,
          3.131854295730591,
          2.2967774868011475,
          3.140869617462158,
          3.1421947479248047,
          6.376731872558594,
          6.821623802185059,
          5.114465713500977,
          5.0262885093688965,
          2.51711368560791,
          4.9159674644470215,
          4.3490495681762695,
          5.228682041168213,
          5.762166500091553,
          12.868144989013672,
          2.544293165206909,
          4.959475517272949,
          5.010349750518799,
          11.024726867675781,
          5.0523529052734375,
          -3.812757730484009,
          4.929100036621094,
          4.983055591583252,
          4.287423133850098,
          4.973894119262695,
          -2.265937328338623,
          -0.5069935321807861,
          -0.35123422741889954,
          11.556129455566406,
          11.330681800842285,
          3.2609007358551025,
          4.981390953063965,
          4.95473575592041,
          5.0550336837768555,
          5.37063455581665,
          5.606880187988281,
          5.058459281921387,
          2.991943836212158,
          4.46004581451416,
          0.3800279498100281,
          3.198138952255249,
          -2.6171209812164307,
          5.493314743041992,
          5.9617228507995605,
          -2.582897901535034,
          3.1287448406219482,
          2.986452579498291,
          14.685818672180176,
          3.144712209701538,
          -4.870381832122803,
          5.266414642333984,
          -0.21825633943080902,
          5.186873435974121,
          6.202193260192871,
          3.182894706726074,
          2.3748252391815186,
          3.299184560775757,
          5.127729892730713,
          -0.47677719593048096,
          2.585864305496216,
          4.639521598815918,
          5.398035526275635,
          5.069738864898682,
          6.030048847198486,
          10.384450912475586,
          -0.6869755983352661,
          -0.7339011430740356,
          11.545574188232422,
          -2.455599069595337,
          5.280030727386475,
          5.387790203094482,
          12.606990814208984,
          5.458422660827637,
          5.415510177612305,
          6.184924602508545,
          5.006155490875244,
          3.5167605876922607,
          4.357998847961426,
          6.236292362213135,
          4.412347793579102,
          -0.9249436259269714,
          5.387203693389893,
          5.376086235046387,
          4.99216365814209,
          4.468270301818848,
          7.182557106018066,
          16.6440486907959,
          12.875380516052246,
          4.4985432624816895,
          3.2466511726379395,
          2.9847946166992188,
          0.5164506435394287,
          12.623799324035645,
          7.133881092071533,
          0.38406842947006226,
          6.100905895233154,
          3.8458001613616943,
          7.12265157699585,
          0.5416218042373657,
          0.39282774925231934,
          0.3737263083457947,
          3.169492483139038,
          5.212820053100586,
          7.443857669830322,
          12.697304725646973,
          7.480677604675293,
          6.015994071960449,
          4.813257694244385,
          7.771391868591309,
          11.059823036193848,
          7.1502275466918945,
          7.0919342041015625,
          7.490398406982422,
          17.49251365661621,
          1.024054765701294,
          -0.724014163017273,
          1.0126205682754517,
          6.3833327293396,
          3.1983261108398438,
          2.326375722885132,
          3.2504043579101562,
          -7.051587104797363,
          2.539979934692383,
          4.606996536254883,
          5.40144681930542,
          -0.4856959581375122,
          -4.207744121551514,
          0.9282186031341553,
          1.0096676349639893,
          0.8234403729438782,
          -7.05086088180542,
          5.1613993644714355,
          4.377684116363525,
          3.9585413932800293,
          5.1699700355529785,
          3.1739649772644043,
          3.4947891235351562,
          4.841619491577148,
          4.9267964363098145,
          -0.7059470415115356,
          5.398010730743408
         ],
         "y": [
          8.212495803833008,
          3.756687879562378,
          13.614179611206055,
          3.97983980178833,
          9.631402969360352,
          3.2971246242523193,
          8.764522552490234,
          5.926150798797607,
          9.175976753234863,
          5.945070266723633,
          8.191811561584473,
          9.653242111206055,
          -2.1240224838256836,
          4.9899187088012695,
          8.150364875793457,
          7.264218807220459,
          8.782864570617676,
          3.0682260990142822,
          6.460378646850586,
          8.7110013961792,
          6.305846691131592,
          6.915361404418945,
          3.74222469329834,
          8.79716682434082,
          -1.7016255855560303,
          11.414067268371582,
          11.321945190429688,
          11.465476036071777,
          11.238057136535645,
          11.500092506408691,
          8.479328155517578,
          11.461429595947266,
          8.472142219543457,
          10.94155216217041,
          11.630961418151855,
          11.276134490966797,
          10.75460147857666,
          7.735145568847656,
          13.986712455749512,
          7.235431671142578,
          7.9921488761901855,
          6.3228583335876465,
          7.999310493469238,
          -8.641071319580078,
          6.547740936279297,
          7.976541042327881,
          8.004076957702637,
          -4.405710220336914,
          8.617456436157227,
          5.460024833679199,
          12.052352905273438,
          5.534475326538086,
          8.13896656036377,
          3.9771153926849365,
          -2.0059540271759033,
          9.17400074005127,
          3.938450336456299,
          6.504044055938721,
          8.727325439453125,
          6.082636833190918,
          8.333169937133789,
          3.144239664077759,
          8.931102752685547,
          -4.142481803894043,
          8.166346549987793,
          6.183705806732178,
          8.207188606262207,
          6.190968990325928,
          8.083104133605957,
          8.714106559753418,
          13.842513084411621,
          -4.205849647521973,
          6.49699592590332,
          8.653971672058105,
          6.385783672332764,
          7.994280815124512,
          8.603696823120117,
          8.874378204345703,
          6.611638069152832,
          -3.2607152462005615,
          -4.921284198760986,
          -0.10333294421434402,
          -0.9763180017471313,
          22.01592254638672,
          0.4380227029323578,
          5.90010404586792,
          7.99582052230835,
          8.694931030273438,
          9.105168342590332,
          -1.9261635541915894,
          13.120245933532715,
          -0.47936907410621643,
          -0.42785778641700745,
          0.4471409320831299,
          3.7430837154388428,
          8.79708194732666,
          -1.615383267402649,
          -2.0447816848754883,
          -1.8385584354400635,
          5.845265865325928,
          10.808624267578125,
          3.1063435077667236,
          9.823155403137207,
          9.886286735534668,
          5.8729023933410645,
          9.835787773132324,
          9.84553337097168,
          1.6018884181976318,
          13.12393856048584,
          -13.2891206741333,
          -0.5001481771469116,
          -0.4705916941165924,
          -0.43785980343818665,
          22.021142959594727,
          -0.4998430907726288,
          -0.4989512860774994,
          -0.12939977645874023,
          -3.2086987495422363,
          11.34399700164795,
          -3.199150800704956,
          11.362265586853027,
          11.812480926513672,
          10.916367530822754,
          11.708261489868164,
          11.363137245178223,
          2.238999605178833,
          11.490809440612793,
          4.680288314819336,
          0.7394506335258484,
          8.585744857788086,
          9.351462364196777,
          10.287941932678223,
          3.0990545749664307,
          8.201591491699219,
          11.20697021484375,
          7.927865505218506,
          7.729160308837891,
          7.80875301361084,
          7.77634334564209,
          7.891200542449951,
          3.297811985015869,
          7.550426006317139,
          9.735163688659668,
          14.038214683532715,
          3.153006076812744,
          11.34765625,
          3.970055341720581,
          9.00578498840332,
          3.2187774181365967,
          9.906821250915527,
          7.964184284210205,
          8.596202850341797,
          14.056533813476562,
          9.818185806274414,
          7.953260898590088,
          8.795268058776855,
          0.7357396483421326,
          9.739997863769531,
          9.759867668151855,
          9.358292579650879,
          0.3852837085723877,
          0.15792065858840942,
          0.5508771538734436,
          -0.5941287875175476,
          0.4958912134170532,
          0.5368024706840515,
          0.3976147174835205,
          6.1417646408081055,
          16.891584396362305,
          0.2572058141231537,
          13.32442855834961,
          10.690889358520508,
          4.533711910247803,
          10.185930252075195,
          3.979106903076172,
          5.950591564178467,
          4.047595500946045,
          3.2301266193389893,
          9.601152420043945,
          3.796968460083008,
          8.039791107177734,
          5.931976318359375,
          6.217531681060791,
          7.222953796386719,
          4.662826061248779,
          10.05940055847168,
          12.008134841918945,
          7.85983943939209,
          1.487294316291809,
          0.8067930340766907,
          3.317295789718628,
          11.460647583007812,
          6.180758953094482,
          9.56016731262207,
          3.1730360984802246,
          6.180205821990967,
          13.35949420928955,
          4.0045552253723145,
          8.5883150100708,
          18.13148307800293,
          7.892866611480713,
          11.142999649047852,
          9.634137153625488,
          10.467167854309082,
          14.066816329956055,
          10.671586036682129,
          9.216700553894043,
          9.752067565917969,
          10.217374801635742,
          4.264710903167725,
          -2.3487677574157715,
          9.046177864074707,
          3.2008631229400635,
          10.760679244995117,
          11.902363777160645,
          9.562154769897461,
          9.816594123840332,
          3.9758353233337402,
          9.299450874328613,
          -2.103944778442383,
          3.165536880493164,
          11.242081642150879,
          9.872897148132324,
          10.306197166442871,
          9.477598190307617,
          -2.0287787914276123,
          14.19952392578125,
          12.007991790771484,
          8.873866081237793,
          8.576122283935547,
          -1.985481858253479,
          8.705649375915527,
          13.992573738098145,
          3.1182312965393066,
          11.562291145324707,
          -1.9931358098983765,
          8.816323280334473,
          0.7356934547424316,
          9.419928550720215,
          3.285274028778076,
          -2.0334632396698,
          9.587671279907227,
          17.21119499206543,
          8.046037673950195,
          9.711002349853516,
          7.630747318267822,
          12.212918281555176,
          0.3392748534679413,
          9.090046882629395,
          9.823058128356934,
          6.478306293487549,
          6.870813369750977,
          8.713643074035645,
          7.2631425857543945,
          12.215729713439941,
          4.706629753112793,
          8.032962799072266,
          8.680207252502441,
          3.8683440685272217,
          4.476830959320068,
          -0.021627945825457573,
          22.01947021484375,
          -0.9316284656524658,
          -0.9553908705711365,
          1.6360317468643188,
          -0.10635656118392944,
          -3.1975176334381104,
          -0.9712111353874207,
          -13.239619255065918,
          8.193099975585938,
          7.756704330444336,
          8.180330276489258,
          3.114048719406128,
          8.234843254089355,
          8.252606391906738,
          13.925007820129395,
          4.343527793884277,
          8.7720365524292,
          8.64291000366211,
          3.7261650562286377,
          7.957435607910156,
          8.741891860961914,
          8.883543968200684,
          4.380866050720215,
          3.0984885692596436,
          4.68853759765625,
          7.968188285827637,
          8.669594764709473,
          3.9592294692993164,
          4.546739101409912,
          6.236745834350586,
          7.956398010253906,
          8.620478630065918,
          9.166264533996582,
          4.503081321716309,
          10.894635200500488,
          11.554254531860352,
          11.344253540039062,
          -3.204369306564331,
          3.7617833614349365,
          8.81676959991455,
          4.499205112457275,
          4.492629051208496,
          4.580276012420654,
          6.203134536743164,
          9.516270637512207,
          11.150382995605469,
          9.65338134765625,
          5.9164719581604,
          -1.5471763610839844,
          7.964907169342041,
          11.0325927734375,
          12.331061363220215,
          14.112651824951172,
          -4.3996806144714355,
          7.233412265777588,
          9.602280616760254,
          18.132741928100586,
          7.975207328796387,
          2.1995251178741455,
          0.49981948733329773,
          17.095556259155273,
          0.3325551152229309,
          14.017602920532227,
          9.70234489440918,
          3.2624151706695557,
          7.728740215301514,
          10.00049877166748,
          11.57020092010498,
          3.916348695755005,
          9.504691123962402,
          8.82370376586914,
          4.616141319274902,
          14.127043724060059,
          6.20953369140625,
          11.157958984375,
          11.183987617492676,
          -3.2132456302642822,
          10.979207038879395,
          11.463740348815918,
          5.575344562530518,
          3.2092225551605225,
          9.703298568725586,
          5.582116603851318,
          13.690136909484863,
          4.498523712158203,
          9.799725532531738,
          6.429075717926025,
          3.826411485671997,
          5.964636325836182,
          1.286967158317566,
          5.5669732093811035,
          8.82264232635498,
          9.563434600830078,
          10.372243881225586,
          6.491440773010254,
          6.500519275665283,
          3.104996919631958,
          10.717330932617188,
          9.70445442199707,
          -8.639163970947266,
          -1.7409627437591553,
          3.2460882663726807,
          5.962822437286377,
          -2.009455680847168,
          14.007038116455078,
          9.845006942749023,
          6.110660552978516,
          -1.8165150880813599,
          -2.057621479034424,
          -2.0514414310455322,
          0.457188218832016,
          11.460124969482422,
          5.827000141143799,
          3.1400296688079834,
          5.896555423736572,
          14.013737678527832,
          9.179047584533691,
          5.53961706161499,
          3.9364304542541504,
          6.022963047027588,
          6.309808731079102,
          5.833003044128418,
          13.576788902282715,
          7.850165367126465,
          0.7794724106788635,
          7.852785110473633,
          13.90676498413086,
          9.637579917907715,
          3.0295000076293945,
          7.646223068237305,
          0.7352988123893738,
          3.7706782817840576,
          9.40349292755127,
          9.774759292602539,
          11.56811237335205,
          3.3445651531219482,
          7.913808822631836,
          7.790909290313721,
          7.750851631164551,
          0.7358907461166382,
          8.427464485168457,
          9.844033241271973,
          9.650460243225098,
          22.041547775268555,
          -0.9875074625015259,
          -0.04440005496144295,
          9.051774978637695,
          9.036554336547852,
          11.182527542114258,
          9.820886611938477
         ]
        }
       ],
       "layout": {
        "height": 800,
        "paper_bgcolor": "rgba(255, 255, 255 , 1)",
        "plot_bgcolor": "rgba(0, 0, 0, 0)",
        "template": {
         "data": {
          "bar": [
           {
            "error_x": {
             "color": "#2a3f5f"
            },
            "error_y": {
             "color": "#2a3f5f"
            },
            "marker": {
             "line": {
              "color": "#E5ECF6",
              "width": 0.5
             },
             "pattern": {
              "fillmode": "overlay",
              "size": 10,
              "solidity": 0.2
             }
            },
            "type": "bar"
           }
          ],
          "barpolar": [
           {
            "marker": {
             "line": {
              "color": "#E5ECF6",
              "width": 0.5
             },
             "pattern": {
              "fillmode": "overlay",
              "size": 10,
              "solidity": 0.2
             }
            },
            "type": "barpolar"
           }
          ],
          "carpet": [
           {
            "aaxis": {
             "endlinecolor": "#2a3f5f",
             "gridcolor": "white",
             "linecolor": "white",
             "minorgridcolor": "white",
             "startlinecolor": "#2a3f5f"
            },
            "baxis": {
             "endlinecolor": "#2a3f5f",
             "gridcolor": "white",
             "linecolor": "white",
             "minorgridcolor": "white",
             "startlinecolor": "#2a3f5f"
            },
            "type": "carpet"
           }
          ],
          "choropleth": [
           {
            "colorbar": {
             "outlinewidth": 0,
             "ticks": ""
            },
            "type": "choropleth"
           }
          ],
          "contour": [
           {
            "colorbar": {
             "outlinewidth": 0,
             "ticks": ""
            },
            "colorscale": [
             [
              0,
              "#0d0887"
             ],
             [
              0.1111111111111111,
              "#46039f"
             ],
             [
              0.2222222222222222,
              "#7201a8"
             ],
             [
              0.3333333333333333,
              "#9c179e"
             ],
             [
              0.4444444444444444,
              "#bd3786"
             ],
             [
              0.5555555555555556,
              "#d8576b"
             ],
             [
              0.6666666666666666,
              "#ed7953"
             ],
             [
              0.7777777777777778,
              "#fb9f3a"
             ],
             [
              0.8888888888888888,
              "#fdca26"
             ],
             [
              1,
              "#f0f921"
             ]
            ],
            "type": "contour"
           }
          ],
          "contourcarpet": [
           {
            "colorbar": {
             "outlinewidth": 0,
             "ticks": ""
            },
            "type": "contourcarpet"
           }
          ],
          "heatmap": [
           {
            "colorbar": {
             "outlinewidth": 0,
             "ticks": ""
            },
            "colorscale": [
             [
              0,
              "#0d0887"
             ],
             [
              0.1111111111111111,
              "#46039f"
             ],
             [
              0.2222222222222222,
              "#7201a8"
             ],
             [
              0.3333333333333333,
              "#9c179e"
             ],
             [
              0.4444444444444444,
              "#bd3786"
             ],
             [
              0.5555555555555556,
              "#d8576b"
             ],
             [
              0.6666666666666666,
              "#ed7953"
             ],
             [
              0.7777777777777778,
              "#fb9f3a"
             ],
             [
              0.8888888888888888,
              "#fdca26"
             ],
             [
              1,
              "#f0f921"
             ]
            ],
            "type": "heatmap"
           }
          ],
          "heatmapgl": [
           {
            "colorbar": {
             "outlinewidth": 0,
             "ticks": ""
            },
            "colorscale": [
             [
              0,
              "#0d0887"
             ],
             [
              0.1111111111111111,
              "#46039f"
             ],
             [
              0.2222222222222222,
              "#7201a8"
             ],
             [
              0.3333333333333333,
              "#9c179e"
             ],
             [
              0.4444444444444444,
              "#bd3786"
             ],
             [
              0.5555555555555556,
              "#d8576b"
             ],
             [
              0.6666666666666666,
              "#ed7953"
             ],
             [
              0.7777777777777778,
              "#fb9f3a"
             ],
             [
              0.8888888888888888,
              "#fdca26"
             ],
             [
              1,
              "#f0f921"
             ]
            ],
            "type": "heatmapgl"
           }
          ],
          "histogram": [
           {
            "marker": {
             "pattern": {
              "fillmode": "overlay",
              "size": 10,
              "solidity": 0.2
             }
            },
            "type": "histogram"
           }
          ],
          "histogram2d": [
           {
            "colorbar": {
             "outlinewidth": 0,
             "ticks": ""
            },
            "colorscale": [
             [
              0,
              "#0d0887"
             ],
             [
              0.1111111111111111,
              "#46039f"
             ],
             [
              0.2222222222222222,
              "#7201a8"
             ],
             [
              0.3333333333333333,
              "#9c179e"
             ],
             [
              0.4444444444444444,
              "#bd3786"
             ],
             [
              0.5555555555555556,
              "#d8576b"
             ],
             [
              0.6666666666666666,
              "#ed7953"
             ],
             [
              0.7777777777777778,
              "#fb9f3a"
             ],
             [
              0.8888888888888888,
              "#fdca26"
             ],
             [
              1,
              "#f0f921"
             ]
            ],
            "type": "histogram2d"
           }
          ],
          "histogram2dcontour": [
           {
            "colorbar": {
             "outlinewidth": 0,
             "ticks": ""
            },
            "colorscale": [
             [
              0,
              "#0d0887"
             ],
             [
              0.1111111111111111,
              "#46039f"
             ],
             [
              0.2222222222222222,
              "#7201a8"
             ],
             [
              0.3333333333333333,
              "#9c179e"
             ],
             [
              0.4444444444444444,
              "#bd3786"
             ],
             [
              0.5555555555555556,
              "#d8576b"
             ],
             [
              0.6666666666666666,
              "#ed7953"
             ],
             [
              0.7777777777777778,
              "#fb9f3a"
             ],
             [
              0.8888888888888888,
              "#fdca26"
             ],
             [
              1,
              "#f0f921"
             ]
            ],
            "type": "histogram2dcontour"
           }
          ],
          "mesh3d": [
           {
            "colorbar": {
             "outlinewidth": 0,
             "ticks": ""
            },
            "type": "mesh3d"
           }
          ],
          "parcoords": [
           {
            "line": {
             "colorbar": {
              "outlinewidth": 0,
              "ticks": ""
             }
            },
            "type": "parcoords"
           }
          ],
          "pie": [
           {
            "automargin": true,
            "type": "pie"
           }
          ],
          "scatter": [
           {
            "marker": {
             "colorbar": {
              "outlinewidth": 0,
              "ticks": ""
             }
            },
            "type": "scatter"
           }
          ],
          "scatter3d": [
           {
            "line": {
             "colorbar": {
              "outlinewidth": 0,
              "ticks": ""
             }
            },
            "marker": {
             "colorbar": {
              "outlinewidth": 0,
              "ticks": ""
             }
            },
            "type": "scatter3d"
           }
          ],
          "scattercarpet": [
           {
            "marker": {
             "colorbar": {
              "outlinewidth": 0,
              "ticks": ""
             }
            },
            "type": "scattercarpet"
           }
          ],
          "scattergeo": [
           {
            "marker": {
             "colorbar": {
              "outlinewidth": 0,
              "ticks": ""
             }
            },
            "type": "scattergeo"
           }
          ],
          "scattergl": [
           {
            "marker": {
             "colorbar": {
              "outlinewidth": 0,
              "ticks": ""
             }
            },
            "type": "scattergl"
           }
          ],
          "scattermapbox": [
           {
            "marker": {
             "colorbar": {
              "outlinewidth": 0,
              "ticks": ""
             }
            },
            "type": "scattermapbox"
           }
          ],
          "scatterpolar": [
           {
            "marker": {
             "colorbar": {
              "outlinewidth": 0,
              "ticks": ""
             }
            },
            "type": "scatterpolar"
           }
          ],
          "scatterpolargl": [
           {
            "marker": {
             "colorbar": {
              "outlinewidth": 0,
              "ticks": ""
             }
            },
            "type": "scatterpolargl"
           }
          ],
          "scatterternary": [
           {
            "marker": {
             "colorbar": {
              "outlinewidth": 0,
              "ticks": ""
             }
            },
            "type": "scatterternary"
           }
          ],
          "surface": [
           {
            "colorbar": {
             "outlinewidth": 0,
             "ticks": ""
            },
            "colorscale": [
             [
              0,
              "#0d0887"
             ],
             [
              0.1111111111111111,
              "#46039f"
             ],
             [
              0.2222222222222222,
              "#7201a8"
             ],
             [
              0.3333333333333333,
              "#9c179e"
             ],
             [
              0.4444444444444444,
              "#bd3786"
             ],
             [
              0.5555555555555556,
              "#d8576b"
             ],
             [
              0.6666666666666666,
              "#ed7953"
             ],
             [
              0.7777777777777778,
              "#fb9f3a"
             ],
             [
              0.8888888888888888,
              "#fdca26"
             ],
             [
              1,
              "#f0f921"
             ]
            ],
            "type": "surface"
           }
          ],
          "table": [
           {
            "cells": {
             "fill": {
              "color": "#EBF0F8"
             },
             "line": {
              "color": "white"
             }
            },
            "header": {
             "fill": {
              "color": "#C8D4E3"
             },
             "line": {
              "color": "white"
             }
            },
            "type": "table"
           }
          ]
         },
         "layout": {
          "annotationdefaults": {
           "arrowcolor": "#2a3f5f",
           "arrowhead": 0,
           "arrowwidth": 1
          },
          "autotypenumbers": "strict",
          "coloraxis": {
           "colorbar": {
            "outlinewidth": 0,
            "ticks": ""
           }
          },
          "colorscale": {
           "diverging": [
            [
             0,
             "#8e0152"
            ],
            [
             0.1,
             "#c51b7d"
            ],
            [
             0.2,
             "#de77ae"
            ],
            [
             0.3,
             "#f1b6da"
            ],
            [
             0.4,
             "#fde0ef"
            ],
            [
             0.5,
             "#f7f7f7"
            ],
            [
             0.6,
             "#e6f5d0"
            ],
            [
             0.7,
             "#b8e186"
            ],
            [
             0.8,
             "#7fbc41"
            ],
            [
             0.9,
             "#4d9221"
            ],
            [
             1,
             "#276419"
            ]
           ],
           "sequential": [
            [
             0,
             "#0d0887"
            ],
            [
             0.1111111111111111,
             "#46039f"
            ],
            [
             0.2222222222222222,
             "#7201a8"
            ],
            [
             0.3333333333333333,
             "#9c179e"
            ],
            [
             0.4444444444444444,
             "#bd3786"
            ],
            [
             0.5555555555555556,
             "#d8576b"
            ],
            [
             0.6666666666666666,
             "#ed7953"
            ],
            [
             0.7777777777777778,
             "#fb9f3a"
            ],
            [
             0.8888888888888888,
             "#fdca26"
            ],
            [
             1,
             "#f0f921"
            ]
           ],
           "sequentialminus": [
            [
             0,
             "#0d0887"
            ],
            [
             0.1111111111111111,
             "#46039f"
            ],
            [
             0.2222222222222222,
             "#7201a8"
            ],
            [
             0.3333333333333333,
             "#9c179e"
            ],
            [
             0.4444444444444444,
             "#bd3786"
            ],
            [
             0.5555555555555556,
             "#d8576b"
            ],
            [
             0.6666666666666666,
             "#ed7953"
            ],
            [
             0.7777777777777778,
             "#fb9f3a"
            ],
            [
             0.8888888888888888,
             "#fdca26"
            ],
            [
             1,
             "#f0f921"
            ]
           ]
          },
          "colorway": [
           "#636efa",
           "#EF553B",
           "#00cc96",
           "#ab63fa",
           "#FFA15A",
           "#19d3f3",
           "#FF6692",
           "#B6E880",
           "#FF97FF",
           "#FECB52"
          ],
          "font": {
           "color": "#2a3f5f"
          },
          "geo": {
           "bgcolor": "white",
           "lakecolor": "white",
           "landcolor": "#E5ECF6",
           "showlakes": true,
           "showland": true,
           "subunitcolor": "white"
          },
          "hoverlabel": {
           "align": "left"
          },
          "hovermode": "closest",
          "mapbox": {
           "style": "light"
          },
          "paper_bgcolor": "white",
          "plot_bgcolor": "#E5ECF6",
          "polar": {
           "angularaxis": {
            "gridcolor": "white",
            "linecolor": "white",
            "ticks": ""
           },
           "bgcolor": "#E5ECF6",
           "radialaxis": {
            "gridcolor": "white",
            "linecolor": "white",
            "ticks": ""
           }
          },
          "scene": {
           "xaxis": {
            "backgroundcolor": "#E5ECF6",
            "gridcolor": "white",
            "gridwidth": 2,
            "linecolor": "white",
            "showbackground": true,
            "ticks": "",
            "zerolinecolor": "white"
           },
           "yaxis": {
            "backgroundcolor": "#E5ECF6",
            "gridcolor": "white",
            "gridwidth": 2,
            "linecolor": "white",
            "showbackground": true,
            "ticks": "",
            "zerolinecolor": "white"
           },
           "zaxis": {
            "backgroundcolor": "#E5ECF6",
            "gridcolor": "white",
            "gridwidth": 2,
            "linecolor": "white",
            "showbackground": true,
            "ticks": "",
            "zerolinecolor": "white"
           }
          },
          "shapedefaults": {
           "line": {
            "color": "#2a3f5f"
           }
          },
          "ternary": {
           "aaxis": {
            "gridcolor": "white",
            "linecolor": "white",
            "ticks": ""
           },
           "baxis": {
            "gridcolor": "white",
            "linecolor": "white",
            "ticks": ""
           },
           "bgcolor": "#E5ECF6",
           "caxis": {
            "gridcolor": "white",
            "linecolor": "white",
            "ticks": ""
           }
          },
          "title": {
           "x": 0.05
          },
          "xaxis": {
           "automargin": true,
           "gridcolor": "white",
           "linecolor": "white",
           "ticks": "",
           "title": {
            "standoff": 15
           },
           "zerolinecolor": "white",
           "zerolinewidth": 2
          },
          "yaxis": {
           "automargin": true,
           "gridcolor": "white",
           "linecolor": "white",
           "ticks": "",
           "title": {
            "standoff": 15
           },
           "zerolinecolor": "white",
           "zerolinewidth": 2
          }
         }
        },
        "width": 1200
       }
      }
     },
     "metadata": {}
    }
   ],
   "metadata": {}
  },
  {
   "cell_type": "code",
   "execution_count": 25,
   "source": [
    "R_index = 1283\n",
    "r = umap_data.R[R_index]\n",
    "r_atoms = Atoms(numbers=umap_data.z, positions=r)\n",
    "view(r_atoms, viewer='ngl')"
   ],
   "outputs": [
    {
     "output_type": "display_data",
     "data": {
      "application/vnd.jupyter.widget-view+json": {
       "version_major": 2,
       "version_minor": 0,
       "model_id": "b88f898dca0d4d8c95304c431c69a961"
      },
      "text/plain": [
       "HBox(children=(NGLWidget(), VBox(children=(Dropdown(description='Show', options=('All', 'H', 'O'), value='All'…"
      ]
     },
     "metadata": {}
    }
   ],
   "metadata": {}
  },
  {
   "cell_type": "markdown",
   "source": [
    "## Playground\n",
    "\n",
    "Cells below this can be changed to whatever."
   ],
   "metadata": {}
  },
  {
   "cell_type": "code",
   "execution_count": 26,
   "source": [
    "R_index = 359\n",
    "r = umap_data.R[R_index]\n",
    "r_atoms = Atoms(numbers=umap_data.z, positions=r)\n",
    "view(r_atoms, viewer='ngl')"
   ],
   "outputs": [
    {
     "output_type": "display_data",
     "data": {
      "application/vnd.jupyter.widget-view+json": {
       "version_major": 2,
       "version_minor": 0,
       "model_id": "0127b9b28062487ea873d70d61896b59"
      },
      "text/plain": [
       "HBox(children=(NGLWidget(), VBox(children=(Dropdown(description='Show', options=('All', 'H', 'O'), value='All'…"
      ]
     },
     "metadata": {}
    }
   ],
   "metadata": {}
  }
 ]
}